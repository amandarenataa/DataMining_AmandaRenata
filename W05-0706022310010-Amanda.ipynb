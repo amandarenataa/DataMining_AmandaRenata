{
 "cells": [
  {
   "cell_type": "markdown",
   "metadata": {
    "id": "2-3pbMPFmCgK"
   },
   "source": [
    "# DATA DESCRIPTION (Target: Attrition)\n",
    "|Features: \n",
    "*   Employee_ID: Unique identifier for each employee. \n",
    "*   Age: Age of the employee. \n",
    "*   Gender: Gender of the employee. \n",
    "*   Marital_Status: Marital status of the employee (Single, Married, Divorced). \n",
    "*   Department: Department the employee works in (e.g., HR, IT, Sales, Marketing). \n",
    "*   Job_Role: Specific role within the department (e.g., Manager, Analyst). \n",
    "*   Job_Level: Level in the organizational hierarchy. \n",
    "*   Monthly_Income: Monthly salary of the employee. \n",
    "*   Hourly_Rate: Rate per hour for hourly employees. \n",
    "*   Years_at_Company: Number of years the employee has been with the company. \n",
    "*   Years_in_Current_Role: Number of years the employee has been in their current role. \n",
    "*   Years_Since_Last_Promotion: Time since the employee’s last promotion. \n",
    "*   Work_Life_Balance: Rating of work-life balance. \n",
    "*   Job_Satisfaction: Rating of job satisfaction (1-5 scale). \n",
    "*   Performance_Rating: Performance rating (1-5 scale). \n",
    "*   Training_Hours_Last_Year: Number of training hours completed in the past year. \n",
    "*   Overtime: Whether the employee works overtime (Yes/No). \n",
    "*   Project_Count: Number of projects managed by the employee. \n",
    "*   Average_Hours_Worked_Per_Week: Average working hours per week. \n",
    "*   Absenteeism: Number of days the employee was absent in the past year. \n",
    "*   Work_Environment_Satisfaction: Rating of work environment satisfaction. \n",
    "*   Relationship_with_Manager: Rating of the relationship with the manager. \n",
    "*   Job_Involvement: Rating of job involvement. \n",
    "*   Distance_From_Home: Distance from home to the workplace (in kilometers). \n",
    "*   Number_of_Companies_Worked: Total number of companies the employee has worked for.\n"
   ]
  },
  {
   "cell_type": "code",
   "execution_count": 35,
   "metadata": {
    "executionInfo": {
     "elapsed": 1,
     "status": "ok",
     "timestamp": 1759930913583,
     "user": {
      "displayName": "Nathalia Minoque",
      "userId": "00797020017705806857"
     },
     "user_tz": -420
    },
    "id": "a67lntpFyZ_e"
   },
   "outputs": [],
   "source": [
    "# import library\n",
    "import matplotlib.pyplot as plt\n",
    "import pandas as pd\n",
    "import numpy as np\n",
    "import seaborn as sns\n",
    "from sklearn import tree"
   ]
  },
  {
   "cell_type": "code",
   "execution_count": 36,
   "metadata": {
    "colab": {
     "base_uri": "https://localhost:8080/",
     "height": 313
    },
    "executionInfo": {
     "elapsed": 476,
     "status": "ok",
     "timestamp": 1759930914060,
     "user": {
      "displayName": "Nathalia Minoque",
      "userId": "00797020017705806857"
     },
     "user_tz": -420
    },
    "id": "RXSAplS0cVTI",
    "outputId": "4cb13302-1850-4bc1-c1bf-1f3733089f84"
   },
   "outputs": [
    {
     "data": {
      "text/html": [
       "<div>\n",
       "<style scoped>\n",
       "    .dataframe tbody tr th:only-of-type {\n",
       "        vertical-align: middle;\n",
       "    }\n",
       "\n",
       "    .dataframe tbody tr th {\n",
       "        vertical-align: top;\n",
       "    }\n",
       "\n",
       "    .dataframe thead th {\n",
       "        text-align: right;\n",
       "    }\n",
       "</style>\n",
       "<table border=\"1\" class=\"dataframe\">\n",
       "  <thead>\n",
       "    <tr style=\"text-align: right;\">\n",
       "      <th></th>\n",
       "      <th>Employee_ID</th>\n",
       "      <th>Age</th>\n",
       "      <th>Gender</th>\n",
       "      <th>Marital_Status</th>\n",
       "      <th>Department</th>\n",
       "      <th>Job_Role</th>\n",
       "      <th>Job_Level</th>\n",
       "      <th>Monthly_Income</th>\n",
       "      <th>Hourly_Rate</th>\n",
       "      <th>Years_at_Company</th>\n",
       "      <th>Years_in_Current_Role</th>\n",
       "      <th>Years_Since_Last_Promotion</th>\n",
       "      <th>Work_Life_Balance</th>\n",
       "      <th>Job_Satisfaction</th>\n",
       "      <th>Performance_Rating</th>\n",
       "      <th>Training_Hours_Last_Year</th>\n",
       "      <th>Overtime</th>\n",
       "      <th>Project_Count</th>\n",
       "      <th>Average_Hours_Worked_Per_Week</th>\n",
       "      <th>Absenteeism</th>\n",
       "      <th>Work_Environment_Satisfaction</th>\n",
       "      <th>Relationship_with_Manager</th>\n",
       "      <th>Job_Involvement</th>\n",
       "      <th>Distance_From_Home</th>\n",
       "      <th>Number_of_Companies_Worked</th>\n",
       "      <th>Attrition</th>\n",
       "    </tr>\n",
       "  </thead>\n",
       "  <tbody>\n",
       "    <tr>\n",
       "      <th>0</th>\n",
       "      <td>1</td>\n",
       "      <td>58</td>\n",
       "      <td>Female</td>\n",
       "      <td>Married</td>\n",
       "      <td>IT</td>\n",
       "      <td>Manager</td>\n",
       "      <td>1</td>\n",
       "      <td>15488</td>\n",
       "      <td>28</td>\n",
       "      <td>15</td>\n",
       "      <td>4</td>\n",
       "      <td>2</td>\n",
       "      <td>1</td>\n",
       "      <td>3</td>\n",
       "      <td>4</td>\n",
       "      <td>14</td>\n",
       "      <td>No</td>\n",
       "      <td>6</td>\n",
       "      <td>54</td>\n",
       "      <td>17</td>\n",
       "      <td>4</td>\n",
       "      <td>4</td>\n",
       "      <td>4</td>\n",
       "      <td>20</td>\n",
       "      <td>3</td>\n",
       "      <td>No</td>\n",
       "    </tr>\n",
       "    <tr>\n",
       "      <th>1</th>\n",
       "      <td>2</td>\n",
       "      <td>48</td>\n",
       "      <td>Female</td>\n",
       "      <td>Married</td>\n",
       "      <td>Sales</td>\n",
       "      <td>Assistant</td>\n",
       "      <td>5</td>\n",
       "      <td>13079</td>\n",
       "      <td>28</td>\n",
       "      <td>6</td>\n",
       "      <td>9</td>\n",
       "      <td>1</td>\n",
       "      <td>2</td>\n",
       "      <td>1</td>\n",
       "      <td>1</td>\n",
       "      <td>6</td>\n",
       "      <td>Yes</td>\n",
       "      <td>2</td>\n",
       "      <td>45</td>\n",
       "      <td>1</td>\n",
       "      <td>4</td>\n",
       "      <td>1</td>\n",
       "      <td>2</td>\n",
       "      <td>25</td>\n",
       "      <td>2</td>\n",
       "      <td>No</td>\n",
       "    </tr>\n",
       "    <tr>\n",
       "      <th>2</th>\n",
       "      <td>3</td>\n",
       "      <td>34</td>\n",
       "      <td>Male</td>\n",
       "      <td>Married</td>\n",
       "      <td>Marketing</td>\n",
       "      <td>Assistant</td>\n",
       "      <td>1</td>\n",
       "      <td>13744</td>\n",
       "      <td>24</td>\n",
       "      <td>24</td>\n",
       "      <td>14</td>\n",
       "      <td>8</td>\n",
       "      <td>3</td>\n",
       "      <td>2</td>\n",
       "      <td>1</td>\n",
       "      <td>77</td>\n",
       "      <td>Yes</td>\n",
       "      <td>6</td>\n",
       "      <td>34</td>\n",
       "      <td>2</td>\n",
       "      <td>3</td>\n",
       "      <td>4</td>\n",
       "      <td>4</td>\n",
       "      <td>45</td>\n",
       "      <td>3</td>\n",
       "      <td>No</td>\n",
       "    </tr>\n",
       "    <tr>\n",
       "      <th>3</th>\n",
       "      <td>4</td>\n",
       "      <td>27</td>\n",
       "      <td>Female</td>\n",
       "      <td>Divorced</td>\n",
       "      <td>Marketing</td>\n",
       "      <td>Manager</td>\n",
       "      <td>1</td>\n",
       "      <td>6809</td>\n",
       "      <td>26</td>\n",
       "      <td>10</td>\n",
       "      <td>8</td>\n",
       "      <td>2</td>\n",
       "      <td>3</td>\n",
       "      <td>5</td>\n",
       "      <td>4</td>\n",
       "      <td>49</td>\n",
       "      <td>No</td>\n",
       "      <td>9</td>\n",
       "      <td>48</td>\n",
       "      <td>18</td>\n",
       "      <td>2</td>\n",
       "      <td>3</td>\n",
       "      <td>1</td>\n",
       "      <td>35</td>\n",
       "      <td>3</td>\n",
       "      <td>No</td>\n",
       "    </tr>\n",
       "    <tr>\n",
       "      <th>4</th>\n",
       "      <td>5</td>\n",
       "      <td>40</td>\n",
       "      <td>Male</td>\n",
       "      <td>Divorced</td>\n",
       "      <td>Marketing</td>\n",
       "      <td>Executive</td>\n",
       "      <td>1</td>\n",
       "      <td>10206</td>\n",
       "      <td>52</td>\n",
       "      <td>29</td>\n",
       "      <td>10</td>\n",
       "      <td>1</td>\n",
       "      <td>2</td>\n",
       "      <td>5</td>\n",
       "      <td>1</td>\n",
       "      <td>64</td>\n",
       "      <td>No</td>\n",
       "      <td>3</td>\n",
       "      <td>33</td>\n",
       "      <td>0</td>\n",
       "      <td>4</td>\n",
       "      <td>1</td>\n",
       "      <td>3</td>\n",
       "      <td>44</td>\n",
       "      <td>3</td>\n",
       "      <td>No</td>\n",
       "    </tr>\n",
       "  </tbody>\n",
       "</table>\n",
       "</div>"
      ],
      "text/plain": [
       "   Employee_ID  Age  Gender Marital_Status Department   Job_Role  Job_Level  \\\n",
       "0            1   58  Female        Married         IT    Manager          1   \n",
       "1            2   48  Female        Married      Sales  Assistant          5   \n",
       "2            3   34    Male        Married  Marketing  Assistant          1   \n",
       "3            4   27  Female       Divorced  Marketing    Manager          1   \n",
       "4            5   40    Male       Divorced  Marketing  Executive          1   \n",
       "\n",
       "   Monthly_Income  Hourly_Rate  Years_at_Company  Years_in_Current_Role  \\\n",
       "0           15488           28                15                      4   \n",
       "1           13079           28                 6                      9   \n",
       "2           13744           24                24                     14   \n",
       "3            6809           26                10                      8   \n",
       "4           10206           52                29                     10   \n",
       "\n",
       "   Years_Since_Last_Promotion  Work_Life_Balance  Job_Satisfaction  \\\n",
       "0                           2                  1                 3   \n",
       "1                           1                  2                 1   \n",
       "2                           8                  3                 2   \n",
       "3                           2                  3                 5   \n",
       "4                           1                  2                 5   \n",
       "\n",
       "   Performance_Rating  Training_Hours_Last_Year Overtime  Project_Count  \\\n",
       "0                   4                        14       No              6   \n",
       "1                   1                         6      Yes              2   \n",
       "2                   1                        77      Yes              6   \n",
       "3                   4                        49       No              9   \n",
       "4                   1                        64       No              3   \n",
       "\n",
       "   Average_Hours_Worked_Per_Week  Absenteeism  Work_Environment_Satisfaction  \\\n",
       "0                             54           17                              4   \n",
       "1                             45            1                              4   \n",
       "2                             34            2                              3   \n",
       "3                             48           18                              2   \n",
       "4                             33            0                              4   \n",
       "\n",
       "   Relationship_with_Manager  Job_Involvement  Distance_From_Home  \\\n",
       "0                          4                4                  20   \n",
       "1                          1                2                  25   \n",
       "2                          4                4                  45   \n",
       "3                          3                1                  35   \n",
       "4                          1                3                  44   \n",
       "\n",
       "   Number_of_Companies_Worked Attrition  \n",
       "0                           3        No  \n",
       "1                           2        No  \n",
       "2                           3        No  \n",
       "3                           3        No  \n",
       "4                           3        No  "
      ]
     },
     "execution_count": 36,
     "metadata": {},
     "output_type": "execute_result"
    }
   ],
   "source": [
    "# load dataset\n",
    "pd.set_option('display.max_columns', None) # Display all columns\n",
    "\n",
    "url = \"https://raw.githubusercontent.com/NathaliaMinoque/datasets/refs/heads/main/exercise_employee_attrition.csv \"\n",
    "df = pd.read_csv(url)\n",
    "df.head()"
   ]
  },
  {
   "cell_type": "code",
   "execution_count": 37,
   "metadata": {
    "colab": {
     "base_uri": "https://localhost:8080/"
    },
    "executionInfo": {
     "elapsed": 12,
     "status": "ok",
     "timestamp": 1759930914073,
     "user": {
      "displayName": "Nathalia Minoque",
      "userId": "00797020017705806857"
     },
     "user_tz": -420
    },
    "id": "Fd9wEDJpfinJ",
    "outputId": "f5aade3f-1309-4bd9-bc2a-586431452a24"
   },
   "outputs": [
    {
     "name": "stdout",
     "output_type": "stream",
     "text": [
      "<class 'pandas.core.frame.DataFrame'>\n",
      "RangeIndex: 1000 entries, 0 to 999\n",
      "Data columns (total 26 columns):\n",
      " #   Column                         Non-Null Count  Dtype \n",
      "---  ------                         --------------  ----- \n",
      " 0   Employee_ID                    1000 non-null   int64 \n",
      " 1   Age                            1000 non-null   int64 \n",
      " 2   Gender                         1000 non-null   object\n",
      " 3   Marital_Status                 1000 non-null   object\n",
      " 4   Department                     1000 non-null   object\n",
      " 5   Job_Role                       1000 non-null   object\n",
      " 6   Job_Level                      1000 non-null   int64 \n",
      " 7   Monthly_Income                 1000 non-null   int64 \n",
      " 8   Hourly_Rate                    1000 non-null   int64 \n",
      " 9   Years_at_Company               1000 non-null   int64 \n",
      " 10  Years_in_Current_Role          1000 non-null   int64 \n",
      " 11  Years_Since_Last_Promotion     1000 non-null   int64 \n",
      " 12  Work_Life_Balance              1000 non-null   int64 \n",
      " 13  Job_Satisfaction               1000 non-null   int64 \n",
      " 14  Performance_Rating             1000 non-null   int64 \n",
      " 15  Training_Hours_Last_Year       1000 non-null   int64 \n",
      " 16  Overtime                       1000 non-null   object\n",
      " 17  Project_Count                  1000 non-null   int64 \n",
      " 18  Average_Hours_Worked_Per_Week  1000 non-null   int64 \n",
      " 19  Absenteeism                    1000 non-null   int64 \n",
      " 20  Work_Environment_Satisfaction  1000 non-null   int64 \n",
      " 21  Relationship_with_Manager      1000 non-null   int64 \n",
      " 22  Job_Involvement                1000 non-null   int64 \n",
      " 23  Distance_From_Home             1000 non-null   int64 \n",
      " 24  Number_of_Companies_Worked     1000 non-null   int64 \n",
      " 25  Attrition                      1000 non-null   object\n",
      "dtypes: int64(20), object(6)\n",
      "memory usage: 203.3+ KB\n"
     ]
    }
   ],
   "source": [
    "# get info from dataset\n",
    "df.info()"
   ]
  },
  {
   "cell_type": "code",
   "execution_count": 38,
   "metadata": {
    "colab": {
     "base_uri": "https://localhost:8080/",
     "height": 320
    },
    "executionInfo": {
     "elapsed": 42,
     "status": "ok",
     "timestamp": 1759930914114,
     "user": {
      "displayName": "Nathalia Minoque",
      "userId": "00797020017705806857"
     },
     "user_tz": -420
    },
    "id": "twhHe2cSjSlw",
    "outputId": "28be0a2d-5a1f-45f3-e558-067b7a2a0835"
   },
   "outputs": [
    {
     "data": {
      "text/html": [
       "<div>\n",
       "<style scoped>\n",
       "    .dataframe tbody tr th:only-of-type {\n",
       "        vertical-align: middle;\n",
       "    }\n",
       "\n",
       "    .dataframe tbody tr th {\n",
       "        vertical-align: top;\n",
       "    }\n",
       "\n",
       "    .dataframe thead th {\n",
       "        text-align: right;\n",
       "    }\n",
       "</style>\n",
       "<table border=\"1\" class=\"dataframe\">\n",
       "  <thead>\n",
       "    <tr style=\"text-align: right;\">\n",
       "      <th></th>\n",
       "      <th>Employee_ID</th>\n",
       "      <th>Age</th>\n",
       "      <th>Job_Level</th>\n",
       "      <th>Monthly_Income</th>\n",
       "      <th>Hourly_Rate</th>\n",
       "      <th>Years_at_Company</th>\n",
       "      <th>Years_in_Current_Role</th>\n",
       "      <th>Years_Since_Last_Promotion</th>\n",
       "      <th>Work_Life_Balance</th>\n",
       "      <th>Job_Satisfaction</th>\n",
       "      <th>Performance_Rating</th>\n",
       "      <th>Training_Hours_Last_Year</th>\n",
       "      <th>Project_Count</th>\n",
       "      <th>Average_Hours_Worked_Per_Week</th>\n",
       "      <th>Absenteeism</th>\n",
       "      <th>Work_Environment_Satisfaction</th>\n",
       "      <th>Relationship_with_Manager</th>\n",
       "      <th>Job_Involvement</th>\n",
       "      <th>Distance_From_Home</th>\n",
       "      <th>Number_of_Companies_Worked</th>\n",
       "    </tr>\n",
       "  </thead>\n",
       "  <tbody>\n",
       "    <tr>\n",
       "      <th>count</th>\n",
       "      <td>1000.000000</td>\n",
       "      <td>1000.000000</td>\n",
       "      <td>1000.000000</td>\n",
       "      <td>1000.000000</td>\n",
       "      <td>1000.000000</td>\n",
       "      <td>1000.000000</td>\n",
       "      <td>1000.000000</td>\n",
       "      <td>1000.00000</td>\n",
       "      <td>1000.000000</td>\n",
       "      <td>1000.000000</td>\n",
       "      <td>1000.00000</td>\n",
       "      <td>1000.000000</td>\n",
       "      <td>1000.000000</td>\n",
       "      <td>1000.000000</td>\n",
       "      <td>1000.000000</td>\n",
       "      <td>1000.000000</td>\n",
       "      <td>1000.000000</td>\n",
       "      <td>1000.000000</td>\n",
       "      <td>1000.000000</td>\n",
       "      <td>1000.000000</td>\n",
       "    </tr>\n",
       "    <tr>\n",
       "      <th>mean</th>\n",
       "      <td>500.500000</td>\n",
       "      <td>39.991000</td>\n",
       "      <td>3.055000</td>\n",
       "      <td>11499.899000</td>\n",
       "      <td>57.837000</td>\n",
       "      <td>14.922000</td>\n",
       "      <td>7.539000</td>\n",
       "      <td>4.40800</td>\n",
       "      <td>2.495000</td>\n",
       "      <td>3.151000</td>\n",
       "      <td>2.52700</td>\n",
       "      <td>50.043000</td>\n",
       "      <td>4.877000</td>\n",
       "      <td>44.553000</td>\n",
       "      <td>9.524000</td>\n",
       "      <td>2.494000</td>\n",
       "      <td>2.519000</td>\n",
       "      <td>2.503000</td>\n",
       "      <td>24.507000</td>\n",
       "      <td>2.484000</td>\n",
       "    </tr>\n",
       "    <tr>\n",
       "      <th>std</th>\n",
       "      <td>288.819436</td>\n",
       "      <td>11.780055</td>\n",
       "      <td>1.399977</td>\n",
       "      <td>4920.529231</td>\n",
       "      <td>24.702037</td>\n",
       "      <td>8.350548</td>\n",
       "      <td>4.001061</td>\n",
       "      <td>2.99508</td>\n",
       "      <td>1.105077</td>\n",
       "      <td>1.426967</td>\n",
       "      <td>1.13073</td>\n",
       "      <td>28.204657</td>\n",
       "      <td>2.546833</td>\n",
       "      <td>8.704192</td>\n",
       "      <td>5.973534</td>\n",
       "      <td>1.110494</td>\n",
       "      <td>1.106736</td>\n",
       "      <td>1.099636</td>\n",
       "      <td>14.138099</td>\n",
       "      <td>1.111296</td>\n",
       "    </tr>\n",
       "    <tr>\n",
       "      <th>min</th>\n",
       "      <td>1.000000</td>\n",
       "      <td>20.000000</td>\n",
       "      <td>1.000000</td>\n",
       "      <td>3001.000000</td>\n",
       "      <td>15.000000</td>\n",
       "      <td>1.000000</td>\n",
       "      <td>1.000000</td>\n",
       "      <td>0.00000</td>\n",
       "      <td>1.000000</td>\n",
       "      <td>1.000000</td>\n",
       "      <td>1.00000</td>\n",
       "      <td>0.000000</td>\n",
       "      <td>1.000000</td>\n",
       "      <td>30.000000</td>\n",
       "      <td>0.000000</td>\n",
       "      <td>1.000000</td>\n",
       "      <td>1.000000</td>\n",
       "      <td>1.000000</td>\n",
       "      <td>1.000000</td>\n",
       "      <td>1.000000</td>\n",
       "    </tr>\n",
       "    <tr>\n",
       "      <th>25%</th>\n",
       "      <td>250.750000</td>\n",
       "      <td>30.000000</td>\n",
       "      <td>2.000000</td>\n",
       "      <td>7395.750000</td>\n",
       "      <td>36.000000</td>\n",
       "      <td>8.000000</td>\n",
       "      <td>4.000000</td>\n",
       "      <td>2.00000</td>\n",
       "      <td>2.000000</td>\n",
       "      <td>2.000000</td>\n",
       "      <td>2.00000</td>\n",
       "      <td>26.000000</td>\n",
       "      <td>3.000000</td>\n",
       "      <td>37.000000</td>\n",
       "      <td>4.000000</td>\n",
       "      <td>2.000000</td>\n",
       "      <td>2.000000</td>\n",
       "      <td>2.000000</td>\n",
       "      <td>12.000000</td>\n",
       "      <td>1.000000</td>\n",
       "    </tr>\n",
       "    <tr>\n",
       "      <th>50%</th>\n",
       "      <td>500.500000</td>\n",
       "      <td>41.000000</td>\n",
       "      <td>3.000000</td>\n",
       "      <td>11256.000000</td>\n",
       "      <td>58.000000</td>\n",
       "      <td>15.000000</td>\n",
       "      <td>8.000000</td>\n",
       "      <td>4.00000</td>\n",
       "      <td>3.000000</td>\n",
       "      <td>3.000000</td>\n",
       "      <td>3.00000</td>\n",
       "      <td>50.000000</td>\n",
       "      <td>5.000000</td>\n",
       "      <td>45.000000</td>\n",
       "      <td>9.000000</td>\n",
       "      <td>2.000000</td>\n",
       "      <td>3.000000</td>\n",
       "      <td>3.000000</td>\n",
       "      <td>24.000000</td>\n",
       "      <td>2.000000</td>\n",
       "    </tr>\n",
       "    <tr>\n",
       "      <th>75%</th>\n",
       "      <td>750.250000</td>\n",
       "      <td>50.250000</td>\n",
       "      <td>4.000000</td>\n",
       "      <td>15855.000000</td>\n",
       "      <td>80.000000</td>\n",
       "      <td>22.000000</td>\n",
       "      <td>11.000000</td>\n",
       "      <td>7.00000</td>\n",
       "      <td>3.000000</td>\n",
       "      <td>4.000000</td>\n",
       "      <td>4.00000</td>\n",
       "      <td>75.250000</td>\n",
       "      <td>7.000000</td>\n",
       "      <td>52.000000</td>\n",
       "      <td>15.000000</td>\n",
       "      <td>4.000000</td>\n",
       "      <td>4.000000</td>\n",
       "      <td>3.000000</td>\n",
       "      <td>37.000000</td>\n",
       "      <td>3.000000</td>\n",
       "    </tr>\n",
       "    <tr>\n",
       "      <th>max</th>\n",
       "      <td>1000.000000</td>\n",
       "      <td>59.000000</td>\n",
       "      <td>5.000000</td>\n",
       "      <td>19999.000000</td>\n",
       "      <td>99.000000</td>\n",
       "      <td>29.000000</td>\n",
       "      <td>14.000000</td>\n",
       "      <td>9.00000</td>\n",
       "      <td>4.000000</td>\n",
       "      <td>5.000000</td>\n",
       "      <td>4.00000</td>\n",
       "      <td>99.000000</td>\n",
       "      <td>9.000000</td>\n",
       "      <td>59.000000</td>\n",
       "      <td>19.000000</td>\n",
       "      <td>4.000000</td>\n",
       "      <td>4.000000</td>\n",
       "      <td>4.000000</td>\n",
       "      <td>49.000000</td>\n",
       "      <td>4.000000</td>\n",
       "    </tr>\n",
       "  </tbody>\n",
       "</table>\n",
       "</div>"
      ],
      "text/plain": [
       "       Employee_ID          Age    Job_Level  Monthly_Income  Hourly_Rate  \\\n",
       "count  1000.000000  1000.000000  1000.000000     1000.000000  1000.000000   \n",
       "mean    500.500000    39.991000     3.055000    11499.899000    57.837000   \n",
       "std     288.819436    11.780055     1.399977     4920.529231    24.702037   \n",
       "min       1.000000    20.000000     1.000000     3001.000000    15.000000   \n",
       "25%     250.750000    30.000000     2.000000     7395.750000    36.000000   \n",
       "50%     500.500000    41.000000     3.000000    11256.000000    58.000000   \n",
       "75%     750.250000    50.250000     4.000000    15855.000000    80.000000   \n",
       "max    1000.000000    59.000000     5.000000    19999.000000    99.000000   \n",
       "\n",
       "       Years_at_Company  Years_in_Current_Role  Years_Since_Last_Promotion  \\\n",
       "count       1000.000000            1000.000000                  1000.00000   \n",
       "mean          14.922000               7.539000                     4.40800   \n",
       "std            8.350548               4.001061                     2.99508   \n",
       "min            1.000000               1.000000                     0.00000   \n",
       "25%            8.000000               4.000000                     2.00000   \n",
       "50%           15.000000               8.000000                     4.00000   \n",
       "75%           22.000000              11.000000                     7.00000   \n",
       "max           29.000000              14.000000                     9.00000   \n",
       "\n",
       "       Work_Life_Balance  Job_Satisfaction  Performance_Rating  \\\n",
       "count        1000.000000       1000.000000          1000.00000   \n",
       "mean            2.495000          3.151000             2.52700   \n",
       "std             1.105077          1.426967             1.13073   \n",
       "min             1.000000          1.000000             1.00000   \n",
       "25%             2.000000          2.000000             2.00000   \n",
       "50%             3.000000          3.000000             3.00000   \n",
       "75%             3.000000          4.000000             4.00000   \n",
       "max             4.000000          5.000000             4.00000   \n",
       "\n",
       "       Training_Hours_Last_Year  Project_Count  Average_Hours_Worked_Per_Week  \\\n",
       "count               1000.000000    1000.000000                    1000.000000   \n",
       "mean                  50.043000       4.877000                      44.553000   \n",
       "std                   28.204657       2.546833                       8.704192   \n",
       "min                    0.000000       1.000000                      30.000000   \n",
       "25%                   26.000000       3.000000                      37.000000   \n",
       "50%                   50.000000       5.000000                      45.000000   \n",
       "75%                   75.250000       7.000000                      52.000000   \n",
       "max                   99.000000       9.000000                      59.000000   \n",
       "\n",
       "       Absenteeism  Work_Environment_Satisfaction  Relationship_with_Manager  \\\n",
       "count  1000.000000                    1000.000000                1000.000000   \n",
       "mean      9.524000                       2.494000                   2.519000   \n",
       "std       5.973534                       1.110494                   1.106736   \n",
       "min       0.000000                       1.000000                   1.000000   \n",
       "25%       4.000000                       2.000000                   2.000000   \n",
       "50%       9.000000                       2.000000                   3.000000   \n",
       "75%      15.000000                       4.000000                   4.000000   \n",
       "max      19.000000                       4.000000                   4.000000   \n",
       "\n",
       "       Job_Involvement  Distance_From_Home  Number_of_Companies_Worked  \n",
       "count      1000.000000         1000.000000                 1000.000000  \n",
       "mean          2.503000           24.507000                    2.484000  \n",
       "std           1.099636           14.138099                    1.111296  \n",
       "min           1.000000            1.000000                    1.000000  \n",
       "25%           2.000000           12.000000                    1.000000  \n",
       "50%           3.000000           24.000000                    2.000000  \n",
       "75%           3.000000           37.000000                    3.000000  \n",
       "max           4.000000           49.000000                    4.000000  "
      ]
     },
     "execution_count": 38,
     "metadata": {},
     "output_type": "execute_result"
    }
   ],
   "source": [
    "# get statistical info from dataset\n",
    "df.describe()"
   ]
  },
  {
   "cell_type": "code",
   "execution_count": 39,
   "metadata": {},
   "outputs": [
    {
     "data": {
      "text/html": [
       "<div>\n",
       "<style scoped>\n",
       "    .dataframe tbody tr th:only-of-type {\n",
       "        vertical-align: middle;\n",
       "    }\n",
       "\n",
       "    .dataframe tbody tr th {\n",
       "        vertical-align: top;\n",
       "    }\n",
       "\n",
       "    .dataframe thead th {\n",
       "        text-align: right;\n",
       "    }\n",
       "</style>\n",
       "<table border=\"1\" class=\"dataframe\">\n",
       "  <thead>\n",
       "    <tr style=\"text-align: right;\">\n",
       "      <th></th>\n",
       "      <th>Null Count</th>\n",
       "      <th>Null Percentage</th>\n",
       "    </tr>\n",
       "  </thead>\n",
       "  <tbody>\n",
       "  </tbody>\n",
       "</table>\n",
       "</div>"
      ],
      "text/plain": [
       "Empty DataFrame\n",
       "Columns: [Null Count, Null Percentage]\n",
       "Index: []"
      ]
     },
     "execution_count": 39,
     "metadata": {},
     "output_type": "execute_result"
    }
   ],
   "source": [
    "# Calculate null values and percentage\n",
    "null_counts = df.isnull().sum()\n",
    "null_percentages = (null_counts / len(df)) * 100\n",
    "\n",
    "# Create a DataFrame for columns with null values\n",
    "null_df = pd.DataFrame({'Null Count': null_counts, 'Null Percentage': null_percentages})\n",
    "\n",
    "# Filter for columns with null values\n",
    "null_df = null_df[null_df['Null Count'] > 0]\n",
    "\n",
    "\n",
    "# Format the percentage with two decimal places and % symbol\n",
    "null_df['Null Percentage'] = null_df['Null Percentage'].map('{:.2f}%'.format)\n",
    "\n",
    "\n",
    "null_df"
   ]
  },
  {
   "cell_type": "markdown",
   "metadata": {},
   "source": [
    "NO MISSING VALUES"
   ]
  },
  {
   "cell_type": "markdown",
   "metadata": {
    "id": "lMkqqlOGDjV7"
   },
   "source": [
    "# Preprocessing"
   ]
  },
  {
   "cell_type": "code",
   "execution_count": 40,
   "metadata": {},
   "outputs": [
    {
     "name": "stdout",
     "output_type": "stream",
     "text": [
      "['Employee_ID', 'Age', 'Gender', 'Marital_Status', 'Department', 'Job_Role', 'Job_Level', 'Monthly_Income', 'Hourly_Rate', 'Years_at_Company', 'Years_in_Current_Role', 'Years_Since_Last_Promotion', 'Work_Life_Balance', 'Job_Satisfaction', 'Performance_Rating', 'Training_Hours_Last_Year', 'Overtime', 'Project_Count', 'Average_Hours_Worked_Per_Week', 'Absenteeism', 'Work_Environment_Satisfaction', 'Relationship_with_Manager', 'Job_Involvement', 'Distance_From_Home', 'Number_of_Companies_Worked', 'Attrition']\n"
     ]
    }
   ],
   "source": [
    "print(df.columns.tolist())"
   ]
  },
  {
   "cell_type": "code",
   "execution_count": 41,
   "metadata": {},
   "outputs": [
    {
     "name": "stdout",
     "output_type": "stream",
     "text": [
      "Total unique Gender: 2\n",
      "Total unique Marital_Status: 3\n",
      "Total unique Department: 5\n",
      "Total unique Job_Role: 4\n",
      "Total unique Job_Level: 5\n",
      "Total unique Monthly_Income: 971\n",
      "Total unique Hourly_Rate: 85\n",
      "Total unique Years_at_Company: 29\n",
      "Total unique Years_in_Current_Role: 14\n",
      "Total unique Years_Since_Last_Promotion: 10\n",
      "Total unique Work_Life_Balance: 4\n",
      "Total unique Job_Satisfaction: 5\n",
      "Total unique Performance_Rating: 4\n",
      "Total unique Training_Hours_Last_Year: 100\n",
      "Total unique Overtime: 2\n",
      "Total unique Project_Count: 9\n",
      "Total unique Average_Hours_Worked_Per_Week: 30\n",
      "Total unique Absenteeism: 20\n",
      "Total unique Work_Environment_Satisfaction: 4\n",
      "Total unique Relationship_with_Manager: 4\n",
      "Total unique Job_Involvement: 4\n",
      "Total unique Distance_From_Home: 49\n",
      "Total unique Number_of_Companies_Worked: 4\n"
     ]
    }
   ],
   "source": [
    "# checking data\n",
    "print(\"Total unique Gender:\", df['Gender'].nunique())\n",
    "print(\"Total unique Marital_Status:\", df['Marital_Status'].nunique())\n",
    "print(\"Total unique Department:\", df['Department'].nunique())\n",
    "print(\"Total unique Job_Role:\", df['Job_Role'].nunique())\n",
    "print(\"Total unique Job_Level:\", df['Job_Level'].nunique())\n",
    "print(\"Total unique Monthly_Income:\", df['Monthly_Income'].nunique())\n",
    "print(\"Total unique Hourly_Rate:\", df['Hourly_Rate'].nunique())\n",
    "print(\"Total unique Years_at_Company:\", df['Years_at_Company'].nunique())\n",
    "print(\"Total unique Years_in_Current_Role:\", df['Years_in_Current_Role'].nunique())\n",
    "print(\"Total unique Years_Since_Last_Promotion:\", df['Years_Since_Last_Promotion'].nunique())\n",
    "print(\"Total unique Work_Life_Balance:\", df['Work_Life_Balance'].nunique())\n",
    "print(\"Total unique Job_Satisfaction:\", df['Job_Satisfaction'].nunique())\n",
    "print(\"Total unique Performance_Rating:\", df['Performance_Rating'].nunique())\n",
    "print(\"Total unique Training_Hours_Last_Year:\", df['Training_Hours_Last_Year'].nunique())\n",
    "print(\"Total unique Overtime:\", df['Overtime'].nunique())\n",
    "print(\"Total unique Project_Count:\", df['Project_Count'].nunique())\n",
    "print(\"Total unique Average_Hours_Worked_Per_Week:\", df['Average_Hours_Worked_Per_Week'].nunique())\n",
    "print(\"Total unique Absenteeism:\", df['Absenteeism'].nunique())\n",
    "print(\"Total unique Work_Environment_Satisfaction:\", df['Work_Environment_Satisfaction'].nunique())\n",
    "print(\"Total unique Relationship_with_Manager:\", df['Relationship_with_Manager'].nunique())\n",
    "print(\"Total unique Job_Involvement:\", df['Job_Involvement'].nunique())\n",
    "print(\"Total unique Distance_From_Home:\", df['Distance_From_Home'].nunique())\n",
    "print(\"Total unique Number_of_Companies_Worked:\", df['Number_of_Companies_Worked'].nunique())"
   ]
  },
  {
   "cell_type": "code",
   "execution_count": null,
   "metadata": {
    "colab": {
     "base_uri": "https://localhost:8080/"
    },
    "executionInfo": {
     "elapsed": 14,
     "status": "ok",
     "timestamp": 1759930914154,
     "user": {
      "displayName": "Nathalia Minoque",
      "userId": "00797020017705806857"
     },
     "user_tz": -420
    },
    "id": "DmMFOCqawrIt",
    "outputId": "33dcfcff-3dab-4d52-b164-123099add8d0"
   },
   "outputs": [
    {
     "name": "stdout",
     "output_type": "stream",
     "text": [
      "<class 'pandas.core.frame.DataFrame'>\n",
      "RangeIndex: 1000 entries, 0 to 999\n",
      "Data columns (total 21 columns):\n",
      " #   Column                         Non-Null Count  Dtype \n",
      "---  ------                         --------------  ----- \n",
      " 0   Age                            1000 non-null   int64 \n",
      " 1   Gender                         1000 non-null   object\n",
      " 2   Marital_Status                 1000 non-null   object\n",
      " 3   Department                     1000 non-null   object\n",
      " 4   Job_Role                       1000 non-null   object\n",
      " 5   Job_Level                      1000 non-null   int64 \n",
      " 6   Monthly_Income                 1000 non-null   int64 \n",
      " 7   Years_at_Company               1000 non-null   int64 \n",
      " 8   Work_Life_Balance              1000 non-null   int64 \n",
      " 9   Job_Satisfaction               1000 non-null   int64 \n",
      " 10  Performance_Rating             1000 non-null   int64 \n",
      " 11  Training_Hours_Last_Year       1000 non-null   int64 \n",
      " 12  Overtime                       1000 non-null   object\n",
      " 13  Project_Count                  1000 non-null   int64 \n",
      " 14  Absenteeism                    1000 non-null   int64 \n",
      " 15  Work_Environment_Satisfaction  1000 non-null   int64 \n",
      " 16  Relationship_with_Manager      1000 non-null   int64 \n",
      " 17  Job_Involvement                1000 non-null   int64 \n",
      " 18  Distance_From_Home             1000 non-null   int64 \n",
      " 19  Number_of_Companies_Worked     1000 non-null   int64 \n",
      " 20  Attrition                      1000 non-null   object\n",
      "dtypes: int64(15), object(6)\n",
      "memory usage: 164.2+ KB\n"
     ]
    }
   ],
   "source": [
    "# Drop Employee_ID as it's only an identifier\n",
    "# Drop Hourly_Rate as Monthly_Income is usually a stronger and more comprehensive predictor of an employee's financial satisfaction\n",
    "# Drop Average_Hours_Worked_Per_Week as the Overtime (Yes/No) column already capture the negative impact of a high workload.\n",
    "# Drop Years_in_Current_Role and Years_Since_Last_Promotion because data can be redundant for workers who havent changed roles or havent gotten their promotions\n",
    "\n",
    "df = df.drop(columns=['Employee_ID','Hourly_Rate', 'Average_Hours_Worked_Per_Week','Years_in_Current_Role', 'Years_Since_Last_Promotion'])\n",
    "df.info()"
   ]
  },
  {
   "cell_type": "code",
   "execution_count": 43,
   "metadata": {
    "colab": {
     "base_uri": "https://localhost:8080/",
     "height": 472
    },
    "executionInfo": {
     "elapsed": 177,
     "status": "ok",
     "timestamp": 1759930914348,
     "user": {
      "displayName": "Nathalia Minoque",
      "userId": "00797020017705806857"
     },
     "user_tz": -420
    },
    "id": "XRzCZfUayUNY",
    "outputId": "9aae0fd4-9612-41ed-f743-aba8d34070c5"
   },
   "outputs": [
    {
     "data": {
      "image/png": "[encoded data removed]",
      "text/plain": [
       "<Figure size 640x480 with 1 Axes>"
      ]
     },
     "metadata": {},
     "output_type": "display_data"
    }
   ],
   "source": [
    "# show how many attrition\n",
    "ax = sns.countplot(data=df, x='Attrition')\n",
    "plt.title('Count of Attrition')\n",
    "\n",
    "# Add labels to the bars\n",
    "for container in ax.containers:\n",
    "    ax.bar_label(container)\n",
    "plt.show()\n",
    "\n",
    "# imbalance dataset but it's okay let us try firsttt"
   ]
  },
  {
   "cell_type": "markdown",
   "metadata": {
    "id": "2zS6qmE7DatD"
   },
   "source": [
    "# Feature Encoding"
   ]
  },
  {
   "cell_type": "code",
   "execution_count": 44,
   "metadata": {},
   "outputs": [
    {
     "name": "stdout",
     "output_type": "stream",
     "text": [
      "Job_Satisfaction values: [3 1 2 5 4]\n",
      "Job_Level values: [1 5 3 2 4]\n",
      "Performance_Rating values: [4 1 3 2]\n",
      "Work_Life_Balance values: [1 2 3 4]\n"
     ]
    }
   ],
   "source": [
    "# Check the unique values of your ordinal columns\n",
    "print(\"Job_Satisfaction values:\", df['Job_Satisfaction'].unique())\n",
    "print(\"Job_Level values:\", df['Job_Level'].unique())\n",
    "print(\"Performance_Rating values:\", df['Performance_Rating'].unique())\n",
    "print(\"Work_Life_Balance values:\", df['Work_Life_Balance'].unique())"
   ]
  },
  {
   "cell_type": "code",
   "execution_count": 45,
   "metadata": {
    "colab": {
     "base_uri": "https://localhost:8080/",
     "height": 521
    },
    "executionInfo": {
     "elapsed": 34,
     "status": "ok",
     "timestamp": 1759930914381,
     "user": {
      "displayName": "Nathalia Minoque",
      "userId": "00797020017705806857"
     },
     "user_tz": -420
    },
    "id": "jq_YwfjXYsOi",
    "outputId": "826a8236-f18e-4ab7-f781-e6b810f7c23f"
   },
   "outputs": [
    {
     "name": "stdout",
     "output_type": "stream",
     "text": [
      "{'Department': {'Finance': 0, 'HR': 1, 'IT': 2, 'Marketing': 3, 'Sales': 4},\n",
      " 'Job_Role': {'Analyst': 0, 'Assistant': 1, 'Executive': 2, 'Manager': 3},\n",
      " 'Marital_Status': {'Divorced': 0, 'Married': 1, 'Single': 2}}\n"
     ]
    },
    {
     "data": {
      "text/html": [
       "<div>\n",
       "<style scoped>\n",
       "    .dataframe tbody tr th:only-of-type {\n",
       "        vertical-align: middle;\n",
       "    }\n",
       "\n",
       "    .dataframe tbody tr th {\n",
       "        vertical-align: top;\n",
       "    }\n",
       "\n",
       "    .dataframe thead th {\n",
       "        text-align: right;\n",
       "    }\n",
       "</style>\n",
       "<table border=\"1\" class=\"dataframe\">\n",
       "  <thead>\n",
       "    <tr style=\"text-align: right;\">\n",
       "      <th></th>\n",
       "      <th>Age</th>\n",
       "      <th>Gender</th>\n",
       "      <th>Marital_Status</th>\n",
       "      <th>Department</th>\n",
       "      <th>Job_Role</th>\n",
       "      <th>Job_Level</th>\n",
       "      <th>Monthly_Income</th>\n",
       "      <th>Years_at_Company</th>\n",
       "      <th>Work_Life_Balance</th>\n",
       "      <th>Job_Satisfaction</th>\n",
       "      <th>Performance_Rating</th>\n",
       "      <th>Training_Hours_Last_Year</th>\n",
       "      <th>Overtime</th>\n",
       "      <th>Project_Count</th>\n",
       "      <th>Absenteeism</th>\n",
       "      <th>Work_Environment_Satisfaction</th>\n",
       "      <th>Relationship_with_Manager</th>\n",
       "      <th>Job_Involvement</th>\n",
       "      <th>Distance_From_Home</th>\n",
       "      <th>Number_of_Companies_Worked</th>\n",
       "      <th>Attrition</th>\n",
       "    </tr>\n",
       "  </thead>\n",
       "  <tbody>\n",
       "    <tr>\n",
       "      <th>95</th>\n",
       "      <td>28</td>\n",
       "      <td>1</td>\n",
       "      <td>0.0</td>\n",
       "      <td>1.0</td>\n",
       "      <td>0.0</td>\n",
       "      <td>5</td>\n",
       "      <td>7103</td>\n",
       "      <td>7</td>\n",
       "      <td>2</td>\n",
       "      <td>3</td>\n",
       "      <td>2</td>\n",
       "      <td>61</td>\n",
       "      <td>1</td>\n",
       "      <td>4</td>\n",
       "      <td>1</td>\n",
       "      <td>3</td>\n",
       "      <td>2</td>\n",
       "      <td>3</td>\n",
       "      <td>12</td>\n",
       "      <td>2</td>\n",
       "      <td>0</td>\n",
       "    </tr>\n",
       "    <tr>\n",
       "      <th>316</th>\n",
       "      <td>42</td>\n",
       "      <td>1</td>\n",
       "      <td>2.0</td>\n",
       "      <td>1.0</td>\n",
       "      <td>0.0</td>\n",
       "      <td>2</td>\n",
       "      <td>4813</td>\n",
       "      <td>2</td>\n",
       "      <td>3</td>\n",
       "      <td>1</td>\n",
       "      <td>1</td>\n",
       "      <td>51</td>\n",
       "      <td>0</td>\n",
       "      <td>4</td>\n",
       "      <td>12</td>\n",
       "      <td>4</td>\n",
       "      <td>4</td>\n",
       "      <td>4</td>\n",
       "      <td>29</td>\n",
       "      <td>1</td>\n",
       "      <td>1</td>\n",
       "    </tr>\n",
       "    <tr>\n",
       "      <th>305</th>\n",
       "      <td>42</td>\n",
       "      <td>0</td>\n",
       "      <td>2.0</td>\n",
       "      <td>0.0</td>\n",
       "      <td>1.0</td>\n",
       "      <td>5</td>\n",
       "      <td>13361</td>\n",
       "      <td>28</td>\n",
       "      <td>3</td>\n",
       "      <td>4</td>\n",
       "      <td>1</td>\n",
       "      <td>84</td>\n",
       "      <td>1</td>\n",
       "      <td>5</td>\n",
       "      <td>14</td>\n",
       "      <td>3</td>\n",
       "      <td>1</td>\n",
       "      <td>1</td>\n",
       "      <td>45</td>\n",
       "      <td>2</td>\n",
       "      <td>0</td>\n",
       "    </tr>\n",
       "    <tr>\n",
       "      <th>736</th>\n",
       "      <td>47</td>\n",
       "      <td>0</td>\n",
       "      <td>2.0</td>\n",
       "      <td>4.0</td>\n",
       "      <td>0.0</td>\n",
       "      <td>1</td>\n",
       "      <td>19053</td>\n",
       "      <td>15</td>\n",
       "      <td>2</td>\n",
       "      <td>5</td>\n",
       "      <td>4</td>\n",
       "      <td>30</td>\n",
       "      <td>0</td>\n",
       "      <td>5</td>\n",
       "      <td>14</td>\n",
       "      <td>3</td>\n",
       "      <td>1</td>\n",
       "      <td>4</td>\n",
       "      <td>29</td>\n",
       "      <td>3</td>\n",
       "      <td>1</td>\n",
       "    </tr>\n",
       "    <tr>\n",
       "      <th>71</th>\n",
       "      <td>37</td>\n",
       "      <td>1</td>\n",
       "      <td>0.0</td>\n",
       "      <td>3.0</td>\n",
       "      <td>0.0</td>\n",
       "      <td>1</td>\n",
       "      <td>18560</td>\n",
       "      <td>23</td>\n",
       "      <td>2</td>\n",
       "      <td>1</td>\n",
       "      <td>4</td>\n",
       "      <td>64</td>\n",
       "      <td>0</td>\n",
       "      <td>7</td>\n",
       "      <td>2</td>\n",
       "      <td>4</td>\n",
       "      <td>1</td>\n",
       "      <td>2</td>\n",
       "      <td>43</td>\n",
       "      <td>2</td>\n",
       "      <td>0</td>\n",
       "    </tr>\n",
       "  </tbody>\n",
       "</table>\n",
       "</div>"
      ],
      "text/plain": [
       "     Age  Gender  Marital_Status  Department  Job_Role  Job_Level  \\\n",
       "95    28       1             0.0         1.0       0.0          5   \n",
       "316   42       1             2.0         1.0       0.0          2   \n",
       "305   42       0             2.0         0.0       1.0          5   \n",
       "736   47       0             2.0         4.0       0.0          1   \n",
       "71    37       1             0.0         3.0       0.0          1   \n",
       "\n",
       "     Monthly_Income  Years_at_Company  Work_Life_Balance  Job_Satisfaction  \\\n",
       "95             7103                 7                  2                 3   \n",
       "316            4813                 2                  3                 1   \n",
       "305           13361                28                  3                 4   \n",
       "736           19053                15                  2                 5   \n",
       "71            18560                23                  2                 1   \n",
       "\n",
       "     Performance_Rating  Training_Hours_Last_Year  Overtime  Project_Count  \\\n",
       "95                    2                        61         1              4   \n",
       "316                   1                        51         0              4   \n",
       "305                   1                        84         1              5   \n",
       "736                   4                        30         0              5   \n",
       "71                    4                        64         0              7   \n",
       "\n",
       "     Absenteeism  Work_Environment_Satisfaction  Relationship_with_Manager  \\\n",
       "95             1                              3                          2   \n",
       "316           12                              4                          4   \n",
       "305           14                              3                          1   \n",
       "736           14                              3                          1   \n",
       "71             2                              4                          1   \n",
       "\n",
       "     Job_Involvement  Distance_From_Home  Number_of_Companies_Worked  \\\n",
       "95                 3                  12                           2   \n",
       "316                4                  29                           1   \n",
       "305                1                  45                           2   \n",
       "736                4                  29                           3   \n",
       "71                 2                  43                           2   \n",
       "\n",
       "     Attrition  \n",
       "95           0  \n",
       "316          1  \n",
       "305          0  \n",
       "736          1  \n",
       "71           0  "
      ]
     },
     "execution_count": 45,
     "metadata": {},
     "output_type": "execute_result"
    }
   ],
   "source": [
    "# duplicate df\n",
    "df_encoded = df.copy()\n",
    "\n",
    "from sklearn.preprocessing import OneHotEncoder\n",
    "from sklearn.preprocessing import OrdinalEncoder\n",
    "\n",
    "# 1. One-Hot Encoding\n",
    "# Columns: Attrition, Gender, OverTime\n",
    "\n",
    "binary_map = {\n",
    "    'Attrition': {'No': 0, 'Yes': 1},\n",
    "    'Gender': {'Female': 0, 'Male': 1},\n",
    "    'Overtime': {'No': 0, 'Yes': 1}\n",
    "}\n",
    "\n",
    "for col, mapping in binary_map.items():\n",
    "    df_encoded[col] = df_encoded[col].map(mapping)\n",
    "\n",
    "\n",
    "# 2. Ordinal Encoding = no need\n",
    "\n",
    "\n",
    "# 3. Nominal Encoding\n",
    "# Suppose you already fitted the encoder:\n",
    "nominal_cols = ['Marital_Status', 'Department', 'Job_Role']\n",
    "encoder = OrdinalEncoder()\n",
    "df_encoded[nominal_cols] = encoder.fit_transform(df_encoded[nominal_cols])\n",
    "\n",
    "# Build a mapping dictionary\n",
    "encode_dict = {}\n",
    "\n",
    "for col, cats in zip(nominal_cols, encoder.categories_):\n",
    "    encode_dict[col] = {category: int(code) for code, category in enumerate(cats)}\n",
    "\n",
    "# Show the full dictionary\n",
    "import pprint\n",
    "pprint.pprint(encode_dict)\n",
    "\n",
    "df_encoded.sample(n = 5)"
   ]
  },
  {
   "cell_type": "code",
   "execution_count": 46,
   "metadata": {
    "colab": {
     "base_uri": "https://localhost:8080/",
     "height": 1000
    },
    "executionInfo": {
     "elapsed": 16,
     "status": "ok",
     "timestamp": 1759930914413,
     "user": {
      "displayName": "Nathalia Minoque",
      "userId": "00797020017705806857"
     },
     "user_tz": -420
    },
    "id": "XMavKArXkM16",
    "outputId": "6be8c293-bf08-4c0e-d274-89ad4ea9af65"
   },
   "outputs": [
    {
     "data": {
      "text/plain": [
       "Age                                     31\n",
       "Gender                              Female\n",
       "Marital_Status                      Single\n",
       "Department                       Marketing\n",
       "Job_Role                           Manager\n",
       "Job_Level                                5\n",
       "Monthly_Income                        4191\n",
       "Years_at_Company                        18\n",
       "Work_Life_Balance                        2\n",
       "Job_Satisfaction                         1\n",
       "Performance_Rating                       3\n",
       "Training_Hours_Last_Year                13\n",
       "Overtime                               Yes\n",
       "Project_Count                            2\n",
       "Absenteeism                              5\n",
       "Work_Environment_Satisfaction            1\n",
       "Relationship_with_Manager                3\n",
       "Job_Involvement                          2\n",
       "Distance_From_Home                       1\n",
       "Number_of_Companies_Worked               1\n",
       "Attrition                               No\n",
       "Name: 480, dtype: object"
      ]
     },
     "execution_count": 46,
     "metadata": {},
     "output_type": "execute_result"
    }
   ],
   "source": [
    "# checking encode result\n",
    "df.loc[480]"
   ]
  },
  {
   "cell_type": "markdown",
   "metadata": {
    "id": "8e0dc4db"
   },
   "source": [
    "## Separate features and target\n",
    "\n",
    "### Subtask:\n",
    "Define the features (X) and the target variable (y).\n"
   ]
  },
  {
   "cell_type": "markdown",
   "metadata": {
    "id": "5922b0c4"
   },
   "source": [
    "**Reasoning**:\n",
    "Define the features (X) by dropping the target variable 'Attrition' from the DataFrame and define the target variable (y) as the 'Attrition' column.\n",
    "\n"
   ]
  },
  {
   "cell_type": "code",
   "execution_count": 47,
   "metadata": {
    "executionInfo": {
     "elapsed": 1,
     "status": "ok",
     "timestamp": 1759930914415,
     "user": {
      "displayName": "Nathalia Minoque",
      "userId": "00797020017705806857"
     },
     "user_tz": -420
    },
    "id": "e533c28f"
   },
   "outputs": [],
   "source": [
    "X = df_encoded.drop('Attrition', axis=1)\n",
    "y = df_encoded['Attrition']"
   ]
  },
  {
   "cell_type": "code",
   "execution_count": 48,
   "metadata": {
    "colab": {
     "base_uri": "https://localhost:8080/",
     "height": 226
    },
    "executionInfo": {
     "elapsed": 30,
     "status": "ok",
     "timestamp": 1759930914454,
     "user": {
      "displayName": "Nathalia Minoque",
      "userId": "00797020017705806857"
     },
     "user_tz": -420
    },
    "id": "8zg9yC-Blp8Q",
    "outputId": "faea7887-9351-4d9d-c3a1-1883d1a1ef4f"
   },
   "outputs": [
    {
     "data": {
      "text/html": [
       "<div>\n",
       "<style scoped>\n",
       "    .dataframe tbody tr th:only-of-type {\n",
       "        vertical-align: middle;\n",
       "    }\n",
       "\n",
       "    .dataframe tbody tr th {\n",
       "        vertical-align: top;\n",
       "    }\n",
       "\n",
       "    .dataframe thead th {\n",
       "        text-align: right;\n",
       "    }\n",
       "</style>\n",
       "<table border=\"1\" class=\"dataframe\">\n",
       "  <thead>\n",
       "    <tr style=\"text-align: right;\">\n",
       "      <th></th>\n",
       "      <th>Age</th>\n",
       "      <th>Gender</th>\n",
       "      <th>Marital_Status</th>\n",
       "      <th>Department</th>\n",
       "      <th>Job_Role</th>\n",
       "      <th>Job_Level</th>\n",
       "      <th>Monthly_Income</th>\n",
       "      <th>Years_at_Company</th>\n",
       "      <th>Work_Life_Balance</th>\n",
       "      <th>Job_Satisfaction</th>\n",
       "      <th>Performance_Rating</th>\n",
       "      <th>Training_Hours_Last_Year</th>\n",
       "      <th>Overtime</th>\n",
       "      <th>Project_Count</th>\n",
       "      <th>Absenteeism</th>\n",
       "      <th>Work_Environment_Satisfaction</th>\n",
       "      <th>Relationship_with_Manager</th>\n",
       "      <th>Job_Involvement</th>\n",
       "      <th>Distance_From_Home</th>\n",
       "      <th>Number_of_Companies_Worked</th>\n",
       "    </tr>\n",
       "  </thead>\n",
       "  <tbody>\n",
       "    <tr>\n",
       "      <th>0</th>\n",
       "      <td>58</td>\n",
       "      <td>0</td>\n",
       "      <td>1.0</td>\n",
       "      <td>2.0</td>\n",
       "      <td>3.0</td>\n",
       "      <td>1</td>\n",
       "      <td>15488</td>\n",
       "      <td>15</td>\n",
       "      <td>1</td>\n",
       "      <td>3</td>\n",
       "      <td>4</td>\n",
       "      <td>14</td>\n",
       "      <td>0</td>\n",
       "      <td>6</td>\n",
       "      <td>17</td>\n",
       "      <td>4</td>\n",
       "      <td>4</td>\n",
       "      <td>4</td>\n",
       "      <td>20</td>\n",
       "      <td>3</td>\n",
       "    </tr>\n",
       "    <tr>\n",
       "      <th>1</th>\n",
       "      <td>48</td>\n",
       "      <td>0</td>\n",
       "      <td>1.0</td>\n",
       "      <td>4.0</td>\n",
       "      <td>1.0</td>\n",
       "      <td>5</td>\n",
       "      <td>13079</td>\n",
       "      <td>6</td>\n",
       "      <td>2</td>\n",
       "      <td>1</td>\n",
       "      <td>1</td>\n",
       "      <td>6</td>\n",
       "      <td>1</td>\n",
       "      <td>2</td>\n",
       "      <td>1</td>\n",
       "      <td>4</td>\n",
       "      <td>1</td>\n",
       "      <td>2</td>\n",
       "      <td>25</td>\n",
       "      <td>2</td>\n",
       "    </tr>\n",
       "    <tr>\n",
       "      <th>2</th>\n",
       "      <td>34</td>\n",
       "      <td>1</td>\n",
       "      <td>1.0</td>\n",
       "      <td>3.0</td>\n",
       "      <td>1.0</td>\n",
       "      <td>1</td>\n",
       "      <td>13744</td>\n",
       "      <td>24</td>\n",
       "      <td>3</td>\n",
       "      <td>2</td>\n",
       "      <td>1</td>\n",
       "      <td>77</td>\n",
       "      <td>1</td>\n",
       "      <td>6</td>\n",
       "      <td>2</td>\n",
       "      <td>3</td>\n",
       "      <td>4</td>\n",
       "      <td>4</td>\n",
       "      <td>45</td>\n",
       "      <td>3</td>\n",
       "    </tr>\n",
       "    <tr>\n",
       "      <th>3</th>\n",
       "      <td>27</td>\n",
       "      <td>0</td>\n",
       "      <td>0.0</td>\n",
       "      <td>3.0</td>\n",
       "      <td>3.0</td>\n",
       "      <td>1</td>\n",
       "      <td>6809</td>\n",
       "      <td>10</td>\n",
       "      <td>3</td>\n",
       "      <td>5</td>\n",
       "      <td>4</td>\n",
       "      <td>49</td>\n",
       "      <td>0</td>\n",
       "      <td>9</td>\n",
       "      <td>18</td>\n",
       "      <td>2</td>\n",
       "      <td>3</td>\n",
       "      <td>1</td>\n",
       "      <td>35</td>\n",
       "      <td>3</td>\n",
       "    </tr>\n",
       "    <tr>\n",
       "      <th>4</th>\n",
       "      <td>40</td>\n",
       "      <td>1</td>\n",
       "      <td>0.0</td>\n",
       "      <td>3.0</td>\n",
       "      <td>2.0</td>\n",
       "      <td>1</td>\n",
       "      <td>10206</td>\n",
       "      <td>29</td>\n",
       "      <td>2</td>\n",
       "      <td>5</td>\n",
       "      <td>1</td>\n",
       "      <td>64</td>\n",
       "      <td>0</td>\n",
       "      <td>3</td>\n",
       "      <td>0</td>\n",
       "      <td>4</td>\n",
       "      <td>1</td>\n",
       "      <td>3</td>\n",
       "      <td>44</td>\n",
       "      <td>3</td>\n",
       "    </tr>\n",
       "  </tbody>\n",
       "</table>\n",
       "</div>"
      ],
      "text/plain": [
       "   Age  Gender  Marital_Status  Department  Job_Role  Job_Level  \\\n",
       "0   58       0             1.0         2.0       3.0          1   \n",
       "1   48       0             1.0         4.0       1.0          5   \n",
       "2   34       1             1.0         3.0       1.0          1   \n",
       "3   27       0             0.0         3.0       3.0          1   \n",
       "4   40       1             0.0         3.0       2.0          1   \n",
       "\n",
       "   Monthly_Income  Years_at_Company  Work_Life_Balance  Job_Satisfaction  \\\n",
       "0           15488                15                  1                 3   \n",
       "1           13079                 6                  2                 1   \n",
       "2           13744                24                  3                 2   \n",
       "3            6809                10                  3                 5   \n",
       "4           10206                29                  2                 5   \n",
       "\n",
       "   Performance_Rating  Training_Hours_Last_Year  Overtime  Project_Count  \\\n",
       "0                   4                        14         0              6   \n",
       "1                   1                         6         1              2   \n",
       "2                   1                        77         1              6   \n",
       "3                   4                        49         0              9   \n",
       "4                   1                        64         0              3   \n",
       "\n",
       "   Absenteeism  Work_Environment_Satisfaction  Relationship_with_Manager  \\\n",
       "0           17                              4                          4   \n",
       "1            1                              4                          1   \n",
       "2            2                              3                          4   \n",
       "3           18                              2                          3   \n",
       "4            0                              4                          1   \n",
       "\n",
       "   Job_Involvement  Distance_From_Home  Number_of_Companies_Worked  \n",
       "0                4                  20                           3  \n",
       "1                2                  25                           2  \n",
       "2                4                  45                           3  \n",
       "3                1                  35                           3  \n",
       "4                3                  44                           3  "
      ]
     },
     "execution_count": 48,
     "metadata": {},
     "output_type": "execute_result"
    }
   ],
   "source": [
    "X.head()"
   ]
  },
  {
   "cell_type": "code",
   "execution_count": 49,
   "metadata": {
    "colab": {
     "base_uri": "https://localhost:8080/",
     "height": 241
    },
    "executionInfo": {
     "elapsed": 3,
     "status": "ok",
     "timestamp": 1759930914458,
     "user": {
      "displayName": "Nathalia Minoque",
      "userId": "00797020017705806857"
     },
     "user_tz": -420
    },
    "id": "E-GoH-eOlsfi",
    "outputId": "998b66b1-3049-4032-f091-46ae2d506e1a"
   },
   "outputs": [
    {
     "data": {
      "text/plain": [
       "0    0\n",
       "1    0\n",
       "2    0\n",
       "3    0\n",
       "4    0\n",
       "Name: Attrition, dtype: int64"
      ]
     },
     "execution_count": 49,
     "metadata": {},
     "output_type": "execute_result"
    }
   ],
   "source": [
    "y.head()"
   ]
  },
  {
   "cell_type": "markdown",
   "metadata": {
    "id": "c1cab5e3"
   },
   "source": [
    "## Split data\n",
    "\n",
    "### Subtask:\n",
    "Split the encoded data into training and testing sets.\n"
   ]
  },
  {
   "cell_type": "markdown",
   "metadata": {
    "id": "19cd5dad"
   },
   "source": [
    "**Reasoning**:\n",
    "Split the encoded feature DataFrame X and the target Series y into training and testing sets.\n",
    "\n"
   ]
  },
  {
   "cell_type": "code",
   "execution_count": 50,
   "metadata": {
    "executionInfo": {
     "elapsed": 1,
     "status": "ok",
     "timestamp": 1759930914459,
     "user": {
      "displayName": "Nathalia Minoque",
      "userId": "00797020017705806857"
     },
     "user_tz": -420
    },
    "id": "8bff39ce"
   },
   "outputs": [],
   "source": [
    "from sklearn.model_selection import train_test_split\n",
    "\n",
    "X_train, X_test, y_train, y_test = train_test_split(X, y, test_size=0.3, random_state=0)"
   ]
  },
  {
   "cell_type": "code",
   "execution_count": 51,
   "metadata": {
    "colab": {
     "base_uri": "https://localhost:8080/"
    },
    "executionInfo": {
     "elapsed": 14,
     "status": "ok",
     "timestamp": 1759930914474,
     "user": {
      "displayName": "Nathalia Minoque",
      "userId": "00797020017705806857"
     },
     "user_tz": -420
    },
    "id": "3wt4jSJ1venO",
    "outputId": "3641ee3b-5521-4078-c8e2-9d3ef85f7953"
   },
   "outputs": [
    {
     "data": {
      "text/plain": [
       "((700, 20), (300, 20))"
      ]
     },
     "execution_count": 51,
     "metadata": {},
     "output_type": "execute_result"
    }
   ],
   "source": [
    "# check the shape of X_train and X_test\n",
    "\n",
    "X_train.shape, X_test.shape"
   ]
  },
  {
   "cell_type": "code",
   "execution_count": 52,
   "metadata": {
    "colab": {
     "base_uri": "https://localhost:8080/",
     "height": 226
    },
    "executionInfo": {
     "elapsed": 28,
     "status": "ok",
     "timestamp": 1759930914503,
     "user": {
      "displayName": "Nathalia Minoque",
      "userId": "00797020017705806857"
     },
     "user_tz": -420
    },
    "id": "KoG5mTTMvgay",
    "outputId": "f6f2f2a5-40d0-44dc-ecfe-7d330e75994a"
   },
   "outputs": [
    {
     "data": {
      "text/html": [
       "<div>\n",
       "<style scoped>\n",
       "    .dataframe tbody tr th:only-of-type {\n",
       "        vertical-align: middle;\n",
       "    }\n",
       "\n",
       "    .dataframe tbody tr th {\n",
       "        vertical-align: top;\n",
       "    }\n",
       "\n",
       "    .dataframe thead th {\n",
       "        text-align: right;\n",
       "    }\n",
       "</style>\n",
       "<table border=\"1\" class=\"dataframe\">\n",
       "  <thead>\n",
       "    <tr style=\"text-align: right;\">\n",
       "      <th></th>\n",
       "      <th>Age</th>\n",
       "      <th>Gender</th>\n",
       "      <th>Marital_Status</th>\n",
       "      <th>Department</th>\n",
       "      <th>Job_Role</th>\n",
       "      <th>Job_Level</th>\n",
       "      <th>Monthly_Income</th>\n",
       "      <th>Years_at_Company</th>\n",
       "      <th>Work_Life_Balance</th>\n",
       "      <th>Job_Satisfaction</th>\n",
       "      <th>Performance_Rating</th>\n",
       "      <th>Training_Hours_Last_Year</th>\n",
       "      <th>Overtime</th>\n",
       "      <th>Project_Count</th>\n",
       "      <th>Absenteeism</th>\n",
       "      <th>Work_Environment_Satisfaction</th>\n",
       "      <th>Relationship_with_Manager</th>\n",
       "      <th>Job_Involvement</th>\n",
       "      <th>Distance_From_Home</th>\n",
       "      <th>Number_of_Companies_Worked</th>\n",
       "    </tr>\n",
       "  </thead>\n",
       "  <tbody>\n",
       "    <tr>\n",
       "      <th>105</th>\n",
       "      <td>41</td>\n",
       "      <td>0</td>\n",
       "      <td>1.0</td>\n",
       "      <td>3.0</td>\n",
       "      <td>1.0</td>\n",
       "      <td>2</td>\n",
       "      <td>6144</td>\n",
       "      <td>21</td>\n",
       "      <td>2</td>\n",
       "      <td>3</td>\n",
       "      <td>2</td>\n",
       "      <td>14</td>\n",
       "      <td>0</td>\n",
       "      <td>8</td>\n",
       "      <td>13</td>\n",
       "      <td>1</td>\n",
       "      <td>1</td>\n",
       "      <td>4</td>\n",
       "      <td>34</td>\n",
       "      <td>2</td>\n",
       "    </tr>\n",
       "    <tr>\n",
       "      <th>68</th>\n",
       "      <td>59</td>\n",
       "      <td>0</td>\n",
       "      <td>2.0</td>\n",
       "      <td>4.0</td>\n",
       "      <td>2.0</td>\n",
       "      <td>3</td>\n",
       "      <td>3935</td>\n",
       "      <td>7</td>\n",
       "      <td>2</td>\n",
       "      <td>2</td>\n",
       "      <td>1</td>\n",
       "      <td>39</td>\n",
       "      <td>0</td>\n",
       "      <td>7</td>\n",
       "      <td>12</td>\n",
       "      <td>3</td>\n",
       "      <td>2</td>\n",
       "      <td>4</td>\n",
       "      <td>19</td>\n",
       "      <td>2</td>\n",
       "    </tr>\n",
       "    <tr>\n",
       "      <th>479</th>\n",
       "      <td>56</td>\n",
       "      <td>0</td>\n",
       "      <td>1.0</td>\n",
       "      <td>4.0</td>\n",
       "      <td>3.0</td>\n",
       "      <td>1</td>\n",
       "      <td>15478</td>\n",
       "      <td>17</td>\n",
       "      <td>4</td>\n",
       "      <td>3</td>\n",
       "      <td>2</td>\n",
       "      <td>35</td>\n",
       "      <td>0</td>\n",
       "      <td>3</td>\n",
       "      <td>6</td>\n",
       "      <td>2</td>\n",
       "      <td>4</td>\n",
       "      <td>4</td>\n",
       "      <td>5</td>\n",
       "      <td>2</td>\n",
       "    </tr>\n",
       "    <tr>\n",
       "      <th>399</th>\n",
       "      <td>49</td>\n",
       "      <td>1</td>\n",
       "      <td>1.0</td>\n",
       "      <td>1.0</td>\n",
       "      <td>3.0</td>\n",
       "      <td>4</td>\n",
       "      <td>9040</td>\n",
       "      <td>29</td>\n",
       "      <td>1</td>\n",
       "      <td>4</td>\n",
       "      <td>1</td>\n",
       "      <td>16</td>\n",
       "      <td>1</td>\n",
       "      <td>9</td>\n",
       "      <td>17</td>\n",
       "      <td>4</td>\n",
       "      <td>3</td>\n",
       "      <td>4</td>\n",
       "      <td>45</td>\n",
       "      <td>1</td>\n",
       "    </tr>\n",
       "    <tr>\n",
       "      <th>434</th>\n",
       "      <td>52</td>\n",
       "      <td>0</td>\n",
       "      <td>2.0</td>\n",
       "      <td>3.0</td>\n",
       "      <td>0.0</td>\n",
       "      <td>1</td>\n",
       "      <td>11219</td>\n",
       "      <td>21</td>\n",
       "      <td>3</td>\n",
       "      <td>5</td>\n",
       "      <td>1</td>\n",
       "      <td>57</td>\n",
       "      <td>0</td>\n",
       "      <td>3</td>\n",
       "      <td>10</td>\n",
       "      <td>2</td>\n",
       "      <td>4</td>\n",
       "      <td>3</td>\n",
       "      <td>45</td>\n",
       "      <td>3</td>\n",
       "    </tr>\n",
       "  </tbody>\n",
       "</table>\n",
       "</div>"
      ],
      "text/plain": [
       "     Age  Gender  Marital_Status  Department  Job_Role  Job_Level  \\\n",
       "105   41       0             1.0         3.0       1.0          2   \n",
       "68    59       0             2.0         4.0       2.0          3   \n",
       "479   56       0             1.0         4.0       3.0          1   \n",
       "399   49       1             1.0         1.0       3.0          4   \n",
       "434   52       0             2.0         3.0       0.0          1   \n",
       "\n",
       "     Monthly_Income  Years_at_Company  Work_Life_Balance  Job_Satisfaction  \\\n",
       "105            6144                21                  2                 3   \n",
       "68             3935                 7                  2                 2   \n",
       "479           15478                17                  4                 3   \n",
       "399            9040                29                  1                 4   \n",
       "434           11219                21                  3                 5   \n",
       "\n",
       "     Performance_Rating  Training_Hours_Last_Year  Overtime  Project_Count  \\\n",
       "105                   2                        14         0              8   \n",
       "68                    1                        39         0              7   \n",
       "479                   2                        35         0              3   \n",
       "399                   1                        16         1              9   \n",
       "434                   1                        57         0              3   \n",
       "\n",
       "     Absenteeism  Work_Environment_Satisfaction  Relationship_with_Manager  \\\n",
       "105           13                              1                          1   \n",
       "68            12                              3                          2   \n",
       "479            6                              2                          4   \n",
       "399           17                              4                          3   \n",
       "434           10                              2                          4   \n",
       "\n",
       "     Job_Involvement  Distance_From_Home  Number_of_Companies_Worked  \n",
       "105                4                  34                           2  \n",
       "68                 4                  19                           2  \n",
       "479                4                   5                           2  \n",
       "399                4                  45                           1  \n",
       "434                3                  45                           3  "
      ]
     },
     "execution_count": 52,
     "metadata": {},
     "output_type": "execute_result"
    }
   ],
   "source": [
    "X_train.head()"
   ]
  },
  {
   "cell_type": "code",
   "execution_count": 53,
   "metadata": {
    "colab": {
     "base_uri": "https://localhost:8080/",
     "height": 226
    },
    "executionInfo": {
     "elapsed": 4,
     "status": "ok",
     "timestamp": 1759930914538,
     "user": {
      "displayName": "Nathalia Minoque",
      "userId": "00797020017705806857"
     },
     "user_tz": -420
    },
    "id": "dUCp2TkzvhND",
    "outputId": "5dc5e637-fa04-4149-a4df-c49b0271bf3d"
   },
   "outputs": [
    {
     "data": {
      "text/html": [
       "<div>\n",
       "<style scoped>\n",
       "    .dataframe tbody tr th:only-of-type {\n",
       "        vertical-align: middle;\n",
       "    }\n",
       "\n",
       "    .dataframe tbody tr th {\n",
       "        vertical-align: top;\n",
       "    }\n",
       "\n",
       "    .dataframe thead th {\n",
       "        text-align: right;\n",
       "    }\n",
       "</style>\n",
       "<table border=\"1\" class=\"dataframe\">\n",
       "  <thead>\n",
       "    <tr style=\"text-align: right;\">\n",
       "      <th></th>\n",
       "      <th>Age</th>\n",
       "      <th>Gender</th>\n",
       "      <th>Marital_Status</th>\n",
       "      <th>Department</th>\n",
       "      <th>Job_Role</th>\n",
       "      <th>Job_Level</th>\n",
       "      <th>Monthly_Income</th>\n",
       "      <th>Years_at_Company</th>\n",
       "      <th>Work_Life_Balance</th>\n",
       "      <th>Job_Satisfaction</th>\n",
       "      <th>Performance_Rating</th>\n",
       "      <th>Training_Hours_Last_Year</th>\n",
       "      <th>Overtime</th>\n",
       "      <th>Project_Count</th>\n",
       "      <th>Absenteeism</th>\n",
       "      <th>Work_Environment_Satisfaction</th>\n",
       "      <th>Relationship_with_Manager</th>\n",
       "      <th>Job_Involvement</th>\n",
       "      <th>Distance_From_Home</th>\n",
       "      <th>Number_of_Companies_Worked</th>\n",
       "    </tr>\n",
       "  </thead>\n",
       "  <tbody>\n",
       "    <tr>\n",
       "      <th>993</th>\n",
       "      <td>24</td>\n",
       "      <td>1</td>\n",
       "      <td>0.0</td>\n",
       "      <td>0.0</td>\n",
       "      <td>3.0</td>\n",
       "      <td>2</td>\n",
       "      <td>16465</td>\n",
       "      <td>10</td>\n",
       "      <td>4</td>\n",
       "      <td>2</td>\n",
       "      <td>4</td>\n",
       "      <td>6</td>\n",
       "      <td>1</td>\n",
       "      <td>7</td>\n",
       "      <td>18</td>\n",
       "      <td>2</td>\n",
       "      <td>2</td>\n",
       "      <td>3</td>\n",
       "      <td>8</td>\n",
       "      <td>4</td>\n",
       "    </tr>\n",
       "    <tr>\n",
       "      <th>859</th>\n",
       "      <td>25</td>\n",
       "      <td>0</td>\n",
       "      <td>0.0</td>\n",
       "      <td>1.0</td>\n",
       "      <td>0.0</td>\n",
       "      <td>5</td>\n",
       "      <td>18871</td>\n",
       "      <td>16</td>\n",
       "      <td>4</td>\n",
       "      <td>1</td>\n",
       "      <td>1</td>\n",
       "      <td>4</td>\n",
       "      <td>0</td>\n",
       "      <td>3</td>\n",
       "      <td>4</td>\n",
       "      <td>1</td>\n",
       "      <td>4</td>\n",
       "      <td>4</td>\n",
       "      <td>19</td>\n",
       "      <td>3</td>\n",
       "    </tr>\n",
       "    <tr>\n",
       "      <th>298</th>\n",
       "      <td>43</td>\n",
       "      <td>1</td>\n",
       "      <td>1.0</td>\n",
       "      <td>0.0</td>\n",
       "      <td>2.0</td>\n",
       "      <td>4</td>\n",
       "      <td>11226</td>\n",
       "      <td>26</td>\n",
       "      <td>2</td>\n",
       "      <td>4</td>\n",
       "      <td>4</td>\n",
       "      <td>34</td>\n",
       "      <td>1</td>\n",
       "      <td>6</td>\n",
       "      <td>7</td>\n",
       "      <td>2</td>\n",
       "      <td>3</td>\n",
       "      <td>2</td>\n",
       "      <td>32</td>\n",
       "      <td>1</td>\n",
       "    </tr>\n",
       "    <tr>\n",
       "      <th>553</th>\n",
       "      <td>58</td>\n",
       "      <td>0</td>\n",
       "      <td>0.0</td>\n",
       "      <td>4.0</td>\n",
       "      <td>1.0</td>\n",
       "      <td>3</td>\n",
       "      <td>18859</td>\n",
       "      <td>8</td>\n",
       "      <td>1</td>\n",
       "      <td>3</td>\n",
       "      <td>4</td>\n",
       "      <td>89</td>\n",
       "      <td>0</td>\n",
       "      <td>8</td>\n",
       "      <td>3</td>\n",
       "      <td>2</td>\n",
       "      <td>2</td>\n",
       "      <td>3</td>\n",
       "      <td>17</td>\n",
       "      <td>3</td>\n",
       "    </tr>\n",
       "    <tr>\n",
       "      <th>672</th>\n",
       "      <td>31</td>\n",
       "      <td>0</td>\n",
       "      <td>2.0</td>\n",
       "      <td>4.0</td>\n",
       "      <td>3.0</td>\n",
       "      <td>3</td>\n",
       "      <td>10509</td>\n",
       "      <td>23</td>\n",
       "      <td>3</td>\n",
       "      <td>1</td>\n",
       "      <td>3</td>\n",
       "      <td>79</td>\n",
       "      <td>0</td>\n",
       "      <td>7</td>\n",
       "      <td>7</td>\n",
       "      <td>4</td>\n",
       "      <td>1</td>\n",
       "      <td>4</td>\n",
       "      <td>36</td>\n",
       "      <td>1</td>\n",
       "    </tr>\n",
       "  </tbody>\n",
       "</table>\n",
       "</div>"
      ],
      "text/plain": [
       "     Age  Gender  Marital_Status  Department  Job_Role  Job_Level  \\\n",
       "993   24       1             0.0         0.0       3.0          2   \n",
       "859   25       0             0.0         1.0       0.0          5   \n",
       "298   43       1             1.0         0.0       2.0          4   \n",
       "553   58       0             0.0         4.0       1.0          3   \n",
       "672   31       0             2.0         4.0       3.0          3   \n",
       "\n",
       "     Monthly_Income  Years_at_Company  Work_Life_Balance  Job_Satisfaction  \\\n",
       "993           16465                10                  4                 2   \n",
       "859           18871                16                  4                 1   \n",
       "298           11226                26                  2                 4   \n",
       "553           18859                 8                  1                 3   \n",
       "672           10509                23                  3                 1   \n",
       "\n",
       "     Performance_Rating  Training_Hours_Last_Year  Overtime  Project_Count  \\\n",
       "993                   4                         6         1              7   \n",
       "859                   1                         4         0              3   \n",
       "298                   4                        34         1              6   \n",
       "553                   4                        89         0              8   \n",
       "672                   3                        79         0              7   \n",
       "\n",
       "     Absenteeism  Work_Environment_Satisfaction  Relationship_with_Manager  \\\n",
       "993           18                              2                          2   \n",
       "859            4                              1                          4   \n",
       "298            7                              2                          3   \n",
       "553            3                              2                          2   \n",
       "672            7                              4                          1   \n",
       "\n",
       "     Job_Involvement  Distance_From_Home  Number_of_Companies_Worked  \n",
       "993                3                   8                           4  \n",
       "859                4                  19                           3  \n",
       "298                2                  32                           1  \n",
       "553                3                  17                           3  \n",
       "672                4                  36                           1  "
      ]
     },
     "execution_count": 53,
     "metadata": {},
     "output_type": "execute_result"
    }
   ],
   "source": [
    "X_test.head()"
   ]
  },
  {
   "cell_type": "markdown",
   "metadata": {
    "id": "tYKRF9dGvnIs"
   },
   "source": [
    "# Decision Tree Classifier"
   ]
  },
  {
   "cell_type": "code",
   "execution_count": 54,
   "metadata": {
    "colab": {
     "base_uri": "https://localhost:8080/"
    },
    "executionInfo": {
     "elapsed": 69,
     "status": "ok",
     "timestamp": 1759930914608,
     "user": {
      "displayName": "Nathalia Minoque",
      "userId": "00797020017705806857"
     },
     "user_tz": -420
    },
    "id": "9cmcpAAsmJEc",
    "outputId": "726669da-4341-43e3-fd60-8741f21ec9de"
   },
   "outputs": [
    {
     "name": "stdout",
     "output_type": "stream",
     "text": [
      "\n",
      "=== Classification Report (Training Set) ===\n",
      "              precision    recall  f1-score   support\n",
      "\n",
      "           0       1.00      1.00      1.00       566\n",
      "           1       1.00      1.00      1.00       134\n",
      "\n",
      "    accuracy                           1.00       700\n",
      "   macro avg       1.00      1.00      1.00       700\n",
      "weighted avg       1.00      1.00      1.00       700\n",
      "\n",
      "\n",
      "=== Classification Report (Test Set) ===\n",
      "              precision    recall  f1-score   support\n",
      "\n",
      "           0       0.80      0.77      0.78       245\n",
      "           1       0.14      0.16      0.15        55\n",
      "\n",
      "    accuracy                           0.66       300\n",
      "   macro avg       0.47      0.47      0.47       300\n",
      "weighted avg       0.68      0.66      0.67       300\n",
      "\n"
     ]
    }
   ],
   "source": [
    "from sklearn.tree import DecisionTreeClassifier\n",
    "from sklearn.metrics import f1_score, precision_score, recall_score, classification_report\n",
    "\n",
    "tree = DecisionTreeClassifier(random_state=0)\n",
    "tree.fit(X_train, y_train)\n",
    "\n",
    "y_pred_train = tree.predict(X_train)\n",
    "y_pred_test = tree.predict(X_test)\n",
    "\n",
    "print(\"\\n=== Classification Report (Training Set) ===\")\n",
    "print(classification_report(y_train, y_pred_train))\n",
    "\n",
    "print(\"\\n=== Classification Report (Test Set) ===\")\n",
    "print(classification_report(y_test, y_pred_test))"
   ]
  },
  {
   "cell_type": "markdown",
   "metadata": {
    "id": "xCHXia5bmTqk"
   },
   "source": [
    "# What to do next?\n",
    "Fix Overfitting: The model is memorizing the data, showing 100% accuracy on the training set but only 66% on the test set. We'll fix this by pruning the tree (e.g., setting a max_depth). <br>\n",
    "\n",
    "Handle Imbalance: The model can't predict employees who leave (the F1-score is only 0.21 for them). We need to continue using a technique like SMOTE to balance the data.<br>\n",
    "\n",
    "Select Features: To further simplify the model and help with overfitting, we'll drop the least important features.<br>"
   ]
  },
  {
   "cell_type": "markdown",
   "metadata": {
    "id": "o-LRnCiXDTKe"
   },
   "source": [
    "# Oversampling using SMOTENC"
   ]
  },
  {
   "cell_type": "code",
   "execution_count": 55,
   "metadata": {},
   "outputs": [
    {
     "name": "stdout",
     "output_type": "stream",
     "text": [
      "['Age', 'Gender', 'Marital_Status', 'Department', 'Job_Role', 'Job_Level', 'Monthly_Income', 'Years_at_Company', 'Work_Life_Balance', 'Job_Satisfaction', 'Performance_Rating', 'Training_Hours_Last_Year', 'Overtime', 'Project_Count', 'Absenteeism', 'Work_Environment_Satisfaction', 'Relationship_with_Manager', 'Job_Involvement', 'Distance_From_Home', 'Number_of_Companies_Worked', 'Attrition']\n"
     ]
    }
   ],
   "source": [
    "print(df.columns.tolist())"
   ]
  },
  {
   "cell_type": "code",
   "execution_count": 133,
   "metadata": {
    "colab": {
     "base_uri": "https://localhost:8080/"
    },
    "executionInfo": {
     "elapsed": 382,
     "status": "ok",
     "timestamp": 1759930914989,
     "user": {
      "displayName": "Nathalia Minoque",
      "userId": "00797020017705806857"
     },
     "user_tz": -420
    },
    "id": "BWj-VnSlQ62o",
    "outputId": "70c50bed-f902-40ce-c230-3fe1aa161013"
   },
   "outputs": [
    {
     "data": {
      "text/plain": [
       "((1216, 20), (406, 20))"
      ]
     },
     "execution_count": 133,
     "metadata": {},
     "output_type": "execute_result"
    }
   ],
   "source": [
    "# using SMOTE-NC for dataset containing numerical and categorical features.\n",
    "\n",
    "from imblearn.over_sampling import SMOTENC\n",
    "\n",
    "# we should define the categorical features first to make \n",
    "# oversampling more accurate\n",
    "categorical_features = [\n",
    "    'Gender', 'Marital_Status', 'Department', 'Job_Role', \n",
    "    'Job_Level', 'Years_at_Company', 'Work_Life_Balance', \n",
    "    'Job_Satisfaction', 'Performance_Rating', 'Training_Hours_Last_Year', \n",
    "    'Overtime', 'Project_Count', 'Absenteeism', \n",
    "    'Work_Environment_Satisfaction', 'Relationship_with_Manager', \n",
    "    'Job_Involvement', 'Distance_From_Home', 'Number_of_Companies_Worked'\n",
    "]\n",
    "\n",
    "smotenc = SMOTENC(categorical_features=categorical_features, random_state=42)\n",
    "X, y = smotenc.fit_resample(X, y)\n",
    "\n",
    "# dont forget to always do partitioning AFTER undersampling/oversampling\n",
    "X_train, X_test, y_train, y_test = train_test_split(X, y, test_size=0.25, random_state=1)\n",
    "\n",
    "# check the shape of X_train and X_test\n",
    "X_train.shape, X_test.shape"
   ]
  },
  {
   "cell_type": "code",
   "execution_count": 134,
   "metadata": {
    "colab": {
     "base_uri": "https://localhost:8080/",
     "height": 472
    },
    "executionInfo": {
     "elapsed": 70,
     "status": "ok",
     "timestamp": 1759930915060,
     "user": {
      "displayName": "Nathalia Minoque",
      "userId": "00797020017705806857"
     },
     "user_tz": -420
    },
    "id": "SNC1YMGk8M_b",
    "outputId": "25007e8b-fbc3-43db-e879-84fac3d8a83b"
   },
   "outputs": [
    {
     "data": {
      "image/png": "[encoded data removed]",
      "text/plain": [
       "<Figure size 640x480 with 1 Axes>"
      ]
     },
     "metadata": {},
     "output_type": "display_data"
    }
   ],
   "source": [
    "# just to visualize the distribution of target class after SMOTENC\n",
    "\n",
    "sns.countplot(x=y_train)\n",
    "plt.title('Distribution of Attrition after SMOTENC')\n",
    "plt.xlabel('Attrition')\n",
    "plt.ylabel('Count')\n",
    "plt.show()"
   ]
  },
  {
   "cell_type": "code",
   "execution_count": 92,
   "metadata": {
    "colab": {
     "base_uri": "https://localhost:8080/"
    },
    "executionInfo": {
     "elapsed": 5,
     "status": "ok",
     "timestamp": 1759930915074,
     "user": {
      "displayName": "Nathalia Minoque",
      "userId": "00797020017705806857"
     },
     "user_tz": -420
    },
    "id": "6dNRwluzTPr9",
    "outputId": "bfe242f0-c252-4fc5-db86-f78178213c9a"
   },
   "outputs": [
    {
     "name": "stdout",
     "output_type": "stream",
     "text": [
      "<class 'pandas.core.frame.DataFrame'>\n",
      "RangeIndex: 1000 entries, 0 to 999\n",
      "Data columns (total 21 columns):\n",
      " #   Column                         Non-Null Count  Dtype \n",
      "---  ------                         --------------  ----- \n",
      " 0   Age                            1000 non-null   int64 \n",
      " 1   Gender                         1000 non-null   object\n",
      " 2   Marital_Status                 1000 non-null   object\n",
      " 3   Department                     1000 non-null   object\n",
      " 4   Job_Role                       1000 non-null   object\n",
      " 5   Job_Level                      1000 non-null   int64 \n",
      " 6   Monthly_Income                 1000 non-null   int64 \n",
      " 7   Years_at_Company               1000 non-null   int64 \n",
      " 8   Work_Life_Balance              1000 non-null   int64 \n",
      " 9   Job_Satisfaction               1000 non-null   int64 \n",
      " 10  Performance_Rating             1000 non-null   int64 \n",
      " 11  Training_Hours_Last_Year       1000 non-null   int64 \n",
      " 12  Overtime                       1000 non-null   object\n",
      " 13  Project_Count                  1000 non-null   int64 \n",
      " 14  Absenteeism                    1000 non-null   int64 \n",
      " 15  Work_Environment_Satisfaction  1000 non-null   int64 \n",
      " 16  Relationship_with_Manager      1000 non-null   int64 \n",
      " 17  Job_Involvement                1000 non-null   int64 \n",
      " 18  Distance_From_Home             1000 non-null   int64 \n",
      " 19  Number_of_Companies_Worked     1000 non-null   int64 \n",
      " 20  Attrition                      1000 non-null   object\n",
      "dtypes: int64(15), object(6)\n",
      "memory usage: 164.2+ KB\n"
     ]
    }
   ],
   "source": [
    "df.info()"
   ]
  },
  {
   "cell_type": "code",
   "execution_count": 135,
   "metadata": {
    "colab": {
     "base_uri": "https://localhost:8080/"
    },
    "executionInfo": {
     "elapsed": 47,
     "status": "ok",
     "timestamp": 1759930915134,
     "user": {
      "displayName": "Nathalia Minoque",
      "userId": "00797020017705806857"
     },
     "user_tz": -420
    },
    "id": "JvpxFQrh8hvh",
    "outputId": "3c7226ae-c35a-49cd-f334-98daff3ebad0"
   },
   "outputs": [
    {
     "name": "stdout",
     "output_type": "stream",
     "text": [
      "\n",
      "=== Classification Report (Training Set) ===\n",
      "              precision    recall  f1-score   support\n",
      "\n",
      "           0       1.00      1.00      1.00       611\n",
      "           1       1.00      1.00      1.00       605\n",
      "\n",
      "    accuracy                           1.00      1216\n",
      "   macro avg       1.00      1.00      1.00      1216\n",
      "weighted avg       1.00      1.00      1.00      1216\n",
      "\n",
      "\n",
      "=== Classification Report (Test Set) ===\n",
      "              precision    recall  f1-score   support\n",
      "\n",
      "           0       0.67      0.66      0.66       200\n",
      "           1       0.67      0.68      0.68       206\n",
      "\n",
      "    accuracy                           0.67       406\n",
      "   macro avg       0.67      0.67      0.67       406\n",
      "weighted avg       0.67      0.67      0.67       406\n",
      "\n"
     ]
    }
   ],
   "source": [
    "# BUILD CLASSIFICATION MODEL but with no parameters :(\n",
    "tree = DecisionTreeClassifier()\n",
    "tree.fit(X_train, y_train)\n",
    "\n",
    "y_pred_train = tree.predict(X_train)\n",
    "y_pred_test = tree.predict(X_test)\n",
    "\n",
    "print(\"\\n=== Classification Report (Training Set) ===\")\n",
    "print(classification_report(y_train, y_pred_train))\n",
    "\n",
    "print(\"\\n=== Classification Report (Test Set) ===\")\n",
    "print(classification_report(y_test, y_pred_test))"
   ]
  },
  {
   "cell_type": "markdown",
   "metadata": {
    "id": "5Norg4Jc9zJ_"
   },
   "source": [
    "Wow the performance is getting higher, but i want to handle overfitting by using KFold Cross Validation"
   ]
  },
  {
   "cell_type": "markdown",
   "metadata": {
    "id": "ByWs2pumnURW"
   },
   "source": [
    "# KFold Cross Validation"
   ]
  },
  {
   "cell_type": "code",
   "execution_count": 136,
   "metadata": {
    "colab": {
     "base_uri": "https://localhost:8080/"
    },
    "executionInfo": {
     "elapsed": 56,
     "status": "ok",
     "timestamp": 1759930915191,
     "user": {
      "displayName": "Nathalia Minoque",
      "userId": "00797020017705806857"
     },
     "user_tz": -420
    },
    "id": "WAn59UH1nS7i",
    "outputId": "e08ee8a5-a913-46f8-84da-d1c81e3515e5"
   },
   "outputs": [
    {
     "name": "stdout",
     "output_type": "stream",
     "text": [
      "Fold:1, Train set: 1297, Test set:325\n",
      "Fold:2, Train set: 1297, Test set:325\n",
      "Fold:3, Train set: 1298, Test set:324\n",
      "Fold:4, Train set: 1298, Test set:324\n",
      "Fold:5, Train set: 1298, Test set:324\n"
     ]
    }
   ],
   "source": [
    "# Lets split the data into 5 folds.\n",
    "# We will use this 'kf'(KFold splitting stratergy) object as input to cross_val_score() method\n",
    "# The folds are made by preserving the percentage of samples for each class.\n",
    "from sklearn.model_selection import KFold, cross_val_score\n",
    "kf = KFold(n_splits=5, shuffle=True, random_state=42)\n",
    "\n",
    "cnt = 1\n",
    "# split() method generate indices to split data into training and test set.\n",
    "for train_index, test_index in kf.split(X, y):\n",
    "    print(f'Fold:{cnt}, Train set: {len(train_index)}, Test set:{len(test_index)}')\n",
    "    cnt+=1"
   ]
  },
  {
   "cell_type": "code",
   "execution_count": 137,
   "metadata": {
    "colab": {
     "base_uri": "https://localhost:8080/"
    },
    "executionInfo": {
     "elapsed": 188,
     "status": "ok",
     "timestamp": 1759930915380,
     "user": {
      "displayName": "Nathalia Minoque",
      "userId": "00797020017705806857"
     },
     "user_tz": -420
    },
    "id": "HFTd-gYNmOxj",
    "outputId": "0ec526b9-e963-4571-b535-2d53da6bcc16"
   },
   "outputs": [
    {
     "name": "stdout",
     "output_type": "stream",
     "text": [
      "Scores for each fold are: [0.71341463 0.69364162 0.61490683 0.67857143 0.6827957 ]\n",
      "Average score: 0.68\n"
     ]
    }
   ],
   "source": [
    "from sklearn.tree import DecisionTreeClassifier\n",
    "\n",
    "score = cross_val_score(DecisionTreeClassifier(random_state= 1), X, y, cv= kf, scoring=\"f1\")\n",
    "print(f'Scores for each fold are: {score}')\n",
    "print(f'Average score: {\"{:.2f}\".format(score.mean())}')"
   ]
  },
  {
   "cell_type": "code",
   "execution_count": 138,
   "metadata": {
    "colab": {
     "base_uri": "https://localhost:8080/"
    },
    "executionInfo": {
     "elapsed": 6594,
     "status": "ok",
     "timestamp": 1759930921976,
     "user": {
      "displayName": "Nathalia Minoque",
      "userId": "00797020017705806857"
     },
     "user_tz": -420
    },
    "id": "TQlrdXxnzAqn",
    "outputId": "c5002be9-980c-4e8e-93b4-4ebc1b5798b5"
   },
   "outputs": [
    {
     "name": "stdout",
     "output_type": "stream",
     "text": [
      "Fitting 5 folds for each of 60 candidates, totalling 300 fits\n",
      "Best parameters:  {'criterion': 'entropy', 'max_depth': 10, 'random_state': 11}\n",
      "Best cross-validation f1 score: 0.670\n"
     ]
    }
   ],
   "source": [
    "from sklearn.model_selection import GridSearchCV\n",
    "\n",
    "# Define the parameter grid to tune the hyperparameters\n",
    "param_grid = {\n",
    "    'criterion': ['gini', 'entropy'],\n",
    "    'max_depth': [1, 2, 3, 4, 5, 6, 7, 8, 9, 10],\n",
    "    'random_state': [11, 22, 33]\n",
    "}\n",
    "\n",
    "dtree_clf = DecisionTreeClassifier() # Initialize a decision tree classifier\n",
    "grid_search = GridSearchCV(estimator=dtree_clf, param_grid=param_grid,\n",
    "                           cv=5, n_jobs=-1, verbose=2, scoring='f1') # Use f1 scoring for classification\n",
    "grid_search.fit(X_train, y_train)\n",
    "\n",
    "best_dtree_clf = grid_search.best_estimator_ # Get the best estimator from the grid search\n",
    "y_pred_test = best_dtree_clf.predict(X_test)\n",
    "\n",
    "print(\"Best parameters: \", grid_search.best_params_)\n",
    "print(\"Best cross-validation f1 score: {:.3f}\".format(grid_search.best_score_))"
   ]
  },
  {
   "cell_type": "markdown",
   "metadata": {
    "id": "d33aZf8D_lZo"
   },
   "source": [
    "ok now the f1 score is 67% but i want to try with other way using feature importance, wish the result will be better"
   ]
  },
  {
   "cell_type": "markdown",
   "metadata": {
    "id": "4cZnWsV5_yqG"
   },
   "source": [
    "# Feature Importance"
   ]
  },
  {
   "cell_type": "code",
   "execution_count": 139,
   "metadata": {
    "colab": {
     "base_uri": "https://localhost:8080/"
    },
    "executionInfo": {
     "elapsed": 10,
     "status": "ok",
     "timestamp": 1759930921988,
     "user": {
      "displayName": "Nathalia Minoque",
      "userId": "00797020017705806857"
     },
     "user_tz": -420
    },
    "id": "Nt86sfNT1npu",
    "outputId": "0bcf0205-454e-4872-fec2-32a02d117f82"
   },
   "outputs": [
    {
     "name": "stdout",
     "output_type": "stream",
     "text": [
      "Feature importances:\n",
      "[0.10656309 0.01440995 0.02803141 0.01430777 0.053266   0.05998866\n",
      " 0.14234606 0.07594524 0.0321813  0.02357092 0.03747603 0.08033595\n",
      " 0.01233193 0.05059736 0.05919458 0.0138293  0.02312679 0.04321998\n",
      " 0.0859778  0.04329987]\n"
     ]
    }
   ],
   "source": [
    "print(\"Feature importances:\\n{}\".format(tree.feature_importances_)) #function for feature importance"
   ]
  },
  {
   "cell_type": "code",
   "execution_count": 140,
   "metadata": {
    "colab": {
     "base_uri": "https://localhost:8080/",
     "height": 850
    },
    "executionInfo": {
     "elapsed": 532,
     "status": "ok",
     "timestamp": 1759930922521,
     "user": {
      "displayName": "Nathalia Minoque",
      "userId": "00797020017705806857"
     },
     "user_tz": -420
    },
    "id": "wkXM1mC01qGN",
    "outputId": "038e5f65-b88a-4741-d7ae-dca80b84c631"
   },
   "outputs": [
    {
     "data": {
      "image/png": "[encoded data removed]",
      "text/plain": [
       "<Figure size 1500x1000 with 1 Axes>"
      ]
     },
     "metadata": {},
     "output_type": "display_data"
    }
   ],
   "source": [
    "# visualize important features\n",
    "def plot_feature_importances_attrition(model):\n",
    "    plt.figure(figsize=(15,10))\n",
    "    n_features = X_train.shape[1]  # Get the number of features from X_train\n",
    "    plt.barh(range(n_features), model.feature_importances_, align='center')\n",
    "    plt.yticks(np.arange(n_features), X_train.columns) # Use column names from X_train as labels\n",
    "    plt.xlabel(\"Feature importance\")\n",
    "    plt.ylabel(\"Feature\")\n",
    "    plt.ylim(-1, n_features)\n",
    "\n",
    "plot_feature_importances_attrition(tree)"
   ]
  },
  {
   "cell_type": "code",
   "execution_count": 142,
   "metadata": {
    "colab": {
     "base_uri": "https://localhost:8080/",
     "height": 272
    },
    "executionInfo": {
     "elapsed": 3,
     "status": "ok",
     "timestamp": 1759930922526,
     "user": {
      "displayName": "Nathalia Minoque",
      "userId": "00797020017705806857"
     },
     "user_tz": -420
    },
    "id": "ru3Wtt5l2r2U",
    "outputId": "77667b17-8455-425d-8b05-57e265bfd3cc"
   },
   "outputs": [
    {
     "data": {
      "text/plain": [
       "Monthly_Income              0.142346\n",
       "Age                         0.106563\n",
       "Distance_From_Home          0.085978\n",
       "Training_Hours_Last_Year    0.080336\n",
       "Years_at_Company            0.075945\n",
       "Job_Level                   0.059989\n",
       "Absenteeism                 0.059195\n",
       "Job_Role                    0.053266\n",
       "Project_Count               0.050597\n",
       "dtype: float64"
      ]
     },
     "execution_count": 142,
     "metadata": {},
     "output_type": "execute_result"
    }
   ],
   "source": [
    "# Show feature importances greater than 0.05\n",
    "feature_importances = pd.Series(tree.feature_importances_, index=X_train.columns)\n",
    "important_features = feature_importances[feature_importances > 0.05].sort_values(ascending=False)\n",
    "important_features"
   ]
  },
  {
   "cell_type": "code",
   "execution_count": 143,
   "metadata": {
    "executionInfo": {
     "elapsed": 1,
     "status": "ok",
     "timestamp": 1759930922527,
     "user": {
      "displayName": "Nathalia Minoque",
      "userId": "00797020017705806857"
     },
     "user_tz": -420
    },
    "id": "hS980snG4IaW"
   },
   "outputs": [],
   "source": [
    "# using only important features for the prediction\n",
    "important_features = ['Monthly_Income',\n",
    "    'Age',\n",
    "    'Distance_From_Home',\n",
    "    'Training_Hours_Last_Year',\n",
    "    'Years_at_Company',\n",
    "    'Job_Role',\n",
    "    'Project_Count',\n",
    "    'Absenteeism',\n",
    "    'Job_Level']\n",
    "X_importance = df_encoded[important_features] #input\n",
    "y_importance = df_encoded['Attrition'] #target"
   ]
  },
  {
   "cell_type": "code",
   "execution_count": 144,
   "metadata": {
    "colab": {
     "base_uri": "https://localhost:8080/",
     "height": 864
    },
    "executionInfo": {
     "elapsed": 3,
     "status": "ok",
     "timestamp": 1759930922531,
     "user": {
      "displayName": "Nathalia Minoque",
      "userId": "00797020017705806857"
     },
     "user_tz": -420
    },
    "id": "KGYFoN5k4mUQ",
    "outputId": "ae851526-798c-4ca4-9345-b86fba66ee90"
   },
   "outputs": [
    {
     "data": {
      "text/html": [
       "<div>\n",
       "<style scoped>\n",
       "    .dataframe tbody tr th:only-of-type {\n",
       "        vertical-align: middle;\n",
       "    }\n",
       "\n",
       "    .dataframe tbody tr th {\n",
       "        vertical-align: top;\n",
       "    }\n",
       "\n",
       "    .dataframe thead th {\n",
       "        text-align: right;\n",
       "    }\n",
       "</style>\n",
       "<table border=\"1\" class=\"dataframe\">\n",
       "  <thead>\n",
       "    <tr style=\"text-align: right;\">\n",
       "      <th></th>\n",
       "      <th>Monthly_Income</th>\n",
       "      <th>Age</th>\n",
       "      <th>Distance_From_Home</th>\n",
       "      <th>Training_Hours_Last_Year</th>\n",
       "      <th>Years_at_Company</th>\n",
       "      <th>Job_Role</th>\n",
       "      <th>Project_Count</th>\n",
       "      <th>Absenteeism</th>\n",
       "      <th>Job_Level</th>\n",
       "    </tr>\n",
       "  </thead>\n",
       "  <tbody>\n",
       "    <tr>\n",
       "      <th>0</th>\n",
       "      <td>15488</td>\n",
       "      <td>58</td>\n",
       "      <td>20</td>\n",
       "      <td>14</td>\n",
       "      <td>15</td>\n",
       "      <td>3.0</td>\n",
       "      <td>6</td>\n",
       "      <td>17</td>\n",
       "      <td>1</td>\n",
       "    </tr>\n",
       "    <tr>\n",
       "      <th>1</th>\n",
       "      <td>13079</td>\n",
       "      <td>48</td>\n",
       "      <td>25</td>\n",
       "      <td>6</td>\n",
       "      <td>6</td>\n",
       "      <td>1.0</td>\n",
       "      <td>2</td>\n",
       "      <td>1</td>\n",
       "      <td>5</td>\n",
       "    </tr>\n",
       "    <tr>\n",
       "      <th>2</th>\n",
       "      <td>13744</td>\n",
       "      <td>34</td>\n",
       "      <td>45</td>\n",
       "      <td>77</td>\n",
       "      <td>24</td>\n",
       "      <td>1.0</td>\n",
       "      <td>6</td>\n",
       "      <td>2</td>\n",
       "      <td>1</td>\n",
       "    </tr>\n",
       "    <tr>\n",
       "      <th>3</th>\n",
       "      <td>6809</td>\n",
       "      <td>27</td>\n",
       "      <td>35</td>\n",
       "      <td>49</td>\n",
       "      <td>10</td>\n",
       "      <td>3.0</td>\n",
       "      <td>9</td>\n",
       "      <td>18</td>\n",
       "      <td>1</td>\n",
       "    </tr>\n",
       "    <tr>\n",
       "      <th>4</th>\n",
       "      <td>10206</td>\n",
       "      <td>40</td>\n",
       "      <td>44</td>\n",
       "      <td>64</td>\n",
       "      <td>29</td>\n",
       "      <td>2.0</td>\n",
       "      <td>3</td>\n",
       "      <td>0</td>\n",
       "      <td>1</td>\n",
       "    </tr>\n",
       "    <tr>\n",
       "      <th>...</th>\n",
       "      <td>...</td>\n",
       "      <td>...</td>\n",
       "      <td>...</td>\n",
       "      <td>...</td>\n",
       "      <td>...</td>\n",
       "      <td>...</td>\n",
       "      <td>...</td>\n",
       "      <td>...</td>\n",
       "      <td>...</td>\n",
       "    </tr>\n",
       "    <tr>\n",
       "      <th>995</th>\n",
       "      <td>4172</td>\n",
       "      <td>27</td>\n",
       "      <td>24</td>\n",
       "      <td>76</td>\n",
       "      <td>24</td>\n",
       "      <td>0.0</td>\n",
       "      <td>4</td>\n",
       "      <td>10</td>\n",
       "      <td>2</td>\n",
       "    </tr>\n",
       "    <tr>\n",
       "      <th>996</th>\n",
       "      <td>11007</td>\n",
       "      <td>47</td>\n",
       "      <td>39</td>\n",
       "      <td>53</td>\n",
       "      <td>19</td>\n",
       "      <td>3.0</td>\n",
       "      <td>7</td>\n",
       "      <td>16</td>\n",
       "      <td>4</td>\n",
       "    </tr>\n",
       "    <tr>\n",
       "      <th>997</th>\n",
       "      <td>4641</td>\n",
       "      <td>50</td>\n",
       "      <td>33</td>\n",
       "      <td>7</td>\n",
       "      <td>25</td>\n",
       "      <td>2.0</td>\n",
       "      <td>1</td>\n",
       "      <td>9</td>\n",
       "      <td>1</td>\n",
       "    </tr>\n",
       "    <tr>\n",
       "      <th>998</th>\n",
       "      <td>19855</td>\n",
       "      <td>28</td>\n",
       "      <td>41</td>\n",
       "      <td>54</td>\n",
       "      <td>13</td>\n",
       "      <td>2.0</td>\n",
       "      <td>4</td>\n",
       "      <td>17</td>\n",
       "      <td>4</td>\n",
       "    </tr>\n",
       "    <tr>\n",
       "      <th>999</th>\n",
       "      <td>11738</td>\n",
       "      <td>48</td>\n",
       "      <td>43</td>\n",
       "      <td>68</td>\n",
       "      <td>1</td>\n",
       "      <td>0.0</td>\n",
       "      <td>2</td>\n",
       "      <td>5</td>\n",
       "      <td>2</td>\n",
       "    </tr>\n",
       "  </tbody>\n",
       "</table>\n",
       "<p>1000 rows × 9 columns</p>\n",
       "</div>"
      ],
      "text/plain": [
       "     Monthly_Income  Age  Distance_From_Home  Training_Hours_Last_Year  \\\n",
       "0             15488   58                  20                        14   \n",
       "1             13079   48                  25                         6   \n",
       "2             13744   34                  45                        77   \n",
       "3              6809   27                  35                        49   \n",
       "4             10206   40                  44                        64   \n",
       "..              ...  ...                 ...                       ...   \n",
       "995            4172   27                  24                        76   \n",
       "996           11007   47                  39                        53   \n",
       "997            4641   50                  33                         7   \n",
       "998           19855   28                  41                        54   \n",
       "999           11738   48                  43                        68   \n",
       "\n",
       "     Years_at_Company  Job_Role  Project_Count  Absenteeism  Job_Level  \n",
       "0                  15       3.0              6           17          1  \n",
       "1                   6       1.0              2            1          5  \n",
       "2                  24       1.0              6            2          1  \n",
       "3                  10       3.0              9           18          1  \n",
       "4                  29       2.0              3            0          1  \n",
       "..                ...       ...            ...          ...        ...  \n",
       "995                24       0.0              4           10          2  \n",
       "996                19       3.0              7           16          4  \n",
       "997                25       2.0              1            9          1  \n",
       "998                13       2.0              4           17          4  \n",
       "999                 1       0.0              2            5          2  \n",
       "\n",
       "[1000 rows x 9 columns]"
      ]
     },
     "metadata": {},
     "output_type": "display_data"
    },
    {
     "data": {
      "text/plain": [
       "0      0\n",
       "1      0\n",
       "2      0\n",
       "3      0\n",
       "4      0\n",
       "      ..\n",
       "995    0\n",
       "996    1\n",
       "997    0\n",
       "998    0\n",
       "999    0\n",
       "Name: Attrition, Length: 1000, dtype: int64"
      ]
     },
     "metadata": {},
     "output_type": "display_data"
    }
   ],
   "source": [
    "display(X_importance)\n",
    "display(y_importance)"
   ]
  },
  {
   "cell_type": "code",
   "execution_count": 146,
   "metadata": {},
   "outputs": [
    {
     "name": "stdout",
     "output_type": "stream",
     "text": [
      "Class distribution before oversampling:\n",
      " Attrition\n",
      "0    649\n",
      "1    151\n",
      "Name: count, dtype: int64\n",
      "\n",
      "Class distribution after oversampling:\n",
      " Attrition\n",
      "0    649\n",
      "1    649\n",
      "Name: count, dtype: int64\n",
      "\n",
      "Shape of resampled training set: (1298, 9)\n",
      "Shape of original test set: (200, 9)\n"
     ]
    }
   ],
   "source": [
    "from sklearn.model_selection import train_test_split\n",
    "from imblearn.over_sampling import SMOTENC\n",
    "import pandas as pd\n",
    "\n",
    "X_train, X_test, y_train, y_test = train_test_split(\n",
    "    X_importance, \n",
    "    y_importance, \n",
    "    test_size=0.2, \n",
    "    random_state=42, \n",
    "    stratify=y_importance\n",
    ")\n",
    "\n",
    "categorical_feature_names = ['Job_Role', 'Job_Level', 'Project_Count', 'Absenteeism']\n",
    "categorical_features_indices = [X_train.columns.get_loc(col) for col in categorical_feature_names]\n",
    "\n",
    "print(\"Class distribution before oversampling:\\n\", y_train.value_counts())\n",
    "\n",
    "smotenc = SMOTENC(categorical_features=categorical_features_indices, random_state=42)\n",
    "X_train_resampled, y_train_resampled = smotenc.fit_resample(X_train, y_train)\n",
    "\n",
    "print(\"\\nClass distribution after oversampling:\\n\", pd.Series(y_train_resampled).value_counts())\n",
    "\n",
    "print(\"\\nShape of resampled training set:\", X_train_resampled.shape)\n",
    "print(\"Shape of original test set:\", X_test.shape)"
   ]
  },
  {
   "cell_type": "code",
   "execution_count": 147,
   "metadata": {
    "colab": {
     "base_uri": "https://localhost:8080/"
    },
    "executionInfo": {
     "elapsed": 6,
     "status": "ok",
     "timestamp": 1759930922545,
     "user": {
      "displayName": "Nathalia Minoque",
      "userId": "00797020017705806857"
     },
     "user_tz": -420
    },
    "id": "AjGy59GT5Nrw",
    "outputId": "d902f409-2c95-4638-da0c-84e9da3e1db0"
   },
   "outputs": [
    {
     "name": "stdout",
     "output_type": "stream",
     "text": [
      "\n",
      "=== Classification Report (Training Set) ===\n",
      "              precision    recall  f1-score   support\n",
      "\n",
      "           0       1.00      1.00      1.00       556\n",
      "           1       1.00      1.00      1.00       144\n",
      "\n",
      "    accuracy                           1.00       700\n",
      "   macro avg       1.00      1.00      1.00       700\n",
      "weighted avg       1.00      1.00      1.00       700\n",
      "\n",
      "\n",
      "=== Classification Report (Test Set) ===\n",
      "              precision    recall  f1-score   support\n",
      "\n",
      "           0       0.85      0.80      0.82       255\n",
      "           1       0.15      0.20      0.17        45\n",
      "\n",
      "    accuracy                           0.71       300\n",
      "   macro avg       0.50      0.50      0.50       300\n",
      "weighted avg       0.74      0.71      0.73       300\n",
      "\n"
     ]
    }
   ],
   "source": [
    "X_train_importance, X_test_importance, y_train_importance, y_test_importance = train_test_split(X_importance, y_importance, test_size=0.3, random_state=42)\n",
    "\n",
    "importance_tree = DecisionTreeClassifier(random_state=42)\n",
    "importance_tree.fit(X_train_importance, y_train_importance)\n",
    "\n",
    "y_pred_train_importance = importance_tree.predict(X_train_importance)\n",
    "y_pred_test_importance = importance_tree.predict(X_test_importance)\n",
    "\n",
    "print(\"\\n=== Classification Report (Training Set) ===\")\n",
    "print(classification_report(y_train_importance, y_pred_train_importance))\n",
    "\n",
    "print(\"\\n=== Classification Report (Test Set) ===\")\n",
    "print(classification_report(y_test_importance, y_pred_test_importance))"
   ]
  },
  {
   "cell_type": "markdown",
   "metadata": {
    "id": "puF15GrHA5F0"
   },
   "source": [
    "i still want to increase the score since this way is seems worse than before, so i will try to select predictor or X features based on the correlation"
   ]
  },
  {
   "cell_type": "markdown",
   "metadata": {
    "id": "uGdwENDNBNgl"
   },
   "source": [
    "# Selecting Predictors/Features Based on Correlation"
   ]
  },
  {
   "cell_type": "code",
   "execution_count": 148,
   "metadata": {
    "colab": {
     "base_uri": "https://localhost:8080/",
     "height": 1000
    },
    "executionInfo": {
     "elapsed": 3475,
     "status": "ok",
     "timestamp": 1759930926021,
     "user": {
      "displayName": "Nathalia Minoque",
      "userId": "00797020017705806857"
     },
     "user_tz": -420
    },
    "id": "p5QA-Mtx18OI",
    "outputId": "3099eccd-494b-447a-f2fd-05c8c2ca8387"
   },
   "outputs": [
    {
     "data": {
      "image/png": "[encoded data removed]",
      "text/plain": [
       "<Figure size 3000x1500 with 2 Axes>"
      ]
     },
     "metadata": {},
     "output_type": "display_data"
    }
   ],
   "source": [
    "# show heatmap\n",
    "plt.figure(figsize=(30, 15))\n",
    "sns.heatmap(df_encoded.corr(), annot=True, cmap='coolwarm')\n",
    "plt.title('Correlation Matrix')\n",
    "plt.show()"
   ]
  },
  {
   "cell_type": "code",
   "execution_count": null,
   "metadata": {
    "executionInfo": {
     "elapsed": 2,
     "status": "ok",
     "timestamp": 1759930926027,
     "user": {
      "displayName": "Nathalia Minoque",
      "userId": "00797020017705806857"
     },
     "user_tz": -420
    },
    "id": "6dDASscE32GW"
   },
   "outputs": [],
   "source": [
    "# Because nothing is high correlation, i will pick the correlation that is either -0.06 and up or 0.06 and up\n",
    "#  I only choose some of the highest correlations and if there are two predictors have high correlation, i will only choose one with higher correlation\n",
    "# For the example JobLevel and MonthlyIncome, i only choose JobLevel\n",
    "\n",
    "heatmap_features = ['Job_Level', 'Job_Involvement', 'Job_Satisfaction', 'Gender', 'Age', \n",
    "                    'Department']\n",
    "X_heatmap = df_encoded[heatmap_features] #input\n",
    "y_heatmap = df_encoded['Attrition'] #target"
   ]
  },
  {
   "cell_type": "code",
   "execution_count": 164,
   "metadata": {
    "colab": {
     "base_uri": "https://localhost:8080/"
    },
    "executionInfo": {
     "elapsed": 6,
     "status": "ok",
     "timestamp": 1759930926035,
     "user": {
      "displayName": "Nathalia Minoque",
      "userId": "00797020017705806857"
     },
     "user_tz": -420
    },
    "id": "s0g7YOQy4CpQ",
    "outputId": "de614124-dcb3-4771-f457-d02adba24660"
   },
   "outputs": [
    {
     "name": "stdout",
     "output_type": "stream",
     "text": [
      "Class distribution before oversampling:\n",
      " Attrition\n",
      "0    649\n",
      "1    151\n",
      "Name: count, dtype: int64\n",
      "\n",
      "Class distribution after oversampling:\n",
      " Attrition\n",
      "0    649\n",
      "1    649\n",
      "Name: count, dtype: int64\n",
      "\n",
      "Shape of resampled training set: (1298, 6)\n",
      "Shape of original test set: (200, 6)\n"
     ]
    }
   ],
   "source": [
    "X_train, X_test, y_train, y_test = train_test_split(\n",
    "    X_heatmap, \n",
    "    y_heatmap, \n",
    "    test_size=0.2, \n",
    "    random_state=1, \n",
    "    stratify=y_heatmap\n",
    ")\n",
    "\n",
    "categorical_feature_names = [\n",
    "    'Job_Level', \n",
    "    'Job_Involvement', \n",
    "    'Job_Satisfaction', \n",
    "    'Gender', \n",
    "    'Department'\n",
    "]\n",
    "\n",
    "categorical_features_indices = [X_train.columns.get_loc(col) for col in categorical_feature_names]\n",
    "print(\"Class distribution before oversampling:\\n\", y_train.value_counts())\n",
    "\n",
    "smotenc = SMOTENC(categorical_features=categorical_features_indices, random_state=42)\n",
    "X_train_resampled, y_train_resampled = smotenc.fit_resample(X_train, y_train)\n",
    "\n",
    "print(\"\\nClass distribution after oversampling:\\n\", pd.Series(y_train_resampled).value_counts())\n",
    "print(\"\\nShape of resampled training set:\", X_train_resampled.shape)\n",
    "print(\"Shape of original test set:\", X_test.shape)"
   ]
  },
  {
   "cell_type": "code",
   "execution_count": 165,
   "metadata": {
    "colab": {
     "base_uri": "https://localhost:8080/"
    },
    "executionInfo": {
     "elapsed": 13,
     "status": "ok",
     "timestamp": 1759930926049,
     "user": {
      "displayName": "Nathalia Minoque",
      "userId": "00797020017705806857"
     },
     "user_tz": -420
    },
    "id": "boZsplq_4LfG",
    "outputId": "241735d5-56df-47d3-81b6-e0d1737cdad5"
   },
   "outputs": [
    {
     "name": "stdout",
     "output_type": "stream",
     "text": [
      "\n",
      "=== Classification Report (Training Set) ===\n",
      "              precision    recall  f1-score   support\n",
      "\n",
      "           0       1.00      1.00      1.00       649\n",
      "           1       1.00      0.99      0.99       151\n",
      "\n",
      "    accuracy                           1.00       800\n",
      "   macro avg       1.00      0.99      1.00       800\n",
      "weighted avg       1.00      1.00      1.00       800\n",
      "\n",
      "\n",
      "=== Classification Report (Test Set) ===\n",
      "              precision    recall  f1-score   support\n",
      "\n",
      "           0       0.82      0.83      0.83       162\n",
      "           1       0.25      0.24      0.24        38\n",
      "\n",
      "    accuracy                           0.72       200\n",
      "   macro avg       0.54      0.54      0.54       200\n",
      "weighted avg       0.71      0.72      0.72       200\n",
      "\n"
     ]
    }
   ],
   "source": [
    "# i build a model based on best feature by correlation\n",
    "heatmap_tree = DecisionTreeClassifier()\n",
    "heatmap_tree.fit(X_train, y_train)\n",
    "\n",
    "y_pred_train = heatmap_tree.predict(X_train)\n",
    "y_pred_test = heatmap_tree.predict(X_test)\n",
    "\n",
    "print(\"\\n=== Classification Report (Training Set) ===\")\n",
    "print(classification_report(y_train, y_pred_train))\n",
    "\n",
    "print(\"\\n=== Classification Report (Test Set) ===\")\n",
    "print(classification_report(y_test, y_pred_test))"
   ]
  },
  {
   "cell_type": "markdown",
   "metadata": {
    "id": "hhW2x9zzCR8e"
   },
   "source": [
    "thank God the performance increases, The F1-score for class 1 (the employees who leave) jumped from 0.17 to 0.24. This is a significant improvement and shows the model is getting better at its primary task. And There was a slight increase from 71% to 72%.\n",
    "\n",
    "ok now i will try to do parameter tuning using GridSearchCV"
   ]
  },
  {
   "cell_type": "markdown",
   "metadata": {
    "id": "Vr7LDZWpCcSt"
   },
   "source": [
    "# Hyperparameter Tuning using Grid Search"
   ]
  },
  {
   "cell_type": "code",
   "execution_count": 169,
   "metadata": {
    "colab": {
     "base_uri": "https://localhost:8080/"
    },
    "executionInfo": {
     "elapsed": 1507,
     "status": "ok",
     "timestamp": 1759930927557,
     "user": {
      "displayName": "Nathalia Minoque",
      "userId": "00797020017705806857"
     },
     "user_tz": -420
    },
    "id": "97h13_ub48oH",
    "outputId": "726bbe98-2ca3-4c47-80b3-3fc68e175cff"
   },
   "outputs": [
    {
     "name": "stdout",
     "output_type": "stream",
     "text": [
      "Fitting 5 folds for each of 120 candidates, totalling 600 fits\n",
      "Best parameters:  {'criterion': 'gini', 'max_depth': 10, 'random_state': 17}\n",
      "Best cross-validation f1 score: 0.726\n"
     ]
    }
   ],
   "source": [
    "# Define the parameter grid to tune the hyperparameters\n",
    "param_grid = {\n",
    "    'criterion': ['gini', 'entropy'],\n",
    "    'max_depth': [1, 2, 3, 4, 5, 6, 7, 8, 9, 10],\n",
    "    'random_state': [12,16,17,18,19,20]\n",
    "}\n",
    "\n",
    "dtree_clf = DecisionTreeClassifier() # Initialize a decision tree classifier\n",
    "grid_search = GridSearchCV(estimator=dtree_clf, param_grid=param_grid,\n",
    "                          n_jobs=-1, verbose=2, scoring='f1') # Use f1 scoring for classification\n",
    "grid_search.fit(X_train_resampled, y_train_resampled)\n",
    "\n",
    "best_dtree_clf = grid_search.best_estimator_ # Get the best estimator from the grid search\n",
    "y_pred_test = best_dtree_clf.predict(X_test)\n",
    "\n",
    "print(\"Best parameters: \", grid_search.best_params_)\n",
    "print(\"Best cross-validation f1 score: {:.3f}\".format(grid_search.best_score_))"
   ]
  },
  {
   "cell_type": "markdown",
   "metadata": {
    "id": "dO6oJOmlCyIp"
   },
   "source": [
    "thank God the performance is getting better from 67% to 72.6% and for the last step i will show you the classification report"
   ]
  },
  {
   "cell_type": "code",
   "execution_count": 171,
   "metadata": {
    "colab": {
     "base_uri": "https://localhost:8080/"
    },
    "executionInfo": {
     "elapsed": 23,
     "status": "ok",
     "timestamp": 1759930927583,
     "user": {
      "displayName": "Nathalia Minoque",
      "userId": "00797020017705806857"
     },
     "user_tz": -420
    },
    "id": "a086czOR66dd",
    "outputId": "3bc28055-9bc9-49f0-ff31-350f10adecda"
   },
   "outputs": [
    {
     "name": "stdout",
     "output_type": "stream",
     "text": [
      "\n",
      "=== Classification Report (Training Set) ===\n",
      "              precision    recall  f1-score   support\n",
      "\n",
      "           0       0.90      0.97      0.93       649\n",
      "           1       0.80      0.55      0.65       151\n",
      "\n",
      "    accuracy                           0.89       800\n",
      "   macro avg       0.85      0.76      0.79       800\n",
      "weighted avg       0.88      0.89      0.88       800\n",
      "\n",
      "\n",
      "=== Classification Report (Test Set) ===\n",
      "              precision    recall  f1-score   support\n",
      "\n",
      "           0       0.81      0.90      0.85       162\n",
      "           1       0.15      0.08      0.10        38\n",
      "\n",
      "    accuracy                           0.74       200\n",
      "   macro avg       0.48      0.49      0.48       200\n",
      "weighted avg       0.68      0.74      0.71       200\n",
      "\n"
     ]
    }
   ],
   "source": [
    "best_params = grid_search.best_params_\n",
    "\n",
    "final_tree = DecisionTreeClassifier(**best_params)\n",
    "final_tree.fit(X_train, y_train)\n",
    "\n",
    "y_pred_train = final_tree.predict(X_train)\n",
    "y_pred_test  = final_tree.predict(X_test)\n",
    "\n",
    "from sklearn.metrics import classification_report\n",
    "print(\"\\n=== Classification Report (Training Set) ===\")\n",
    "print(classification_report(y_train, y_pred_train))\n",
    "\n",
    "print(\"\\n=== Classification Report (Test Set) ===\")\n",
    "print(classification_report(y_test, y_pred_test))"
   ]
  },
  {
   "cell_type": "markdown",
   "metadata": {
    "id": "4KrUOyIbC4sK"
   },
   "source": [
    "# THANK YOUUUU"
   ]
  }
 ],
 "metadata": {
  "colab": {
   "authorship_tag": "ABX9TyO3bkHwzmzcCpjfRSE2I38Y",
   "provenance": []
  },
  "kernelspec": {
   "display_name": "Python 3",
   "name": "python3"
  },
  "language_info": {
   "codemirror_mode": {
    "name": "ipython",
    "version": 3
   },
   "file_extension": ".py",
   "mimetype": "text/x-python",
   "name": "python",
   "nbconvert_exporter": "python",
   "pygments_lexer": "ipython3",
   "version": "3.11.9"
  }
 },
 "nbformat": 4,
 "nbformat_minor": 0
}
