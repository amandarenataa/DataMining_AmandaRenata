{
  "cells": [
    {
      "cell_type": "markdown",
      "metadata": {
        "id": "E75wi3Vx9brB"
      },
      "source": [
        "<a class=\"anchor\" id=\"0\"></a>\n",
        "# **Decision Tree Classifier and Naive Bayes Tutorial with Python**"
      ]
    },
    {
      "cell_type": "markdown",
      "metadata": {
        "id": "s2WXjGqICXR9"
      },
      "source": [
        "Global Coffee Health Dataset \n",
        "\n",
        "Amanda Renata / 0706022310010"
      ]
    },
    {
      "cell_type": "code",
      "execution_count": 209,
      "metadata": {
        "id": "DTwFSXUxsxKw"
      },
      "outputs": [],
      "source": [
        "# Import Library\n",
        "import pandas as pd\n",
        "import matplotlib.pyplot as plt\n",
        "import seaborn as sns"
      ]
    },
    {
      "cell_type": "code",
      "execution_count": 210,
      "metadata": {
        "colab": {
          "base_uri": "https://localhost:8080/",
          "height": 206
        },
        "id": "unwM_f2L9brE",
        "outputId": "92840f8b-553c-419e-9ffd-4bdd167f6f7c",
        "trusted": true
      },
      "outputs": [
        {
          "data": {
            "text/html": [
              "<div>\n",
              "<style scoped>\n",
              "    .dataframe tbody tr th:only-of-type {\n",
              "        vertical-align: middle;\n",
              "    }\n",
              "\n",
              "    .dataframe tbody tr th {\n",
              "        vertical-align: top;\n",
              "    }\n",
              "\n",
              "    .dataframe thead th {\n",
              "        text-align: right;\n",
              "    }\n",
              "</style>\n",
              "<table border=\"1\" class=\"dataframe\">\n",
              "  <thead>\n",
              "    <tr style=\"text-align: right;\">\n",
              "      <th></th>\n",
              "      <th>ID</th>\n",
              "      <th>Age</th>\n",
              "      <th>Gender</th>\n",
              "      <th>Country</th>\n",
              "      <th>Coffee_Intake</th>\n",
              "      <th>Caffeine_mg</th>\n",
              "      <th>Sleep_Hours</th>\n",
              "      <th>Sleep_Quality</th>\n",
              "      <th>BMI</th>\n",
              "      <th>Heart_Rate</th>\n",
              "      <th>Stress_Level</th>\n",
              "      <th>Physical_Activity_Hours</th>\n",
              "      <th>Health_Issues</th>\n",
              "      <th>Occupation</th>\n",
              "      <th>Smoking</th>\n",
              "      <th>Alcohol_Consumption</th>\n",
              "    </tr>\n",
              "  </thead>\n",
              "  <tbody>\n",
              "    <tr>\n",
              "      <th>0</th>\n",
              "      <td>1</td>\n",
              "      <td>40</td>\n",
              "      <td>Male</td>\n",
              "      <td>Germany</td>\n",
              "      <td>3.5</td>\n",
              "      <td>328.1</td>\n",
              "      <td>7.5</td>\n",
              "      <td>Good</td>\n",
              "      <td>24.9</td>\n",
              "      <td>78</td>\n",
              "      <td>Low</td>\n",
              "      <td>14.5</td>\n",
              "      <td>NaN</td>\n",
              "      <td>Other</td>\n",
              "      <td>0</td>\n",
              "      <td>0</td>\n",
              "    </tr>\n",
              "    <tr>\n",
              "      <th>1</th>\n",
              "      <td>2</td>\n",
              "      <td>33</td>\n",
              "      <td>Male</td>\n",
              "      <td>Germany</td>\n",
              "      <td>1.0</td>\n",
              "      <td>94.1</td>\n",
              "      <td>6.2</td>\n",
              "      <td>Good</td>\n",
              "      <td>20.0</td>\n",
              "      <td>67</td>\n",
              "      <td>Low</td>\n",
              "      <td>11.0</td>\n",
              "      <td>NaN</td>\n",
              "      <td>Service</td>\n",
              "      <td>0</td>\n",
              "      <td>0</td>\n",
              "    </tr>\n",
              "    <tr>\n",
              "      <th>2</th>\n",
              "      <td>3</td>\n",
              "      <td>42</td>\n",
              "      <td>Male</td>\n",
              "      <td>Brazil</td>\n",
              "      <td>5.3</td>\n",
              "      <td>503.7</td>\n",
              "      <td>5.9</td>\n",
              "      <td>Fair</td>\n",
              "      <td>22.7</td>\n",
              "      <td>59</td>\n",
              "      <td>Medium</td>\n",
              "      <td>11.2</td>\n",
              "      <td>Mild</td>\n",
              "      <td>Office</td>\n",
              "      <td>0</td>\n",
              "      <td>0</td>\n",
              "    </tr>\n",
              "    <tr>\n",
              "      <th>3</th>\n",
              "      <td>4</td>\n",
              "      <td>53</td>\n",
              "      <td>Male</td>\n",
              "      <td>Germany</td>\n",
              "      <td>2.6</td>\n",
              "      <td>249.2</td>\n",
              "      <td>7.3</td>\n",
              "      <td>Good</td>\n",
              "      <td>24.7</td>\n",
              "      <td>71</td>\n",
              "      <td>Low</td>\n",
              "      <td>6.6</td>\n",
              "      <td>Mild</td>\n",
              "      <td>Other</td>\n",
              "      <td>0</td>\n",
              "      <td>0</td>\n",
              "    </tr>\n",
              "    <tr>\n",
              "      <th>4</th>\n",
              "      <td>5</td>\n",
              "      <td>32</td>\n",
              "      <td>Female</td>\n",
              "      <td>Spain</td>\n",
              "      <td>3.1</td>\n",
              "      <td>298.0</td>\n",
              "      <td>5.3</td>\n",
              "      <td>Fair</td>\n",
              "      <td>24.1</td>\n",
              "      <td>76</td>\n",
              "      <td>Medium</td>\n",
              "      <td>8.5</td>\n",
              "      <td>Mild</td>\n",
              "      <td>Student</td>\n",
              "      <td>0</td>\n",
              "      <td>1</td>\n",
              "    </tr>\n",
              "  </tbody>\n",
              "</table>\n",
              "</div>"
            ],
            "text/plain": [
              "   ID  Age  Gender  Country  Coffee_Intake  Caffeine_mg  Sleep_Hours  \\\n",
              "0   1   40    Male  Germany            3.5        328.1          7.5   \n",
              "1   2   33    Male  Germany            1.0         94.1          6.2   \n",
              "2   3   42    Male   Brazil            5.3        503.7          5.9   \n",
              "3   4   53    Male  Germany            2.6        249.2          7.3   \n",
              "4   5   32  Female    Spain            3.1        298.0          5.3   \n",
              "\n",
              "  Sleep_Quality   BMI  Heart_Rate Stress_Level  Physical_Activity_Hours  \\\n",
              "0          Good  24.9          78          Low                     14.5   \n",
              "1          Good  20.0          67          Low                     11.0   \n",
              "2          Fair  22.7          59       Medium                     11.2   \n",
              "3          Good  24.7          71          Low                      6.6   \n",
              "4          Fair  24.1          76       Medium                      8.5   \n",
              "\n",
              "  Health_Issues Occupation  Smoking  Alcohol_Consumption  \n",
              "0           NaN      Other        0                    0  \n",
              "1           NaN    Service        0                    0  \n",
              "2          Mild     Office        0                    0  \n",
              "3          Mild      Other        0                    0  \n",
              "4          Mild    Student        0                    1  "
            ]
          },
          "execution_count": 210,
          "metadata": {},
          "output_type": "execute_result"
        }
      ],
      "source": [
        "df = pd.read_csv('https://raw.githubusercontent.com/NathaliaMinoque/datasets/refs/heads/main/synthetic_coffee_health.csv')\n",
        "df.head()"
      ]
    },
    {
      "cell_type": "markdown",
      "metadata": {
        "id": "Ko2Buthb9brE"
      },
      "source": [
        "### View summary of dataset"
      ]
    },
    {
      "cell_type": "code",
      "execution_count": 211,
      "metadata": {},
      "outputs": [
        {
          "name": "stdout",
          "output_type": "stream",
          "text": [
            "['ID', 'Age', 'Gender', 'Country', 'Coffee_Intake', 'Caffeine_mg', 'Sleep_Hours', 'Sleep_Quality', 'BMI', 'Heart_Rate', 'Stress_Level', 'Physical_Activity_Hours', 'Health_Issues', 'Occupation', 'Smoking', 'Alcohol_Consumption']\n"
          ]
        }
      ],
      "source": [
        "print(df.columns.tolist())"
      ]
    },
    {
      "cell_type": "code",
      "execution_count": 212,
      "metadata": {
        "colab": {
          "base_uri": "https://localhost:8080/"
        },
        "id": "VdwN_pf89brE",
        "outputId": "d185ee57-d9a3-4c88-c3bd-483bc84f8e48",
        "trusted": true
      },
      "outputs": [
        {
          "name": "stdout",
          "output_type": "stream",
          "text": [
            "<class 'pandas.core.frame.DataFrame'>\n",
            "RangeIndex: 10000 entries, 0 to 9999\n",
            "Data columns (total 16 columns):\n",
            " #   Column                   Non-Null Count  Dtype  \n",
            "---  ------                   --------------  -----  \n",
            " 0   ID                       10000 non-null  int64  \n",
            " 1   Age                      10000 non-null  int64  \n",
            " 2   Gender                   10000 non-null  object \n",
            " 3   Country                  10000 non-null  object \n",
            " 4   Coffee_Intake            10000 non-null  float64\n",
            " 5   Caffeine_mg              10000 non-null  float64\n",
            " 6   Sleep_Hours              10000 non-null  float64\n",
            " 7   Sleep_Quality            10000 non-null  object \n",
            " 8   BMI                      10000 non-null  float64\n",
            " 9   Heart_Rate               10000 non-null  int64  \n",
            " 10  Stress_Level             10000 non-null  object \n",
            " 11  Physical_Activity_Hours  10000 non-null  float64\n",
            " 12  Health_Issues            4059 non-null   object \n",
            " 13  Occupation               10000 non-null  object \n",
            " 14  Smoking                  10000 non-null  int64  \n",
            " 15  Alcohol_Consumption      10000 non-null  int64  \n",
            "dtypes: float64(5), int64(5), object(6)\n",
            "memory usage: 1.2+ MB\n"
          ]
        }
      ],
      "source": [
        "df.info()"
      ]
    },
    {
      "cell_type": "markdown",
      "metadata": {},
      "source": [
        "from info we can see that 1 column has a lot of nulls"
      ]
    },
    {
      "cell_type": "code",
      "execution_count": 213,
      "metadata": {},
      "outputs": [
        {
          "data": {
            "text/html": [
              "<div>\n",
              "<style scoped>\n",
              "    .dataframe tbody tr th:only-of-type {\n",
              "        vertical-align: middle;\n",
              "    }\n",
              "\n",
              "    .dataframe tbody tr th {\n",
              "        vertical-align: top;\n",
              "    }\n",
              "\n",
              "    .dataframe thead th {\n",
              "        text-align: right;\n",
              "    }\n",
              "</style>\n",
              "<table border=\"1\" class=\"dataframe\">\n",
              "  <thead>\n",
              "    <tr style=\"text-align: right;\">\n",
              "      <th></th>\n",
              "      <th>ID</th>\n",
              "      <th>Age</th>\n",
              "      <th>Coffee_Intake</th>\n",
              "      <th>Caffeine_mg</th>\n",
              "      <th>Sleep_Hours</th>\n",
              "      <th>BMI</th>\n",
              "      <th>Heart_Rate</th>\n",
              "      <th>Physical_Activity_Hours</th>\n",
              "      <th>Smoking</th>\n",
              "      <th>Alcohol_Consumption</th>\n",
              "    </tr>\n",
              "  </thead>\n",
              "  <tbody>\n",
              "    <tr>\n",
              "      <th>count</th>\n",
              "      <td>10000.00000</td>\n",
              "      <td>10000.000000</td>\n",
              "      <td>10000.000000</td>\n",
              "      <td>10000.000000</td>\n",
              "      <td>10000.000000</td>\n",
              "      <td>10000.000000</td>\n",
              "      <td>10000.000000</td>\n",
              "      <td>10000.00000</td>\n",
              "      <td>10000.00000</td>\n",
              "      <td>10000.000000</td>\n",
              "    </tr>\n",
              "    <tr>\n",
              "      <th>mean</th>\n",
              "      <td>5000.50000</td>\n",
              "      <td>34.949100</td>\n",
              "      <td>2.509230</td>\n",
              "      <td>238.411010</td>\n",
              "      <td>6.636220</td>\n",
              "      <td>23.986860</td>\n",
              "      <td>70.617800</td>\n",
              "      <td>7.48704</td>\n",
              "      <td>0.20040</td>\n",
              "      <td>0.300700</td>\n",
              "    </tr>\n",
              "    <tr>\n",
              "      <th>std</th>\n",
              "      <td>2886.89568</td>\n",
              "      <td>11.160939</td>\n",
              "      <td>1.450248</td>\n",
              "      <td>137.748815</td>\n",
              "      <td>1.222055</td>\n",
              "      <td>3.906411</td>\n",
              "      <td>9.822951</td>\n",
              "      <td>4.31518</td>\n",
              "      <td>0.40032</td>\n",
              "      <td>0.458585</td>\n",
              "    </tr>\n",
              "    <tr>\n",
              "      <th>min</th>\n",
              "      <td>1.00000</td>\n",
              "      <td>18.000000</td>\n",
              "      <td>0.000000</td>\n",
              "      <td>0.000000</td>\n",
              "      <td>3.000000</td>\n",
              "      <td>15.000000</td>\n",
              "      <td>50.000000</td>\n",
              "      <td>0.00000</td>\n",
              "      <td>0.00000</td>\n",
              "      <td>0.000000</td>\n",
              "    </tr>\n",
              "    <tr>\n",
              "      <th>25%</th>\n",
              "      <td>2500.75000</td>\n",
              "      <td>26.000000</td>\n",
              "      <td>1.500000</td>\n",
              "      <td>138.750000</td>\n",
              "      <td>5.800000</td>\n",
              "      <td>21.300000</td>\n",
              "      <td>64.000000</td>\n",
              "      <td>3.70000</td>\n",
              "      <td>0.00000</td>\n",
              "      <td>0.000000</td>\n",
              "    </tr>\n",
              "    <tr>\n",
              "      <th>50%</th>\n",
              "      <td>5000.50000</td>\n",
              "      <td>34.000000</td>\n",
              "      <td>2.500000</td>\n",
              "      <td>235.400000</td>\n",
              "      <td>6.600000</td>\n",
              "      <td>24.000000</td>\n",
              "      <td>71.000000</td>\n",
              "      <td>7.50000</td>\n",
              "      <td>0.00000</td>\n",
              "      <td>0.000000</td>\n",
              "    </tr>\n",
              "    <tr>\n",
              "      <th>75%</th>\n",
              "      <td>7500.25000</td>\n",
              "      <td>43.000000</td>\n",
              "      <td>3.500000</td>\n",
              "      <td>332.025000</td>\n",
              "      <td>7.500000</td>\n",
              "      <td>26.600000</td>\n",
              "      <td>77.000000</td>\n",
              "      <td>11.20000</td>\n",
              "      <td>0.00000</td>\n",
              "      <td>1.000000</td>\n",
              "    </tr>\n",
              "    <tr>\n",
              "      <th>max</th>\n",
              "      <td>10000.00000</td>\n",
              "      <td>80.000000</td>\n",
              "      <td>8.200000</td>\n",
              "      <td>780.300000</td>\n",
              "      <td>10.000000</td>\n",
              "      <td>38.200000</td>\n",
              "      <td>109.000000</td>\n",
              "      <td>15.00000</td>\n",
              "      <td>1.00000</td>\n",
              "      <td>1.000000</td>\n",
              "    </tr>\n",
              "  </tbody>\n",
              "</table>\n",
              "</div>"
            ],
            "text/plain": [
              "                ID           Age  Coffee_Intake   Caffeine_mg   Sleep_Hours  \\\n",
              "count  10000.00000  10000.000000   10000.000000  10000.000000  10000.000000   \n",
              "mean    5000.50000     34.949100       2.509230    238.411010      6.636220   \n",
              "std     2886.89568     11.160939       1.450248    137.748815      1.222055   \n",
              "min        1.00000     18.000000       0.000000      0.000000      3.000000   \n",
              "25%     2500.75000     26.000000       1.500000    138.750000      5.800000   \n",
              "50%     5000.50000     34.000000       2.500000    235.400000      6.600000   \n",
              "75%     7500.25000     43.000000       3.500000    332.025000      7.500000   \n",
              "max    10000.00000     80.000000       8.200000    780.300000     10.000000   \n",
              "\n",
              "                BMI    Heart_Rate  Physical_Activity_Hours      Smoking  \\\n",
              "count  10000.000000  10000.000000              10000.00000  10000.00000   \n",
              "mean      23.986860     70.617800                  7.48704      0.20040   \n",
              "std        3.906411      9.822951                  4.31518      0.40032   \n",
              "min       15.000000     50.000000                  0.00000      0.00000   \n",
              "25%       21.300000     64.000000                  3.70000      0.00000   \n",
              "50%       24.000000     71.000000                  7.50000      0.00000   \n",
              "75%       26.600000     77.000000                 11.20000      0.00000   \n",
              "max       38.200000    109.000000                 15.00000      1.00000   \n",
              "\n",
              "       Alcohol_Consumption  \n",
              "count         10000.000000  \n",
              "mean              0.300700  \n",
              "std               0.458585  \n",
              "min               0.000000  \n",
              "25%               0.000000  \n",
              "50%               0.000000  \n",
              "75%               1.000000  \n",
              "max               1.000000  "
            ]
          },
          "execution_count": 213,
          "metadata": {},
          "output_type": "execute_result"
        }
      ],
      "source": [
        "df.describe()"
      ]
    },
    {
      "cell_type": "code",
      "execution_count": 214,
      "metadata": {},
      "outputs": [],
      "source": [
        "df = df.drop(['ID'], axis=1)"
      ]
    },
    {
      "cell_type": "markdown",
      "metadata": {},
      "source": [
        "because no need for id in this case"
      ]
    },
    {
      "cell_type": "code",
      "execution_count": 215,
      "metadata": {},
      "outputs": [
        {
          "data": {
            "text/plain": [
              "Health_Issues\n",
              "Mild        3579\n",
              "Moderate     463\n",
              "Severe        17\n",
              "Name: count, dtype: int64"
            ]
          },
          "execution_count": 215,
          "metadata": {},
          "output_type": "execute_result"
        }
      ],
      "source": [
        "df['Health_Issues'].value_counts()"
      ]
    },
    {
      "cell_type": "markdown",
      "metadata": {},
      "source": [
        "Checking the health issue data"
      ]
    },
    {
      "cell_type": "code",
      "execution_count": 216,
      "metadata": {},
      "outputs": [],
      "source": [
        "df['Health_Issues'] = df['Health_Issues'].fillna('None')"
      ]
    },
    {
      "cell_type": "markdown",
      "metadata": {},
      "source": [
        "because health issue has 4 categories and the none was read as null so now i change it back so the data will be accurate"
      ]
    },
    {
      "cell_type": "code",
      "execution_count": 217,
      "metadata": {},
      "outputs": [
        {
          "name": "stdout",
          "output_type": "stream",
          "text": [
            "<class 'pandas.core.frame.DataFrame'>\n",
            "RangeIndex: 10000 entries, 0 to 9999\n",
            "Data columns (total 15 columns):\n",
            " #   Column                   Non-Null Count  Dtype  \n",
            "---  ------                   --------------  -----  \n",
            " 0   Age                      10000 non-null  int64  \n",
            " 1   Gender                   10000 non-null  object \n",
            " 2   Country                  10000 non-null  object \n",
            " 3   Coffee_Intake            10000 non-null  float64\n",
            " 4   Caffeine_mg              10000 non-null  float64\n",
            " 5   Sleep_Hours              10000 non-null  float64\n",
            " 6   Sleep_Quality            10000 non-null  object \n",
            " 7   BMI                      10000 non-null  float64\n",
            " 8   Heart_Rate               10000 non-null  int64  \n",
            " 9   Stress_Level             10000 non-null  object \n",
            " 10  Physical_Activity_Hours  10000 non-null  float64\n",
            " 11  Health_Issues            10000 non-null  object \n",
            " 12  Occupation               10000 non-null  object \n",
            " 13  Smoking                  10000 non-null  int64  \n",
            " 14  Alcohol_Consumption      10000 non-null  int64  \n",
            "dtypes: float64(5), int64(4), object(6)\n",
            "memory usage: 1.1+ MB\n"
          ]
        }
      ],
      "source": [
        "df.info()"
      ]
    },
    {
      "cell_type": "markdown",
      "metadata": {},
      "source": [
        "now all the data in df can be used"
      ]
    },
    {
      "cell_type": "markdown",
      "metadata": {},
      "source": [
        "3 visualizations and the interpretation "
      ]
    },
    {
      "cell_type": "code",
      "execution_count": null,
      "metadata": {
        "colab": {
          "base_uri": "https://localhost:8080/",
          "height": 1000
        },
        "id": "U-m1a0LMWU_8",
        "outputId": "794a4c7a-46b4-4f37-b390-047e9ddad7bf"
      },
      "outputs": [
        {
          "data": {
            "image/png": "[encoded data removed]",
            "text/plain": [
              "<Figure size 800x600 with 1 Axes>"
            ]
          },
          "metadata": {},
          "output_type": "display_data"
        }
      ],
      "source": [
        "import seaborn as sns\n",
        "import matplotlib.pyplot as plt\n",
        "\n",
        "plt.figure(figsize=(8,6))\n",
        "sns.boxplot(x='Sleep_Quality', y='Coffee_Intake', data=df, palette=\"Set2\")\n",
        "\n",
        "plt.title(\"Coffee Intake vs Sleep Quality\", fontsize=14)\n",
        "plt.xlabel(\"Sleep Quality\")\n",
        "plt.ylabel(\"Coffee Intake (cups per day)\")\n",
        "plt.show()\n"
      ]
    },
    {
      "cell_type": "markdown",
      "metadata": {},
      "source": [
        "We can see that people who rate their sleep quality as \"Excellent\" have the lowest median coffee intake, whereas the people who rate their sleep as \"Poor\" has the highest median coffee intake. Meaning coffee makes your sleep worse"
      ]
    },
    {
      "cell_type": "code",
      "execution_count": 219,
      "metadata": {},
      "outputs": [
        {
          "data": {
            "image/png": "[encoded data removed]",
            "text/plain": [
              "<Figure size 1200x600 with 1 Axes>"
            ]
          },
          "metadata": {},
          "output_type": "display_data"
        }
      ],
      "source": [
        "health_counts = df.groupby([\"Country\", \"Health_Issues\"]).size().unstack(fill_value=0)\n",
        "health_counts.plot(kind=\"bar\", stacked=True, figsize=(12,6), colormap=\"Set3\")\n",
        "\n",
        "plt.title(\"Health Issues Reported by Country\", fontsize=14)\n",
        "plt.xlabel(\"Country\")\n",
        "plt.ylabel(\"Number of People\")\n",
        "plt.xticks(rotation=45, ha='right')\n",
        "plt.legend(title=\"Health Issue\", bbox_to_anchor=(1.05, 1), loc='upper left')\n",
        "plt.tight_layout()\n",
        "plt.show()\n"
      ]
    },
    {
      "cell_type": "markdown",
      "metadata": {},
      "source": [
        "From the chart above we can see that health issues reported in each country is almost about the same, but we can see that a few countries dont have severe cases where as some do. The countries that have severe cases are Australia, Belgium, Brazil, Italy, Japan, Mexico, Netherlands, Norway, UK and USA. These can be a couple of reasons such as the food quality, or health care system, or even the population size"
      ]
    },
    {
      "cell_type": "code",
      "execution_count": 248,
      "metadata": {},
      "outputs": [
        {
          "data": {
            "image/png": "[encoded data removed]",
            "text/plain": [
              "<Figure size 800x600 with 2 Axes>"
            ]
          },
          "metadata": {},
          "output_type": "display_data"
        }
      ],
      "source": [
        "corr_cols = [\"Caffeine_mg\", \"Sleep_Hours\", \"Stress_Level\", \"Heart_Rate\", \"BMI\"]\n",
        "corr_matrix = df[corr_cols].corr()\n",
        "\n",
        "plt.figure(figsize=(8,6))\n",
        "sns.heatmap(corr_matrix, annot=True, cmap=\"coolwarm\", linewidths=0.5)\n",
        "\n",
        "plt.title(\"Correlation Heatmap\", fontsize=14)\n",
        "plt.show()"
      ]
    },
    {
      "cell_type": "markdown",
      "metadata": {},
      "source": [
        "From the heatmap, we can see that the one with the highest correlation is sleep hour with stress level with a -0.79. Meaning people who sleep more hours tend to have lower stress levels."
      ]
    },
    {
      "cell_type": "code",
      "execution_count": 222,
      "metadata": {},
      "outputs": [
        {
          "data": {
            "image/png": "[encoded data removed]",
            "text/plain": [
              "<Figure size 1400x600 with 2 Axes>"
            ]
          },
          "metadata": {},
          "output_type": "display_data"
        }
      ],
      "source": [
        "smoking_health = df.groupby([\"Smoking\", \"Health_Issues\"]).size().unstack(fill_value=0)\n",
        "alcohol_health = df.groupby([\"Alcohol_Consumption\", \"Health_Issues\"]).size().unstack(fill_value=0)\n",
        "fig, axes = plt.subplots(1, 2, figsize=(14,6), sharey=True)\n",
        "\n",
        "smoking_health.plot(kind=\"bar\", ax=axes[0], colormap=\"Set2\")\n",
        "axes[0].set_title(\"Health Issues vs Smoking\")\n",
        "axes[0].set_xlabel(\"Smoking\")\n",
        "axes[0].set_ylabel(\"Count\")\n",
        "axes[0].legend(title=\"Health Issue\", bbox_to_anchor=(1.05, 1), loc='upper left')\n",
        "\n",
        "alcohol_health.plot(kind=\"bar\", ax=axes[1], colormap=\"Set3\")\n",
        "axes[1].set_title(\"Health Issues vs Alcohol Consumption\")\n",
        "axes[1].set_xlabel(\"Alcohol Consumption\")\n",
        "axes[1].legend().set_visible(False) \n",
        "\n",
        "plt.tight_layout()\n",
        "plt.show()"
      ]
    },
    {
      "cell_type": "markdown",
      "metadata": {},
      "source": [
        "From the Bar Chart Above we can see that people who dont smoke mostly dont have health issues, with a few having MILD health issues.\n",
        "Same with people who do smoke, so we can conclude that smoking doesn't really effect your health.\n",
        "\n",
        "The same can be said for alhohol consumption and health issues, that it has no real effect."
      ]
    },
    {
      "cell_type": "markdown",
      "metadata": {
        "id": "l6vCatci9brI"
      },
      "source": [
        "### Encode categorical variables\n",
        "\n",
        "\n",
        "Now, I will encode the categorical variables."
      ]
    },
    {
      "cell_type": "code",
      "execution_count": 223,
      "metadata": {
        "colab": {
          "base_uri": "https://localhost:8080/"
        },
        "id": "jc44eDupHCNq",
        "outputId": "2f18ae27-f1d8-4e9c-e253-18e89205a3b4"
      },
      "outputs": [
        {
          "name": "stdout",
          "output_type": "stream",
          "text": [
            "['Male' 'Female' 'Other']\n",
            "['Germany' 'Brazil' 'Spain' 'Mexico' 'France' 'Canada' 'UK' 'Switzerland'\n",
            " 'Netherlands' 'Italy' 'China' 'Japan' 'Belgium' 'Finland' 'Australia'\n",
            " 'USA' 'Sweden' 'India' 'Norway' 'South Korea']\n",
            "['Good' 'Fair' 'Excellent' 'Poor']\n",
            "['Low' 'Medium' 'High']\n",
            "['None' 'Mild' 'Moderate' 'Severe']\n",
            "['Other' 'Service' 'Office' 'Student' 'Healthcare']\n"
          ]
        }
      ],
      "source": [
        "for column in ['Gender', 'Country','Sleep_Quality','Stress_Level','Health_Issues','Occupation']:\n",
        "  print(df[column].unique())"
      ]
    },
    {
      "cell_type": "markdown",
      "metadata": {},
      "source": [
        "First Check which columns are categorical"
      ]
    },
    {
      "cell_type": "code",
      "execution_count": 224,
      "metadata": {
        "colab": {
          "base_uri": "https://localhost:8080/",
          "height": 206
        },
        "id": "rfOI02pAHlyC",
        "outputId": "60390dce-16a9-4f4c-dcb9-20c275b88b3a"
      },
      "outputs": [
        {
          "data": {
            "text/html": [
              "<div>\n",
              "<style scoped>\n",
              "    .dataframe tbody tr th:only-of-type {\n",
              "        vertical-align: middle;\n",
              "    }\n",
              "\n",
              "    .dataframe tbody tr th {\n",
              "        vertical-align: top;\n",
              "    }\n",
              "\n",
              "    .dataframe thead th {\n",
              "        text-align: right;\n",
              "    }\n",
              "</style>\n",
              "<table border=\"1\" class=\"dataframe\">\n",
              "  <thead>\n",
              "    <tr style=\"text-align: right;\">\n",
              "      <th></th>\n",
              "      <th>Age</th>\n",
              "      <th>Gender</th>\n",
              "      <th>Country</th>\n",
              "      <th>Coffee_Intake</th>\n",
              "      <th>Caffeine_mg</th>\n",
              "      <th>Sleep_Hours</th>\n",
              "      <th>Sleep_Quality</th>\n",
              "      <th>BMI</th>\n",
              "      <th>Heart_Rate</th>\n",
              "      <th>Stress_Level</th>\n",
              "      <th>Physical_Activity_Hours</th>\n",
              "      <th>Health_Issues</th>\n",
              "      <th>Occupation</th>\n",
              "      <th>Smoking</th>\n",
              "      <th>Alcohol_Consumption</th>\n",
              "    </tr>\n",
              "  </thead>\n",
              "  <tbody>\n",
              "    <tr>\n",
              "      <th>6915</th>\n",
              "      <td>19</td>\n",
              "      <td>1</td>\n",
              "      <td>11</td>\n",
              "      <td>4.2</td>\n",
              "      <td>402.1</td>\n",
              "      <td>4.9</td>\n",
              "      <td>0</td>\n",
              "      <td>17.3</td>\n",
              "      <td>69</td>\n",
              "      <td>2</td>\n",
              "      <td>2.6</td>\n",
              "      <td>1</td>\n",
              "      <td>1</td>\n",
              "      <td>0</td>\n",
              "      <td>0</td>\n",
              "    </tr>\n",
              "    <tr>\n",
              "      <th>1226</th>\n",
              "      <td>35</td>\n",
              "      <td>1</td>\n",
              "      <td>2</td>\n",
              "      <td>2.0</td>\n",
              "      <td>187.4</td>\n",
              "      <td>7.9</td>\n",
              "      <td>2</td>\n",
              "      <td>15.0</td>\n",
              "      <td>67</td>\n",
              "      <td>0</td>\n",
              "      <td>2.5</td>\n",
              "      <td>0</td>\n",
              "      <td>2</td>\n",
              "      <td>1</td>\n",
              "      <td>0</td>\n",
              "    </tr>\n",
              "    <tr>\n",
              "      <th>2492</th>\n",
              "      <td>29</td>\n",
              "      <td>2</td>\n",
              "      <td>18</td>\n",
              "      <td>1.0</td>\n",
              "      <td>92.6</td>\n",
              "      <td>8.1</td>\n",
              "      <td>3</td>\n",
              "      <td>27.7</td>\n",
              "      <td>73</td>\n",
              "      <td>0</td>\n",
              "      <td>12.5</td>\n",
              "      <td>0</td>\n",
              "      <td>1</td>\n",
              "      <td>1</td>\n",
              "      <td>0</td>\n",
              "    </tr>\n",
              "    <tr>\n",
              "      <th>9709</th>\n",
              "      <td>22</td>\n",
              "      <td>2</td>\n",
              "      <td>9</td>\n",
              "      <td>0.0</td>\n",
              "      <td>0.0</td>\n",
              "      <td>9.2</td>\n",
              "      <td>3</td>\n",
              "      <td>20.0</td>\n",
              "      <td>69</td>\n",
              "      <td>0</td>\n",
              "      <td>2.7</td>\n",
              "      <td>0</td>\n",
              "      <td>4</td>\n",
              "      <td>0</td>\n",
              "      <td>1</td>\n",
              "    </tr>\n",
              "    <tr>\n",
              "      <th>4699</th>\n",
              "      <td>29</td>\n",
              "      <td>0</td>\n",
              "      <td>8</td>\n",
              "      <td>2.7</td>\n",
              "      <td>251.9</td>\n",
              "      <td>5.1</td>\n",
              "      <td>1</td>\n",
              "      <td>25.5</td>\n",
              "      <td>70</td>\n",
              "      <td>1</td>\n",
              "      <td>11.7</td>\n",
              "      <td>1</td>\n",
              "      <td>3</td>\n",
              "      <td>1</td>\n",
              "      <td>0</td>\n",
              "    </tr>\n",
              "  </tbody>\n",
              "</table>\n",
              "</div>"
            ],
            "text/plain": [
              "      Age  Gender  Country  Coffee_Intake  Caffeine_mg  Sleep_Hours  \\\n",
              "6915   19       1       11            4.2        402.1          4.9   \n",
              "1226   35       1        2            2.0        187.4          7.9   \n",
              "2492   29       2       18            1.0         92.6          8.1   \n",
              "9709   22       2        9            0.0          0.0          9.2   \n",
              "4699   29       0        8            2.7        251.9          5.1   \n",
              "\n",
              "      Sleep_Quality   BMI  Heart_Rate  Stress_Level  Physical_Activity_Hours  \\\n",
              "6915              0  17.3          69             2                      2.6   \n",
              "1226              2  15.0          67             0                      2.5   \n",
              "2492              3  27.7          73             0                     12.5   \n",
              "9709              3  20.0          69             0                      2.7   \n",
              "4699              1  25.5          70             1                     11.7   \n",
              "\n",
              "      Health_Issues  Occupation  Smoking  Alcohol_Consumption  \n",
              "6915              1           1        0                    0  \n",
              "1226              0           2        1                    0  \n",
              "2492              0           1        1                    0  \n",
              "9709              0           4        0                    1  \n",
              "4699              1           3        1                    0  "
            ]
          },
          "execution_count": 224,
          "metadata": {},
          "output_type": "execute_result"
        }
      ],
      "source": [
        "# Encoding for ordinal column\n",
        "Gender_map = {'Male': 2, 'Female': 1, 'Other': 0}\n",
        "Country_map = {'Germany': 4, 'Brazil': 3, 'Spain': 2, 'Mexico': 1,'France': 0, 'Canada': 5, 'UK': 6, 'Switzerland': 7, 'Netherlands': 8, 'Italy': 9, 'China': 10, 'Japan': 11,'Belgium': 12, 'Finland': 13, 'UK': 14, 'Australia': 15,'USA': 16,'Sweden': 17, 'India': 18, 'Norway': 19, 'South Korea': 20}\n",
        "Sleep_Quality_map = {'Excellent': 3, 'Good': 2, 'Fair': 1, 'Poor': 0}\n",
        "Stress_Level_map = {'Low': 0, 'Medium': 1, 'High': 2}\n",
        "Health_Issues_map = {'None': 0, 'Mild': 1, 'Moderate': 2, 'Severe': 3}\n",
        "Occupation_map = {'Other': 0, 'Service': 2, 'Office': 3, 'Student': 4, 'Healthcare': 1}\n",
        "\n",
        "df['Gender'] = df['Gender'].map(Gender_map)\n",
        "df['Country'] = df['Country'].map(Country_map)\n",
        "df['Sleep_Quality'] = df['Sleep_Quality'].map(Sleep_Quality_map)\n",
        "df['Stress_Level'] = df['Stress_Level'].map(Stress_Level_map)\n",
        "df['Health_Issues'] = df['Health_Issues'].map(Health_Issues_map)\n",
        "df['Occupation'] = df['Occupation'].map(Occupation_map)\n",
        "\n",
        "df.sample(n = 5)"
      ]
    },
    {
      "cell_type": "markdown",
      "metadata": {
        "id": "9oa5-_Fq9brH"
      },
      "source": [
        "# **Declare feature vector and target variable** <a class=\"anchor\" id=\"10\"></a>\n"
      ]
    },
    {
      "cell_type": "code",
      "execution_count": 225,
      "metadata": {
        "id": "gTdhRjlT9brH",
        "trusted": true
      },
      "outputs": [],
      "source": [
        "X = df.drop(['Health_Issues'], axis=1)\n",
        "\n",
        "y = df['Health_Issues']"
      ]
    },
    {
      "cell_type": "code",
      "execution_count": 226,
      "metadata": {
        "colab": {
          "base_uri": "https://localhost:8080/",
          "height": 206
        },
        "id": "KtrtOrPcdJgn",
        "outputId": "949ecda0-5dd2-4216-b5ec-a23b9312fd82"
      },
      "outputs": [
        {
          "data": {
            "text/html": [
              "<div>\n",
              "<style scoped>\n",
              "    .dataframe tbody tr th:only-of-type {\n",
              "        vertical-align: middle;\n",
              "    }\n",
              "\n",
              "    .dataframe tbody tr th {\n",
              "        vertical-align: top;\n",
              "    }\n",
              "\n",
              "    .dataframe thead th {\n",
              "        text-align: right;\n",
              "    }\n",
              "</style>\n",
              "<table border=\"1\" class=\"dataframe\">\n",
              "  <thead>\n",
              "    <tr style=\"text-align: right;\">\n",
              "      <th></th>\n",
              "      <th>Age</th>\n",
              "      <th>Gender</th>\n",
              "      <th>Country</th>\n",
              "      <th>Coffee_Intake</th>\n",
              "      <th>Caffeine_mg</th>\n",
              "      <th>Sleep_Hours</th>\n",
              "      <th>Sleep_Quality</th>\n",
              "      <th>BMI</th>\n",
              "      <th>Heart_Rate</th>\n",
              "      <th>Stress_Level</th>\n",
              "      <th>Physical_Activity_Hours</th>\n",
              "      <th>Occupation</th>\n",
              "      <th>Smoking</th>\n",
              "      <th>Alcohol_Consumption</th>\n",
              "    </tr>\n",
              "  </thead>\n",
              "  <tbody>\n",
              "    <tr>\n",
              "      <th>0</th>\n",
              "      <td>40</td>\n",
              "      <td>2</td>\n",
              "      <td>4</td>\n",
              "      <td>3.5</td>\n",
              "      <td>328.1</td>\n",
              "      <td>7.5</td>\n",
              "      <td>2</td>\n",
              "      <td>24.9</td>\n",
              "      <td>78</td>\n",
              "      <td>0</td>\n",
              "      <td>14.5</td>\n",
              "      <td>0</td>\n",
              "      <td>0</td>\n",
              "      <td>0</td>\n",
              "    </tr>\n",
              "    <tr>\n",
              "      <th>1</th>\n",
              "      <td>33</td>\n",
              "      <td>2</td>\n",
              "      <td>4</td>\n",
              "      <td>1.0</td>\n",
              "      <td>94.1</td>\n",
              "      <td>6.2</td>\n",
              "      <td>2</td>\n",
              "      <td>20.0</td>\n",
              "      <td>67</td>\n",
              "      <td>0</td>\n",
              "      <td>11.0</td>\n",
              "      <td>2</td>\n",
              "      <td>0</td>\n",
              "      <td>0</td>\n",
              "    </tr>\n",
              "    <tr>\n",
              "      <th>2</th>\n",
              "      <td>42</td>\n",
              "      <td>2</td>\n",
              "      <td>3</td>\n",
              "      <td>5.3</td>\n",
              "      <td>503.7</td>\n",
              "      <td>5.9</td>\n",
              "      <td>1</td>\n",
              "      <td>22.7</td>\n",
              "      <td>59</td>\n",
              "      <td>1</td>\n",
              "      <td>11.2</td>\n",
              "      <td>3</td>\n",
              "      <td>0</td>\n",
              "      <td>0</td>\n",
              "    </tr>\n",
              "    <tr>\n",
              "      <th>3</th>\n",
              "      <td>53</td>\n",
              "      <td>2</td>\n",
              "      <td>4</td>\n",
              "      <td>2.6</td>\n",
              "      <td>249.2</td>\n",
              "      <td>7.3</td>\n",
              "      <td>2</td>\n",
              "      <td>24.7</td>\n",
              "      <td>71</td>\n",
              "      <td>0</td>\n",
              "      <td>6.6</td>\n",
              "      <td>0</td>\n",
              "      <td>0</td>\n",
              "      <td>0</td>\n",
              "    </tr>\n",
              "    <tr>\n",
              "      <th>4</th>\n",
              "      <td>32</td>\n",
              "      <td>1</td>\n",
              "      <td>2</td>\n",
              "      <td>3.1</td>\n",
              "      <td>298.0</td>\n",
              "      <td>5.3</td>\n",
              "      <td>1</td>\n",
              "      <td>24.1</td>\n",
              "      <td>76</td>\n",
              "      <td>1</td>\n",
              "      <td>8.5</td>\n",
              "      <td>4</td>\n",
              "      <td>0</td>\n",
              "      <td>1</td>\n",
              "    </tr>\n",
              "  </tbody>\n",
              "</table>\n",
              "</div>"
            ],
            "text/plain": [
              "   Age  Gender  Country  Coffee_Intake  Caffeine_mg  Sleep_Hours  \\\n",
              "0   40       2        4            3.5        328.1          7.5   \n",
              "1   33       2        4            1.0         94.1          6.2   \n",
              "2   42       2        3            5.3        503.7          5.9   \n",
              "3   53       2        4            2.6        249.2          7.3   \n",
              "4   32       1        2            3.1        298.0          5.3   \n",
              "\n",
              "   Sleep_Quality   BMI  Heart_Rate  Stress_Level  Physical_Activity_Hours  \\\n",
              "0              2  24.9          78             0                     14.5   \n",
              "1              2  20.0          67             0                     11.0   \n",
              "2              1  22.7          59             1                     11.2   \n",
              "3              2  24.7          71             0                      6.6   \n",
              "4              1  24.1          76             1                      8.5   \n",
              "\n",
              "   Occupation  Smoking  Alcohol_Consumption  \n",
              "0           0        0                    0  \n",
              "1           2        0                    0  \n",
              "2           3        0                    0  \n",
              "3           0        0                    0  \n",
              "4           4        0                    1  "
            ]
          },
          "execution_count": 226,
          "metadata": {},
          "output_type": "execute_result"
        }
      ],
      "source": [
        "X.head()"
      ]
    },
    {
      "cell_type": "code",
      "execution_count": 227,
      "metadata": {
        "colab": {
          "base_uri": "https://localhost:8080/",
          "height": 241
        },
        "id": "Msh_gXjUdLAC",
        "outputId": "c29b679d-6473-4999-a517-88d4476010d9"
      },
      "outputs": [
        {
          "data": {
            "text/plain": [
              "0    0\n",
              "1    0\n",
              "2    1\n",
              "3    1\n",
              "4    1\n",
              "Name: Health_Issues, dtype: int64"
            ]
          },
          "execution_count": 227,
          "metadata": {},
          "output_type": "execute_result"
        }
      ],
      "source": [
        "y.head()"
      ]
    },
    {
      "cell_type": "markdown",
      "metadata": {
        "id": "iWegQfAZ9brH"
      },
      "source": [
        "# **Split data into separate training and test set** <a class=\"anchor\" id=\"11\"></a>"
      ]
    },
    {
      "cell_type": "code",
      "execution_count": 228,
      "metadata": {
        "id": "9meBTyQq9brH",
        "trusted": true
      },
      "outputs": [],
      "source": [
        "# split X and y into training and testing sets\n",
        "\n",
        "from sklearn.model_selection import train_test_split\n",
        "\n",
        "X_train, X_test, y_train, y_test = train_test_split(X, y, test_size = 0.2, random_state = 42)\n"
      ]
    },
    {
      "cell_type": "code",
      "execution_count": 229,
      "metadata": {
        "colab": {
          "base_uri": "https://localhost:8080/"
        },
        "id": "U-_QDWx79brH",
        "outputId": "151194c0-5b42-4250-e7c6-91d2e5529806",
        "trusted": true
      },
      "outputs": [
        {
          "data": {
            "text/plain": [
              "((8000, 14), (2000, 14))"
            ]
          },
          "execution_count": 229,
          "metadata": {},
          "output_type": "execute_result"
        }
      ],
      "source": [
        "# check the shape of X_train and X_test\n",
        "\n",
        "X_train.shape, X_test.shape"
      ]
    },
    {
      "cell_type": "code",
      "execution_count": 230,
      "metadata": {
        "colab": {
          "base_uri": "https://localhost:8080/",
          "height": 206
        },
        "id": "IsPslynK9brI",
        "outputId": "7e7f074a-e34e-4128-901f-b2daf194ff35",
        "trusted": true
      },
      "outputs": [
        {
          "data": {
            "text/html": [
              "<div>\n",
              "<style scoped>\n",
              "    .dataframe tbody tr th:only-of-type {\n",
              "        vertical-align: middle;\n",
              "    }\n",
              "\n",
              "    .dataframe tbody tr th {\n",
              "        vertical-align: top;\n",
              "    }\n",
              "\n",
              "    .dataframe thead th {\n",
              "        text-align: right;\n",
              "    }\n",
              "</style>\n",
              "<table border=\"1\" class=\"dataframe\">\n",
              "  <thead>\n",
              "    <tr style=\"text-align: right;\">\n",
              "      <th></th>\n",
              "      <th>Age</th>\n",
              "      <th>Gender</th>\n",
              "      <th>Country</th>\n",
              "      <th>Coffee_Intake</th>\n",
              "      <th>Caffeine_mg</th>\n",
              "      <th>Sleep_Hours</th>\n",
              "      <th>Sleep_Quality</th>\n",
              "      <th>BMI</th>\n",
              "      <th>Heart_Rate</th>\n",
              "      <th>Stress_Level</th>\n",
              "      <th>Physical_Activity_Hours</th>\n",
              "      <th>Occupation</th>\n",
              "      <th>Smoking</th>\n",
              "      <th>Alcohol_Consumption</th>\n",
              "    </tr>\n",
              "  </thead>\n",
              "  <tbody>\n",
              "    <tr>\n",
              "      <th>9254</th>\n",
              "      <td>37</td>\n",
              "      <td>2</td>\n",
              "      <td>2</td>\n",
              "      <td>4.3</td>\n",
              "      <td>405.6</td>\n",
              "      <td>5.4</td>\n",
              "      <td>1</td>\n",
              "      <td>18.0</td>\n",
              "      <td>86</td>\n",
              "      <td>1</td>\n",
              "      <td>2.4</td>\n",
              "      <td>2</td>\n",
              "      <td>0</td>\n",
              "      <td>1</td>\n",
              "    </tr>\n",
              "    <tr>\n",
              "      <th>1561</th>\n",
              "      <td>26</td>\n",
              "      <td>2</td>\n",
              "      <td>18</td>\n",
              "      <td>0.0</td>\n",
              "      <td>0.0</td>\n",
              "      <td>5.5</td>\n",
              "      <td>1</td>\n",
              "      <td>28.3</td>\n",
              "      <td>75</td>\n",
              "      <td>1</td>\n",
              "      <td>10.8</td>\n",
              "      <td>0</td>\n",
              "      <td>0</td>\n",
              "      <td>0</td>\n",
              "    </tr>\n",
              "    <tr>\n",
              "      <th>1670</th>\n",
              "      <td>32</td>\n",
              "      <td>2</td>\n",
              "      <td>20</td>\n",
              "      <td>2.8</td>\n",
              "      <td>268.1</td>\n",
              "      <td>7.3</td>\n",
              "      <td>2</td>\n",
              "      <td>27.4</td>\n",
              "      <td>69</td>\n",
              "      <td>0</td>\n",
              "      <td>8.6</td>\n",
              "      <td>3</td>\n",
              "      <td>0</td>\n",
              "      <td>0</td>\n",
              "    </tr>\n",
              "    <tr>\n",
              "      <th>6087</th>\n",
              "      <td>18</td>\n",
              "      <td>2</td>\n",
              "      <td>20</td>\n",
              "      <td>2.2</td>\n",
              "      <td>208.6</td>\n",
              "      <td>8.1</td>\n",
              "      <td>3</td>\n",
              "      <td>16.3</td>\n",
              "      <td>83</td>\n",
              "      <td>0</td>\n",
              "      <td>8.9</td>\n",
              "      <td>0</td>\n",
              "      <td>0</td>\n",
              "      <td>1</td>\n",
              "    </tr>\n",
              "    <tr>\n",
              "      <th>6669</th>\n",
              "      <td>43</td>\n",
              "      <td>1</td>\n",
              "      <td>14</td>\n",
              "      <td>2.6</td>\n",
              "      <td>251.1</td>\n",
              "      <td>9.4</td>\n",
              "      <td>3</td>\n",
              "      <td>25.4</td>\n",
              "      <td>68</td>\n",
              "      <td>0</td>\n",
              "      <td>3.4</td>\n",
              "      <td>3</td>\n",
              "      <td>0</td>\n",
              "      <td>0</td>\n",
              "    </tr>\n",
              "  </tbody>\n",
              "</table>\n",
              "</div>"
            ],
            "text/plain": [
              "      Age  Gender  Country  Coffee_Intake  Caffeine_mg  Sleep_Hours  \\\n",
              "9254   37       2        2            4.3        405.6          5.4   \n",
              "1561   26       2       18            0.0          0.0          5.5   \n",
              "1670   32       2       20            2.8        268.1          7.3   \n",
              "6087   18       2       20            2.2        208.6          8.1   \n",
              "6669   43       1       14            2.6        251.1          9.4   \n",
              "\n",
              "      Sleep_Quality   BMI  Heart_Rate  Stress_Level  Physical_Activity_Hours  \\\n",
              "9254              1  18.0          86             1                      2.4   \n",
              "1561              1  28.3          75             1                     10.8   \n",
              "1670              2  27.4          69             0                      8.6   \n",
              "6087              3  16.3          83             0                      8.9   \n",
              "6669              3  25.4          68             0                      3.4   \n",
              "\n",
              "      Occupation  Smoking  Alcohol_Consumption  \n",
              "9254           2        0                    1  \n",
              "1561           0        0                    0  \n",
              "1670           3        0                    0  \n",
              "6087           0        0                    1  \n",
              "6669           3        0                    0  "
            ]
          },
          "execution_count": 230,
          "metadata": {},
          "output_type": "execute_result"
        }
      ],
      "source": [
        "X_train.head()"
      ]
    },
    {
      "cell_type": "code",
      "execution_count": 231,
      "metadata": {
        "colab": {
          "base_uri": "https://localhost:8080/",
          "height": 206
        },
        "id": "9HHuJfjD9brI",
        "outputId": "6f00c920-0fe2-44e6-a2f5-d21272863fb2",
        "trusted": true
      },
      "outputs": [
        {
          "data": {
            "text/html": [
              "<div>\n",
              "<style scoped>\n",
              "    .dataframe tbody tr th:only-of-type {\n",
              "        vertical-align: middle;\n",
              "    }\n",
              "\n",
              "    .dataframe tbody tr th {\n",
              "        vertical-align: top;\n",
              "    }\n",
              "\n",
              "    .dataframe thead th {\n",
              "        text-align: right;\n",
              "    }\n",
              "</style>\n",
              "<table border=\"1\" class=\"dataframe\">\n",
              "  <thead>\n",
              "    <tr style=\"text-align: right;\">\n",
              "      <th></th>\n",
              "      <th>Age</th>\n",
              "      <th>Gender</th>\n",
              "      <th>Country</th>\n",
              "      <th>Coffee_Intake</th>\n",
              "      <th>Caffeine_mg</th>\n",
              "      <th>Sleep_Hours</th>\n",
              "      <th>Sleep_Quality</th>\n",
              "      <th>BMI</th>\n",
              "      <th>Heart_Rate</th>\n",
              "      <th>Stress_Level</th>\n",
              "      <th>Physical_Activity_Hours</th>\n",
              "      <th>Occupation</th>\n",
              "      <th>Smoking</th>\n",
              "      <th>Alcohol_Consumption</th>\n",
              "    </tr>\n",
              "  </thead>\n",
              "  <tbody>\n",
              "    <tr>\n",
              "      <th>6252</th>\n",
              "      <td>66</td>\n",
              "      <td>2</td>\n",
              "      <td>19</td>\n",
              "      <td>2.6</td>\n",
              "      <td>245.9</td>\n",
              "      <td>6.7</td>\n",
              "      <td>2</td>\n",
              "      <td>30.1</td>\n",
              "      <td>76</td>\n",
              "      <td>0</td>\n",
              "      <td>1.9</td>\n",
              "      <td>2</td>\n",
              "      <td>0</td>\n",
              "      <td>1</td>\n",
              "    </tr>\n",
              "    <tr>\n",
              "      <th>4684</th>\n",
              "      <td>22</td>\n",
              "      <td>1</td>\n",
              "      <td>1</td>\n",
              "      <td>3.1</td>\n",
              "      <td>293.1</td>\n",
              "      <td>7.6</td>\n",
              "      <td>2</td>\n",
              "      <td>20.4</td>\n",
              "      <td>69</td>\n",
              "      <td>0</td>\n",
              "      <td>5.0</td>\n",
              "      <td>2</td>\n",
              "      <td>0</td>\n",
              "      <td>0</td>\n",
              "    </tr>\n",
              "    <tr>\n",
              "      <th>1731</th>\n",
              "      <td>30</td>\n",
              "      <td>2</td>\n",
              "      <td>15</td>\n",
              "      <td>3.9</td>\n",
              "      <td>372.4</td>\n",
              "      <td>6.4</td>\n",
              "      <td>2</td>\n",
              "      <td>27.5</td>\n",
              "      <td>75</td>\n",
              "      <td>0</td>\n",
              "      <td>13.8</td>\n",
              "      <td>3</td>\n",
              "      <td>0</td>\n",
              "      <td>0</td>\n",
              "    </tr>\n",
              "    <tr>\n",
              "      <th>4742</th>\n",
              "      <td>35</td>\n",
              "      <td>2</td>\n",
              "      <td>4</td>\n",
              "      <td>1.0</td>\n",
              "      <td>92.5</td>\n",
              "      <td>5.3</td>\n",
              "      <td>1</td>\n",
              "      <td>23.1</td>\n",
              "      <td>71</td>\n",
              "      <td>1</td>\n",
              "      <td>2.4</td>\n",
              "      <td>2</td>\n",
              "      <td>0</td>\n",
              "      <td>0</td>\n",
              "    </tr>\n",
              "    <tr>\n",
              "      <th>4521</th>\n",
              "      <td>47</td>\n",
              "      <td>2</td>\n",
              "      <td>9</td>\n",
              "      <td>1.3</td>\n",
              "      <td>119.0</td>\n",
              "      <td>6.9</td>\n",
              "      <td>2</td>\n",
              "      <td>28.4</td>\n",
              "      <td>64</td>\n",
              "      <td>0</td>\n",
              "      <td>9.6</td>\n",
              "      <td>3</td>\n",
              "      <td>1</td>\n",
              "      <td>0</td>\n",
              "    </tr>\n",
              "  </tbody>\n",
              "</table>\n",
              "</div>"
            ],
            "text/plain": [
              "      Age  Gender  Country  Coffee_Intake  Caffeine_mg  Sleep_Hours  \\\n",
              "6252   66       2       19            2.6        245.9          6.7   \n",
              "4684   22       1        1            3.1        293.1          7.6   \n",
              "1731   30       2       15            3.9        372.4          6.4   \n",
              "4742   35       2        4            1.0         92.5          5.3   \n",
              "4521   47       2        9            1.3        119.0          6.9   \n",
              "\n",
              "      Sleep_Quality   BMI  Heart_Rate  Stress_Level  Physical_Activity_Hours  \\\n",
              "6252              2  30.1          76             0                      1.9   \n",
              "4684              2  20.4          69             0                      5.0   \n",
              "1731              2  27.5          75             0                     13.8   \n",
              "4742              1  23.1          71             1                      2.4   \n",
              "4521              2  28.4          64             0                      9.6   \n",
              "\n",
              "      Occupation  Smoking  Alcohol_Consumption  \n",
              "6252           2        0                    1  \n",
              "4684           2        0                    0  \n",
              "1731           3        0                    0  \n",
              "4742           2        0                    0  \n",
              "4521           3        1                    0  "
            ]
          },
          "execution_count": 231,
          "metadata": {},
          "output_type": "execute_result"
        }
      ],
      "source": [
        "X_test.head()"
      ]
    },
    {
      "cell_type": "markdown",
      "metadata": {
        "id": "E-ZlGNBv9brI"
      },
      "source": [
        "We now have training and test set ready for model building."
      ]
    },
    {
      "cell_type": "markdown",
      "metadata": {
        "id": "HgZd36HN9brI"
      },
      "source": [
        "# **Decision Tree Classifier with criterion gini index** <a class=\"anchor\" id=\"13\"></a>\n"
      ]
    },
    {
      "cell_type": "code",
      "execution_count": 232,
      "metadata": {
        "id": "mu4vqxSo9brI",
        "trusted": true
      },
      "outputs": [],
      "source": [
        "# import DecisionTreeClassifier\n",
        "\n",
        "from sklearn.tree import DecisionTreeClassifier"
      ]
    },
    {
      "cell_type": "code",
      "execution_count": 233,
      "metadata": {
        "colab": {
          "base_uri": "https://localhost:8080/",
          "height": 80
        },
        "id": "fafixg1i9brI",
        "outputId": "b0b025dc-a470-4a4e-ea9e-6bc7e1f51e09",
        "trusted": true
      },
      "outputs": [
        {
          "data": {
            "text/html": [
              "<style>#sk-container-id-13 {color: black;}#sk-container-id-13 pre{padding: 0;}#sk-container-id-13 div.sk-toggleable {background-color: white;}#sk-container-id-13 label.sk-toggleable__label {cursor: pointer;display: block;width: 100%;margin-bottom: 0;padding: 0.3em;box-sizing: border-box;text-align: center;}#sk-container-id-13 label.sk-toggleable__label-arrow:before {content: \"▸\";float: left;margin-right: 0.25em;color: #696969;}#sk-container-id-13 label.sk-toggleable__label-arrow:hover:before {color: black;}#sk-container-id-13 div.sk-estimator:hover label.sk-toggleable__label-arrow:before {color: black;}#sk-container-id-13 div.sk-toggleable__content {max-height: 0;max-width: 0;overflow: hidden;text-align: left;background-color: #f0f8ff;}#sk-container-id-13 div.sk-toggleable__content pre {margin: 0.2em;color: black;border-radius: 0.25em;background-color: #f0f8ff;}#sk-container-id-13 input.sk-toggleable__control:checked~div.sk-toggleable__content {max-height: 200px;max-width: 100%;overflow: auto;}#sk-container-id-13 input.sk-toggleable__control:checked~label.sk-toggleable__label-arrow:before {content: \"▾\";}#sk-container-id-13 div.sk-estimator input.sk-toggleable__control:checked~label.sk-toggleable__label {background-color: #d4ebff;}#sk-container-id-13 div.sk-label input.sk-toggleable__control:checked~label.sk-toggleable__label {background-color: #d4ebff;}#sk-container-id-13 input.sk-hidden--visually {border: 0;clip: rect(1px 1px 1px 1px);clip: rect(1px, 1px, 1px, 1px);height: 1px;margin: -1px;overflow: hidden;padding: 0;position: absolute;width: 1px;}#sk-container-id-13 div.sk-estimator {font-family: monospace;background-color: #f0f8ff;border: 1px dotted black;border-radius: 0.25em;box-sizing: border-box;margin-bottom: 0.5em;}#sk-container-id-13 div.sk-estimator:hover {background-color: #d4ebff;}#sk-container-id-13 div.sk-parallel-item::after {content: \"\";width: 100%;border-bottom: 1px solid gray;flex-grow: 1;}#sk-container-id-13 div.sk-label:hover label.sk-toggleable__label {background-color: #d4ebff;}#sk-container-id-13 div.sk-serial::before {content: \"\";position: absolute;border-left: 1px solid gray;box-sizing: border-box;top: 0;bottom: 0;left: 50%;z-index: 0;}#sk-container-id-13 div.sk-serial {display: flex;flex-direction: column;align-items: center;background-color: white;padding-right: 0.2em;padding-left: 0.2em;position: relative;}#sk-container-id-13 div.sk-item {position: relative;z-index: 1;}#sk-container-id-13 div.sk-parallel {display: flex;align-items: stretch;justify-content: center;background-color: white;position: relative;}#sk-container-id-13 div.sk-item::before, #sk-container-id-13 div.sk-parallel-item::before {content: \"\";position: absolute;border-left: 1px solid gray;box-sizing: border-box;top: 0;bottom: 0;left: 50%;z-index: -1;}#sk-container-id-13 div.sk-parallel-item {display: flex;flex-direction: column;z-index: 1;position: relative;background-color: white;}#sk-container-id-13 div.sk-parallel-item:first-child::after {align-self: flex-end;width: 50%;}#sk-container-id-13 div.sk-parallel-item:last-child::after {align-self: flex-start;width: 50%;}#sk-container-id-13 div.sk-parallel-item:only-child::after {width: 0;}#sk-container-id-13 div.sk-dashed-wrapped {border: 1px dashed gray;margin: 0 0.4em 0.5em 0.4em;box-sizing: border-box;padding-bottom: 0.4em;background-color: white;}#sk-container-id-13 div.sk-label label {font-family: monospace;font-weight: bold;display: inline-block;line-height: 1.2em;}#sk-container-id-13 div.sk-label-container {text-align: center;}#sk-container-id-13 div.sk-container {/* jupyter's `normalize.less` sets `[hidden] { display: none; }` but bootstrap.min.css set `[hidden] { display: none !important; }` so we also need the `!important` here to be able to override the default hidden behavior on the sphinx rendered scikit-learn.org. See: https://github.com/scikit-learn/scikit-learn/issues/21755 */display: inline-block !important;position: relative;}#sk-container-id-13 div.sk-text-repr-fallback {display: none;}</style><div id=\"sk-container-id-13\" class=\"sk-top-container\"><div class=\"sk-text-repr-fallback\"><pre>DecisionTreeClassifier(max_depth=4, random_state=0)</pre><b>In a Jupyter environment, please rerun this cell to show the HTML representation or trust the notebook. <br />On GitHub, the HTML representation is unable to render, please try loading this page with nbviewer.org.</b></div><div class=\"sk-container\" hidden><div class=\"sk-item\"><div class=\"sk-estimator sk-toggleable\"><input class=\"sk-toggleable__control sk-hidden--visually\" id=\"sk-estimator-id-13\" type=\"checkbox\" checked><label for=\"sk-estimator-id-13\" class=\"sk-toggleable__label sk-toggleable__label-arrow\">DecisionTreeClassifier</label><div class=\"sk-toggleable__content\"><pre>DecisionTreeClassifier(max_depth=4, random_state=0)</pre></div></div></div></div></div>"
            ],
            "text/plain": [
              "DecisionTreeClassifier(max_depth=4, random_state=0)"
            ]
          },
          "execution_count": 233,
          "metadata": {},
          "output_type": "execute_result"
        }
      ],
      "source": [
        "clf_gini = DecisionTreeClassifier(criterion='gini', max_depth=4, random_state=0)\n",
        "\n",
        "clf_gini.fit(X_train, y_train)\n"
      ]
    },
    {
      "cell_type": "markdown",
      "metadata": {
        "id": "gt7jeOx69brI"
      },
      "source": [
        "### Predict the Test set results with criterion gini index"
      ]
    },
    {
      "cell_type": "code",
      "execution_count": 234,
      "metadata": {
        "id": "SDVkZzuy9brI",
        "trusted": true
      },
      "outputs": [],
      "source": [
        "y_pred_gini = clf_gini.predict(X_test)"
      ]
    },
    {
      "cell_type": "markdown",
      "metadata": {
        "id": "8qkpv2Ga9brI"
      },
      "source": [
        "### Check accuracy score with criterion gini index"
      ]
    },
    {
      "cell_type": "code",
      "execution_count": 235,
      "metadata": {
        "colab": {
          "base_uri": "https://localhost:8080/"
        },
        "id": "pN2EBg0v9brI",
        "outputId": "e5ce6f85-bd43-4732-86fc-98643050ac47",
        "trusted": true
      },
      "outputs": [
        {
          "name": "stdout",
          "output_type": "stream",
          "text": [
            "Model accuracy score with criterion gini index: 0.9965\n"
          ]
        }
      ],
      "source": [
        "from sklearn.metrics import accuracy_score\n",
        "\n",
        "print('Model accuracy score with criterion gini index: {0:0.4f}'. format(accuracy_score(y_test, y_pred_gini)))"
      ]
    },
    {
      "cell_type": "markdown",
      "metadata": {
        "id": "x9TjyiJk9brI"
      },
      "source": [
        "Here, **y_test** are the true class labels and **y_pred_gini** are the predicted class labels in the test-set."
      ]
    },
    {
      "cell_type": "markdown",
      "metadata": {
        "id": "pXNZR-vk9brI"
      },
      "source": [
        "### Visualize decision-trees"
      ]
    },
    {
      "cell_type": "code",
      "execution_count": 236,
      "metadata": {
        "colab": {
          "base_uri": "https://localhost:8080/",
          "height": 885
        },
        "id": "cPwARArx9brI",
        "outputId": "217ec9cd-a999-421a-b9fd-48fe0bd16261",
        "trusted": true
      },
      "outputs": [
        {
          "data": {
            "text/plain": [
              "[Text(0.5, 0.9, 'x[6] <= 1.5\\ngini = 0.519\\nsamples = 8000\\nvalue = [4723, 2885, 380, 12]'),\n",
              " Text(0.25, 0.7, 'x[0] <= 50.5\\ngini = 0.253\\nsamples = 2446\\nvalue = [0, 2085, 349, 12]'),\n",
              " Text(0.125, 0.5, 'x[7] <= 29.95\\ngini = 0.118\\nsamples = 2225\\nvalue = [0, 2085, 140, 0]'),\n",
              " Text(0.0625, 0.3, 'gini = 0.0\\nsamples = 2079\\nvalue = [0, 2079, 0, 0]'),\n",
              " Text(0.1875, 0.3, 'x[7] <= 30.05\\ngini = 0.079\\nsamples = 146\\nvalue = [0, 6, 140, 0]'),\n",
              " Text(0.125, 0.1, 'gini = 0.49\\nsamples = 14\\nvalue = [0, 6, 8, 0]'),\n",
              " Text(0.25, 0.1, 'gini = 0.0\\nsamples = 132\\nvalue = [0, 0, 132, 0]'),\n",
              " Text(0.375, 0.5, 'x[7] <= 30.0\\ngini = 0.103\\nsamples = 221\\nvalue = [0, 0, 209, 12]'),\n",
              " Text(0.3125, 0.3, 'gini = 0.0\\nsamples = 209\\nvalue = [0, 0, 209, 0]'),\n",
              " Text(0.4375, 0.3, 'gini = 0.0\\nsamples = 12\\nvalue = [0, 0, 0, 12]'),\n",
              " Text(0.75, 0.7, 'x[0] <= 50.5\\ngini = 0.256\\nsamples = 5554\\nvalue = [4723, 800, 31, 0]'),\n",
              " Text(0.625, 0.5, 'x[7] <= 29.95\\ngini = 0.118\\nsamples = 5040\\nvalue = [4723, 317, 0, 0]'),\n",
              " Text(0.5625, 0.3, 'gini = 0.0\\nsamples = 4714\\nvalue = [4714, 0, 0, 0]'),\n",
              " Text(0.6875, 0.3, 'x[7] <= 30.05\\ngini = 0.054\\nsamples = 326\\nvalue = [9, 317, 0, 0]'),\n",
              " Text(0.625, 0.1, 'gini = 0.495\\nsamples = 20\\nvalue = [9, 11, 0, 0]'),\n",
              " Text(0.75, 0.1, 'gini = 0.0\\nsamples = 306\\nvalue = [0, 306, 0, 0]'),\n",
              " Text(0.875, 0.5, 'x[7] <= 30.0\\ngini = 0.113\\nsamples = 514\\nvalue = [0, 483, 31, 0]'),\n",
              " Text(0.8125, 0.3, 'gini = 0.0\\nsamples = 483\\nvalue = [0, 483, 0, 0]'),\n",
              " Text(0.9375, 0.3, 'gini = 0.0\\nsamples = 31\\nvalue = [0, 0, 31, 0]')]"
            ]
          },
          "execution_count": 236,
          "metadata": {},
          "output_type": "execute_result"
        },
        {
          "data": {
            "image/png": "[encoded data removed]",
            "text/plain": [
              "<Figure size 1200x800 with 1 Axes>"
            ]
          },
          "metadata": {},
          "output_type": "display_data"
        }
      ],
      "source": [
        "plt.figure(figsize=(12,8))\n",
        "\n",
        "from sklearn import tree\n",
        "\n",
        "tree.plot_tree(clf_gini.fit(X_train, y_train))"
      ]
    },
    {
      "cell_type": "markdown",
      "metadata": {
        "id": "FVN01Pd39brJ"
      },
      "source": [
        "# **Decision Tree Classifier with criterion entropy** <a class=\"anchor\" id=\"14\"></a>\n"
      ]
    },
    {
      "cell_type": "code",
      "execution_count": 237,
      "metadata": {
        "colab": {
          "base_uri": "https://localhost:8080/",
          "height": 80
        },
        "id": "g4QRkrEN9brJ",
        "outputId": "dbf32606-9e4e-4ee3-e110-b6cd01bbe2bc",
        "trusted": true
      },
      "outputs": [
        {
          "data": {
            "text/html": [
              "<style>#sk-container-id-14 {color: black;}#sk-container-id-14 pre{padding: 0;}#sk-container-id-14 div.sk-toggleable {background-color: white;}#sk-container-id-14 label.sk-toggleable__label {cursor: pointer;display: block;width: 100%;margin-bottom: 0;padding: 0.3em;box-sizing: border-box;text-align: center;}#sk-container-id-14 label.sk-toggleable__label-arrow:before {content: \"▸\";float: left;margin-right: 0.25em;color: #696969;}#sk-container-id-14 label.sk-toggleable__label-arrow:hover:before {color: black;}#sk-container-id-14 div.sk-estimator:hover label.sk-toggleable__label-arrow:before {color: black;}#sk-container-id-14 div.sk-toggleable__content {max-height: 0;max-width: 0;overflow: hidden;text-align: left;background-color: #f0f8ff;}#sk-container-id-14 div.sk-toggleable__content pre {margin: 0.2em;color: black;border-radius: 0.25em;background-color: #f0f8ff;}#sk-container-id-14 input.sk-toggleable__control:checked~div.sk-toggleable__content {max-height: 200px;max-width: 100%;overflow: auto;}#sk-container-id-14 input.sk-toggleable__control:checked~label.sk-toggleable__label-arrow:before {content: \"▾\";}#sk-container-id-14 div.sk-estimator input.sk-toggleable__control:checked~label.sk-toggleable__label {background-color: #d4ebff;}#sk-container-id-14 div.sk-label input.sk-toggleable__control:checked~label.sk-toggleable__label {background-color: #d4ebff;}#sk-container-id-14 input.sk-hidden--visually {border: 0;clip: rect(1px 1px 1px 1px);clip: rect(1px, 1px, 1px, 1px);height: 1px;margin: -1px;overflow: hidden;padding: 0;position: absolute;width: 1px;}#sk-container-id-14 div.sk-estimator {font-family: monospace;background-color: #f0f8ff;border: 1px dotted black;border-radius: 0.25em;box-sizing: border-box;margin-bottom: 0.5em;}#sk-container-id-14 div.sk-estimator:hover {background-color: #d4ebff;}#sk-container-id-14 div.sk-parallel-item::after {content: \"\";width: 100%;border-bottom: 1px solid gray;flex-grow: 1;}#sk-container-id-14 div.sk-label:hover label.sk-toggleable__label {background-color: #d4ebff;}#sk-container-id-14 div.sk-serial::before {content: \"\";position: absolute;border-left: 1px solid gray;box-sizing: border-box;top: 0;bottom: 0;left: 50%;z-index: 0;}#sk-container-id-14 div.sk-serial {display: flex;flex-direction: column;align-items: center;background-color: white;padding-right: 0.2em;padding-left: 0.2em;position: relative;}#sk-container-id-14 div.sk-item {position: relative;z-index: 1;}#sk-container-id-14 div.sk-parallel {display: flex;align-items: stretch;justify-content: center;background-color: white;position: relative;}#sk-container-id-14 div.sk-item::before, #sk-container-id-14 div.sk-parallel-item::before {content: \"\";position: absolute;border-left: 1px solid gray;box-sizing: border-box;top: 0;bottom: 0;left: 50%;z-index: -1;}#sk-container-id-14 div.sk-parallel-item {display: flex;flex-direction: column;z-index: 1;position: relative;background-color: white;}#sk-container-id-14 div.sk-parallel-item:first-child::after {align-self: flex-end;width: 50%;}#sk-container-id-14 div.sk-parallel-item:last-child::after {align-self: flex-start;width: 50%;}#sk-container-id-14 div.sk-parallel-item:only-child::after {width: 0;}#sk-container-id-14 div.sk-dashed-wrapped {border: 1px dashed gray;margin: 0 0.4em 0.5em 0.4em;box-sizing: border-box;padding-bottom: 0.4em;background-color: white;}#sk-container-id-14 div.sk-label label {font-family: monospace;font-weight: bold;display: inline-block;line-height: 1.2em;}#sk-container-id-14 div.sk-label-container {text-align: center;}#sk-container-id-14 div.sk-container {/* jupyter's `normalize.less` sets `[hidden] { display: none; }` but bootstrap.min.css set `[hidden] { display: none !important; }` so we also need the `!important` here to be able to override the default hidden behavior on the sphinx rendered scikit-learn.org. See: https://github.com/scikit-learn/scikit-learn/issues/21755 */display: inline-block !important;position: relative;}#sk-container-id-14 div.sk-text-repr-fallback {display: none;}</style><div id=\"sk-container-id-14\" class=\"sk-top-container\"><div class=\"sk-text-repr-fallback\"><pre>DecisionTreeClassifier(criterion=&#x27;entropy&#x27;, max_depth=3, random_state=0)</pre><b>In a Jupyter environment, please rerun this cell to show the HTML representation or trust the notebook. <br />On GitHub, the HTML representation is unable to render, please try loading this page with nbviewer.org.</b></div><div class=\"sk-container\" hidden><div class=\"sk-item\"><div class=\"sk-estimator sk-toggleable\"><input class=\"sk-toggleable__control sk-hidden--visually\" id=\"sk-estimator-id-14\" type=\"checkbox\" checked><label for=\"sk-estimator-id-14\" class=\"sk-toggleable__label sk-toggleable__label-arrow\">DecisionTreeClassifier</label><div class=\"sk-toggleable__content\"><pre>DecisionTreeClassifier(criterion=&#x27;entropy&#x27;, max_depth=3, random_state=0)</pre></div></div></div></div></div>"
            ],
            "text/plain": [
              "DecisionTreeClassifier(criterion='entropy', max_depth=3, random_state=0)"
            ]
          },
          "execution_count": 237,
          "metadata": {},
          "output_type": "execute_result"
        }
      ],
      "source": [
        "clf_en = DecisionTreeClassifier(criterion='entropy', max_depth=3, random_state=0)\n",
        "\n",
        "clf_en.fit(X_train, y_train)"
      ]
    },
    {
      "cell_type": "markdown",
      "metadata": {
        "id": "ZLB0Vvez9brJ"
      },
      "source": [
        "### Predict the Test set results with criterion entropy"
      ]
    },
    {
      "cell_type": "code",
      "execution_count": 238,
      "metadata": {
        "id": "nvswWl_e9brJ",
        "trusted": true
      },
      "outputs": [],
      "source": [
        "y_pred_en = clf_en.predict(X_test)"
      ]
    },
    {
      "cell_type": "markdown",
      "metadata": {
        "id": "unD12oQh9brJ"
      },
      "source": [
        "### Check accuracy score with criterion entropy"
      ]
    },
    {
      "cell_type": "code",
      "execution_count": 239,
      "metadata": {
        "colab": {
          "base_uri": "https://localhost:8080/"
        },
        "id": "xUux3fJw9brJ",
        "outputId": "f651e231-4d7b-4763-fb72-7ad3205ae1ba",
        "trusted": true
      },
      "outputs": [
        {
          "name": "stdout",
          "output_type": "stream",
          "text": [
            "Model accuracy score with criterion entropy: 0.9965\n"
          ]
        }
      ],
      "source": [
        "from sklearn.metrics import accuracy_score\n",
        "\n",
        "print('Model accuracy score with criterion entropy: {0:0.4f}'. format(accuracy_score(y_test, y_pred_en)))"
      ]
    },
    {
      "cell_type": "markdown",
      "metadata": {
        "id": "hrxOxG0M9brJ"
      },
      "source": [
        "### Visualize decision-trees"
      ]
    },
    {
      "cell_type": "code",
      "execution_count": 240,
      "metadata": {
        "colab": {
          "base_uri": "https://localhost:8080/",
          "height": 814
        },
        "id": "7Izeg6eU9brJ",
        "outputId": "65c5fc24-6331-4a0c-ecd5-95881457a6a5",
        "trusted": true
      },
      "outputs": [
        {
          "data": {
            "text/plain": [
              "[Text(0.5, 0.875, 'x[6] <= 1.5\\nentropy = 1.202\\nsamples = 8000\\nvalue = [4723, 2885, 380, 12]'),\n",
              " Text(0.25, 0.625, 'x[0] <= 50.5\\nentropy = 0.635\\nsamples = 2446\\nvalue = [0, 2085, 349, 12]'),\n",
              " Text(0.125, 0.375, 'x[7] <= 29.95\\nentropy = 0.339\\nsamples = 2225\\nvalue = [0, 2085, 140, 0]'),\n",
              " Text(0.0625, 0.125, 'entropy = 0.0\\nsamples = 2079\\nvalue = [0, 2079, 0, 0]'),\n",
              " Text(0.1875, 0.125, 'entropy = 0.247\\nsamples = 146\\nvalue = [0, 6, 140, 0]'),\n",
              " Text(0.375, 0.375, 'x[7] <= 30.0\\nentropy = 0.304\\nsamples = 221\\nvalue = [0, 0, 209, 12]'),\n",
              " Text(0.3125, 0.125, 'entropy = 0.0\\nsamples = 209\\nvalue = [0, 0, 209, 0]'),\n",
              " Text(0.4375, 0.125, 'entropy = 0.0\\nsamples = 12\\nvalue = [0, 0, 0, 12]'),\n",
              " Text(0.75, 0.625, 'x[0] <= 50.5\\nentropy = 0.643\\nsamples = 5554\\nvalue = [4723, 800, 31, 0]'),\n",
              " Text(0.625, 0.375, 'x[7] <= 29.95\\nentropy = 0.339\\nsamples = 5040\\nvalue = [4723, 317, 0, 0]'),\n",
              " Text(0.5625, 0.125, 'entropy = 0.0\\nsamples = 4714\\nvalue = [4714, 0, 0, 0]'),\n",
              " Text(0.6875, 0.125, 'entropy = 0.182\\nsamples = 326\\nvalue = [9, 317, 0, 0]'),\n",
              " Text(0.875, 0.375, 'x[7] <= 30.0\\nentropy = 0.329\\nsamples = 514\\nvalue = [0, 483, 31, 0]'),\n",
              " Text(0.8125, 0.125, 'entropy = 0.0\\nsamples = 483\\nvalue = [0, 483, 0, 0]'),\n",
              " Text(0.9375, 0.125, 'entropy = 0.0\\nsamples = 31\\nvalue = [0, 0, 31, 0]')]"
            ]
          },
          "execution_count": 240,
          "metadata": {},
          "output_type": "execute_result"
        },
        {
          "data": {
            "image/png": "[encoded data removed]",
            "text/plain": [
              "<Figure size 1200x800 with 1 Axes>"
            ]
          },
          "metadata": {},
          "output_type": "display_data"
        }
      ],
      "source": [
        "plt.figure(figsize=(12,8))\n",
        "\n",
        "from sklearn import tree\n",
        "\n",
        "tree.plot_tree(clf_en.fit(X_train, y_train))"
      ]
    },
    {
      "cell_type": "markdown",
      "metadata": {
        "id": "HbuBX4XC4FNg"
      },
      "source": [
        "# **Naive Bayes** <a class=\"anchor\" id=\"16\"></a>"
      ]
    },
    {
      "cell_type": "code",
      "execution_count": 241,
      "metadata": {
        "colab": {
          "base_uri": "https://localhost:8080/",
          "height": 80
        },
        "id": "O9uLAPIAWVFy",
        "outputId": "ba5acdd1-b064-4db3-d348-8c43c737f929"
      },
      "outputs": [
        {
          "data": {
            "text/html": [
              "<style>#sk-container-id-15 {color: black;}#sk-container-id-15 pre{padding: 0;}#sk-container-id-15 div.sk-toggleable {background-color: white;}#sk-container-id-15 label.sk-toggleable__label {cursor: pointer;display: block;width: 100%;margin-bottom: 0;padding: 0.3em;box-sizing: border-box;text-align: center;}#sk-container-id-15 label.sk-toggleable__label-arrow:before {content: \"▸\";float: left;margin-right: 0.25em;color: #696969;}#sk-container-id-15 label.sk-toggleable__label-arrow:hover:before {color: black;}#sk-container-id-15 div.sk-estimator:hover label.sk-toggleable__label-arrow:before {color: black;}#sk-container-id-15 div.sk-toggleable__content {max-height: 0;max-width: 0;overflow: hidden;text-align: left;background-color: #f0f8ff;}#sk-container-id-15 div.sk-toggleable__content pre {margin: 0.2em;color: black;border-radius: 0.25em;background-color: #f0f8ff;}#sk-container-id-15 input.sk-toggleable__control:checked~div.sk-toggleable__content {max-height: 200px;max-width: 100%;overflow: auto;}#sk-container-id-15 input.sk-toggleable__control:checked~label.sk-toggleable__label-arrow:before {content: \"▾\";}#sk-container-id-15 div.sk-estimator input.sk-toggleable__control:checked~label.sk-toggleable__label {background-color: #d4ebff;}#sk-container-id-15 div.sk-label input.sk-toggleable__control:checked~label.sk-toggleable__label {background-color: #d4ebff;}#sk-container-id-15 input.sk-hidden--visually {border: 0;clip: rect(1px 1px 1px 1px);clip: rect(1px, 1px, 1px, 1px);height: 1px;margin: -1px;overflow: hidden;padding: 0;position: absolute;width: 1px;}#sk-container-id-15 div.sk-estimator {font-family: monospace;background-color: #f0f8ff;border: 1px dotted black;border-radius: 0.25em;box-sizing: border-box;margin-bottom: 0.5em;}#sk-container-id-15 div.sk-estimator:hover {background-color: #d4ebff;}#sk-container-id-15 div.sk-parallel-item::after {content: \"\";width: 100%;border-bottom: 1px solid gray;flex-grow: 1;}#sk-container-id-15 div.sk-label:hover label.sk-toggleable__label {background-color: #d4ebff;}#sk-container-id-15 div.sk-serial::before {content: \"\";position: absolute;border-left: 1px solid gray;box-sizing: border-box;top: 0;bottom: 0;left: 50%;z-index: 0;}#sk-container-id-15 div.sk-serial {display: flex;flex-direction: column;align-items: center;background-color: white;padding-right: 0.2em;padding-left: 0.2em;position: relative;}#sk-container-id-15 div.sk-item {position: relative;z-index: 1;}#sk-container-id-15 div.sk-parallel {display: flex;align-items: stretch;justify-content: center;background-color: white;position: relative;}#sk-container-id-15 div.sk-item::before, #sk-container-id-15 div.sk-parallel-item::before {content: \"\";position: absolute;border-left: 1px solid gray;box-sizing: border-box;top: 0;bottom: 0;left: 50%;z-index: -1;}#sk-container-id-15 div.sk-parallel-item {display: flex;flex-direction: column;z-index: 1;position: relative;background-color: white;}#sk-container-id-15 div.sk-parallel-item:first-child::after {align-self: flex-end;width: 50%;}#sk-container-id-15 div.sk-parallel-item:last-child::after {align-self: flex-start;width: 50%;}#sk-container-id-15 div.sk-parallel-item:only-child::after {width: 0;}#sk-container-id-15 div.sk-dashed-wrapped {border: 1px dashed gray;margin: 0 0.4em 0.5em 0.4em;box-sizing: border-box;padding-bottom: 0.4em;background-color: white;}#sk-container-id-15 div.sk-label label {font-family: monospace;font-weight: bold;display: inline-block;line-height: 1.2em;}#sk-container-id-15 div.sk-label-container {text-align: center;}#sk-container-id-15 div.sk-container {/* jupyter's `normalize.less` sets `[hidden] { display: none; }` but bootstrap.min.css set `[hidden] { display: none !important; }` so we also need the `!important` here to be able to override the default hidden behavior on the sphinx rendered scikit-learn.org. See: https://github.com/scikit-learn/scikit-learn/issues/21755 */display: inline-block !important;position: relative;}#sk-container-id-15 div.sk-text-repr-fallback {display: none;}</style><div id=\"sk-container-id-15\" class=\"sk-top-container\"><div class=\"sk-text-repr-fallback\"><pre>GaussianNB()</pre><b>In a Jupyter environment, please rerun this cell to show the HTML representation or trust the notebook. <br />On GitHub, the HTML representation is unable to render, please try loading this page with nbviewer.org.</b></div><div class=\"sk-container\" hidden><div class=\"sk-item\"><div class=\"sk-estimator sk-toggleable\"><input class=\"sk-toggleable__control sk-hidden--visually\" id=\"sk-estimator-id-15\" type=\"checkbox\" checked><label for=\"sk-estimator-id-15\" class=\"sk-toggleable__label sk-toggleable__label-arrow\">GaussianNB</label><div class=\"sk-toggleable__content\"><pre>GaussianNB()</pre></div></div></div></div></div>"
            ],
            "text/plain": [
              "GaussianNB()"
            ]
          },
          "execution_count": 241,
          "metadata": {},
          "output_type": "execute_result"
        }
      ],
      "source": [
        "from sklearn.naive_bayes import GaussianNB\n",
        "\n",
        "nb_classifier = GaussianNB()\n",
        "nb_classifier.fit(X_train, y_train)"
      ]
    },
    {
      "cell_type": "code",
      "execution_count": 242,
      "metadata": {
        "id": "7k-362SUWYnV"
      },
      "outputs": [],
      "source": [
        "y_pred_nb = nb_classifier.predict(X_test)"
      ]
    },
    {
      "cell_type": "markdown",
      "metadata": {
        "id": "GVay1TDT5EdU"
      },
      "source": [
        "### Check accuracy score with naive bayes"
      ]
    },
    {
      "cell_type": "code",
      "execution_count": 243,
      "metadata": {
        "colab": {
          "base_uri": "https://localhost:8080/"
        },
        "id": "hNDcIkuD5EdV",
        "outputId": "98c595ae-7b8a-427e-9b68-13d9fae60e7a",
        "trusted": true
      },
      "outputs": [
        {
          "name": "stdout",
          "output_type": "stream",
          "text": [
            "Model accuracy score with naive bayes: 0.8570\n"
          ]
        }
      ],
      "source": [
        "from sklearn.metrics import accuracy_score\n",
        "\n",
        "print('Model accuracy score with naive bayes: {0:0.4f}'. format(accuracy_score(y_test, y_pred_nb)))"
      ]
    },
    {
      "cell_type": "markdown",
      "metadata": {
        "id": "yfriUvfH9brJ"
      },
      "source": [
        "# **Classification Report** <a class=\"anchor\" id=\"16\"></a>\n",
        "\n",
        "\n",
        "\n",
        "**Classification report** is another way to evaluate the classification model performance. It displays the  **precision**, **recall**, **f1** and **support** scores for the model. I have described these terms in later.\n",
        "\n",
        "We can print a classification report as follows:-"
      ]
    },
    {
      "cell_type": "code",
      "execution_count": 244,
      "metadata": {
        "colab": {
          "base_uri": "https://localhost:8080/"
        },
        "id": "jUGU_v049brJ",
        "outputId": "deaea2e8-8dae-4938-acc6-a7519c308a4c",
        "scrolled": true,
        "trusted": true
      },
      "outputs": [
        {
          "name": "stdout",
          "output_type": "stream",
          "text": [
            "              precision    recall  f1-score   support\n",
            "\n",
            "           0       1.00      1.00      1.00      1218\n",
            "           1       0.99      1.00      0.99       694\n",
            "           2       0.99      0.99      0.99        83\n",
            "           3       1.00      1.00      1.00         5\n",
            "\n",
            "    accuracy                           1.00      2000\n",
            "   macro avg       0.99      1.00      1.00      2000\n",
            "weighted avg       1.00      1.00      1.00      2000\n",
            "\n"
          ]
        }
      ],
      "source": [
        "# DECISION TREE ENTROPY\n",
        "from sklearn.metrics import classification_report\n",
        "\n",
        "print(classification_report(y_test, y_pred_en))"
      ]
    },
    {
      "cell_type": "code",
      "execution_count": 245,
      "metadata": {
        "colab": {
          "base_uri": "https://localhost:8080/"
        },
        "id": "Gn-w_X_f3vkq",
        "outputId": "34c06f3c-914d-465e-85e1-877e7a07cc6a"
      },
      "outputs": [
        {
          "name": "stdout",
          "output_type": "stream",
          "text": [
            "              precision    recall  f1-score   support\n",
            "\n",
            "           0       1.00      1.00      1.00      1218\n",
            "           1       0.99      1.00      0.99       694\n",
            "           2       0.99      0.99      0.99        83\n",
            "           3       1.00      1.00      1.00         5\n",
            "\n",
            "    accuracy                           1.00      2000\n",
            "   macro avg       0.99      1.00      1.00      2000\n",
            "weighted avg       1.00      1.00      1.00      2000\n",
            "\n"
          ]
        }
      ],
      "source": [
        "# DECISION TREE GINI\n",
        "print(classification_report(y_test, y_pred_gini))"
      ]
    },
    {
      "cell_type": "code",
      "execution_count": 246,
      "metadata": {
        "colab": {
          "base_uri": "https://localhost:8080/"
        },
        "id": "CNbdyxWy4axZ",
        "outputId": "332ed63d-091e-4254-f4c0-28e5da3d67e5"
      },
      "outputs": [
        {
          "name": "stdout",
          "output_type": "stream",
          "text": [
            "              precision    recall  f1-score   support\n",
            "\n",
            "           0       0.85      1.00      0.92      1218\n",
            "           1       0.88      0.70      0.78       694\n",
            "           2       0.71      0.14      0.24        83\n",
            "           3       0.00      0.00      0.00         5\n",
            "\n",
            "    accuracy                           0.86      2000\n",
            "   macro avg       0.61      0.46      0.48      2000\n",
            "weighted avg       0.85      0.86      0.84      2000\n",
            "\n"
          ]
        }
      ],
      "source": [
        "# DECISION TREE NAIVE BAYES\n",
        "print(classification_report(y_test, y_pred_nb))"
      ]
    },
    {
      "cell_type": "markdown",
      "metadata": {},
      "source": [
        "From the results of gini, entropy and NV we can see that the one that did the worst is NV with a prediction accuracy of 0.85 where as both gini and entropy did a 0.99"
      ]
    },
    {
      "cell_type": "code",
      "execution_count": 247,
      "metadata": {
        "colab": {
          "base_uri": "https://localhost:8080/"
        },
        "id": "0xS47iQi5g9l",
        "outputId": "77dc4b81-8983-4243-bbac-b06400f7f404"
      },
      "outputs": [
        {
          "name": "stdout",
          "output_type": "stream",
          "text": [
            "Prediction: 1\n",
            "The predicted class for the given input using the gini index model is: Mild\n"
          ]
        }
      ],
      "source": [
        "# Make a prediction with the gini index model\n",
        "\n",
        "input_data = {\n",
        "    'Age': 28,\n",
        "    'Gender': Gender_map['Male'],\n",
        "    'Country': Country_map['Brazil'],\n",
        "    'Coffee_Intake': 3,\n",
        "    'Caffeine_mg': 280,\n",
        "    'Sleep_Hours': 5,\n",
        "    'Sleep_Quality': Sleep_Quality_map['Poor'],\n",
        "    'BMI': 25.4,\n",
        "    'Heart_Rate': 85,\n",
        "    'Stress_Level': Stress_Level_map['High'],\n",
        "    'Physical_Activity_Hours': 2,\n",
        "    'Occupation': Occupation_map['Student'],\n",
        "    'Smoking': 1,\n",
        "    'Alcohol_Consumption': 1 \n",
        "}\n",
        "\n",
        "# Convert the input data to a pandas DataFrame\n",
        "input_df = pd.DataFrame([input_data])\n",
        "\n",
        "# Make the prediction using the gini model\n",
        "prediction_gini = clf_gini.predict(input_df)\n",
        "\n",
        "print(\"Prediction:\", prediction_gini[0])\n",
        "\n",
        "\n",
        "# reverse dictionary\n",
        "inverse_prediction_gini = {v:k for k,v in Health_Issues_map.items()}\n",
        "\n",
        "print(f\"The predicted class for the given input using the gini index model is: {inverse_prediction_gini[prediction_gini[0]]}\")"
      ]
    },
    {
      "cell_type": "markdown",
      "metadata": {},
      "source": [
        "I use gini because both my gini and entropy prediction results are the same, so either one is fine"
      ]
    }
  ],
  "metadata": {
    "colab": {
      "provenance": []
    },
    "kernelspec": {
      "display_name": "base",
      "language": "python",
      "name": "python3"
    },
    "language_info": {
      "codemirror_mode": {
        "name": "ipython",
        "version": 3
      },
      "file_extension": ".py",
      "mimetype": "text/x-python",
      "name": "python",
      "nbconvert_exporter": "python",
      "pygments_lexer": "ipython3",
      "version": "3.11.5"
    }
  },
  "nbformat": 4,
  "nbformat_minor": 0
}
